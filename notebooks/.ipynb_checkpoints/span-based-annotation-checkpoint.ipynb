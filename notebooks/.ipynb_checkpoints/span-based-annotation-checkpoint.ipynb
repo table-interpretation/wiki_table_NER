{
 "cells": [
  {
   "cell_type": "code",
   "execution_count": 1,
   "id": "399adbf8",
   "metadata": {},
   "outputs": [],
   "source": [
    "from transformers import pipeline\n",
    "from transformers import AutoModel, AutoTokenizer, AutoModelForTokenClassification\n",
    "from transformers import BertForTokenClassification,BertTokenizerFast"
   ]
  },
  {
   "cell_type": "code",
   "execution_count": 2,
   "id": "da7e92da",
   "metadata": {},
   "outputs": [],
   "source": [
    "import pandas as pd\n",
    "import json\n",
    "import csv\n",
    "import os\n",
    "import numpy as np\n",
    "import torch\n",
    "import openai\n",
    "import re\n",
    "from collections import defaultdict"
   ]
  },
  {
   "cell_type": "code",
   "execution_count": 3,
   "id": "c500f9d4",
   "metadata": {},
   "outputs": [],
   "source": [
    "seed_nr = 42\n",
    "generator = torch.Generator().manual_seed(seed_nr)"
   ]
  },
  {
   "cell_type": "code",
   "execution_count": null,
   "id": "34a8cf76",
   "metadata": {},
   "outputs": [],
   "source": [
    "table = dataset_df.iloc[10136]\n",
    "tab_id = table[\"_id\"]\n",
    "tableHeaders = table[\"tableHeaders\"]\n",
    "table_data = table[\"tableData\"]\n",
    "\n",
    "#print(tableHeaders)\n",
    "\n",
    "tableHeaders = table[\"tableHeaders\"]\n",
    "table_data = table[\"tableData\"]\n",
    "\n",
    "for i, row in enumerate(table_data):\n",
    "   \n",
    "    for cell in range(len(row)):        \n",
    "        cell_text = row[cell]['text']           \n",
    "        \n",
    "        nerClassifier = pipeline('ner', model=model, tokenizer=tokenizer, aggregation_strategy=\"first\") \n",
    "        # here do lookup for the correct label and span\n",
    "        print(nerClassifier(cell_text))\n",
    "        print('\\n')\n",
    "\n",
    "        new_anno = token_classifier(cell_text)\n",
    "        grouped = token_classifier.group_entities(new_anno)\n",
    "        #print(grouped)\n",
    "        #print('\\n')"
   ]
  },
  {
   "cell_type": "markdown",
   "id": "68c90a11",
   "metadata": {},
   "source": [
    "### Without pipeline"
   ]
  },
  {
   "cell_type": "code",
   "execution_count": 5,
   "id": "30648514",
   "metadata": {},
   "outputs": [],
   "source": [
    "def tab_to_csv(tableHeaders, table_data):\n",
    "\n",
    "    table_contents = \"\"\n",
    "    table_dict = {}\n",
    "\n",
    "    columns = [tableHeaders[i][1] for i in range(len(tableHeaders))]\n",
    "\n",
    "    table_contents = \"\"\"Table:\\n\"\"\"\n",
    "    table_contents += ','.join([str(c) for c in columns])\n",
    "    table_contents += '\\n'\n",
    "    \n",
    "\n",
    "    for cell_info, content in table_data:    \n",
    "        row, col = cell_info\n",
    "        table_dict.setdefault(row, {})[col] = content  \n",
    "\n",
    "    num_rows = max(table_dict.keys()) + 1\n",
    "    num_cols = max(max(row.keys()) for row in table_dict.values()) + 1\n",
    "\n",
    "    table_matrix = [['' for _ in range(num_cols)] for _ in range(num_rows)]\n",
    "\n",
    "    for row, cols in table_dict.items():\n",
    "        for col, content in cols.items():\n",
    "            table_matrix[row][col] = content\n",
    "    \n",
    "    for i in range(len(table_matrix)):\n",
    "        table_contents += ','.join([str(c) for c in table_matrix[i]])\n",
    "        table_contents += '\\n'\n",
    "        \n",
    "    return table_contents, table_matrix"
   ]
  },
  {
   "cell_type": "code",
   "execution_count": 6,
   "id": "a62bca64",
   "metadata": {},
   "outputs": [],
   "source": [
    "data_path=\"../data/ner_annotated_tables.json\"\n",
    "with open(data_path, 'r') as f:\n",
    "    ner_tables = json.load(f)"
   ]
  },
  {
   "cell_type": "code",
   "execution_count": null,
   "id": "500aaf03",
   "metadata": {},
   "outputs": [],
   "source": [
    "cell_text = table_data[row_id][col_id]\n",
    "\n",
    "token_start = cell_text.index(entity_text[0])\n",
    "token_end = cell_text.index(entity_text[-1])+1"
   ]
  },
  {
   "cell_type": "code",
   "execution_count": 31,
   "id": "29cd666b",
   "metadata": {},
   "outputs": [
    {
     "data": {
      "text/plain": [
       "[[[0, 2, 0, 18, 1], [0, 2, 21, 29, 3], [0, 2, 14, 19, 3]],\n",
       " [[0, 6, 0, 30, 2]],\n",
       " [[1, 2, 0, 16, 6], [1, 2, 19, 23, 3], [1, 2, 10, 15, 3]],\n",
       " [[1, 6, 0, 21, 2]],\n",
       " [[2, 2, 0, 24, 6], [2, 2, 27, 33, 3], [2, 2, 12, 18, 3]],\n",
       " [[2, 3, 0, 14, 0]],\n",
       " [[2, 6, 0, 29, 2]],\n",
       " [[3, 2, 0, 18, 1], [3, 2, 21, 29, 3], [3, 2, 14, 19, 3]],\n",
       " [[3, 6, 0, 30, 2]],\n",
       " [[4, 2, 0, 31, 6], [4, 2, 34, 43, 3], [4, 2, 15, 20, 3]],\n",
       " [[4, 3, 0, 8, 0]],\n",
       " [[4, 6, 0, 22, 6]],\n",
       " [[5, 2, 0, 18, 1], [5, 2, 21, 29, 3], [5, 2, 14, 19, 3]],\n",
       " [[5, 6, 0, 30, 2]],\n",
       " [[6, 2, 0, 28, 1], [6, 2, 31, 42, 6], [6, 2, 17, 20, 3]],\n",
       " [[6, 6, 0, 30, 2]],\n",
       " [[7, 2, 0, 28, 1], [7, 2, 31, 42, 6], [7, 2, 17, 20, 3]],\n",
       " [[7, 6, 0, 30, 2]],\n",
       " [[8, 2, 0, 27, 6], [8, 2, 30, 35, 3], [8, 2, 11, 18, 3]],\n",
       " [[8, 6, 0, 29, 2]],\n",
       " [[9, 2, 0, 18, 1], [9, 2, 21, 29, 3], [9, 2, 14, 19, 3]],\n",
       " [[9, 6, 0, 29, 2]]]"
      ]
     },
     "execution_count": 31,
     "metadata": {},
     "output_type": "execute_result"
    }
   ],
   "source": [
    "ser_correct_annotations"
   ]
  },
  {
   "cell_type": "code",
   "execution_count": 7,
   "id": "c309a1de",
   "metadata": {},
   "outputs": [],
   "source": [
    "simple_train_set, simple_test_set = torch.utils.data.random_split(ner_tables, [43600, 7693],generator=generator)"
   ]
  },
  {
   "cell_type": "code",
   "execution_count": 8,
   "id": "590e1a51",
   "metadata": {},
   "outputs": [],
   "source": [
    "labels_dict = {\"Organization\":0, # Agent\n",
    "\"ArchitecturalStructure\":1,\n",
    "\"Event\":2,\n",
    "\"Place\":3,\n",
    "\"Person\":4, # Spicies\n",
    "\"Work\":5}"
   ]
  },
  {
   "cell_type": "code",
   "execution_count": 9,
   "id": "32e317f7",
   "metadata": {},
   "outputs": [
    {
     "data": {
      "text/plain": [
       "[31995, 10136]"
      ]
     },
     "execution_count": 9,
     "metadata": {},
     "output_type": "execute_result"
    }
   ],
   "source": [
    "simple_test_set.indices[0:2]"
   ]
  },
  {
   "cell_type": "code",
   "execution_count": 10,
   "id": "bc7daf31",
   "metadata": {},
   "outputs": [],
   "source": [
    "table = ner_tables[43297][0]\n",
    "tab_id = table[0]\n",
    "tableHeaders = table[4]\n",
    "table_data = table[5]\n",
    "\n",
    "header_labels = table[6]\n",
    "row_labels = table[7]\n",
    "\n",
    "table_csv, mtx = tab_to_csv(tableHeaders, table_data)\n",
    "\n",
    "ser_correct_annotations = []\n",
    "\n",
    "#if len(header_labels)>0:\n",
    "#    ser_correct_annotations.append([])\n",
    "\n",
    "for i in range(len(row_labels)):\n",
    "    if len(row_labels[i][0]) > 0:\n",
    "        ser_correct_annotations.append(row_labels[i][0])\n"
   ]
  },
  {
   "cell_type": "code",
   "execution_count": 96,
   "id": "3330ca2a",
   "metadata": {},
   "outputs": [
    {
     "data": {
      "text/plain": [
       "[[[[0, 0, 10, 17, 6]],\n",
       "  [['k', 'O'],\n",
       "   ['-', 'O'],\n",
       "   ['1', 'O'],\n",
       "   ['500', 'O'],\n",
       "   ['m', 'O'],\n",
       "   ['details', 'O']]],\n",
       " [[[0, 1, 0, 15, 6], [0, 1, 16, 26, 6]],\n",
       "  [['ta', 'O'],\n",
       "   ['##tya', 'O'],\n",
       "   ['##na', 'O'],\n",
       "   ['ser', 'O'],\n",
       "   ['##gina', 'O'],\n",
       "   ['kazakhstan', 'O'],\n",
       "   ['(', 'O'],\n",
       "   ['ka', 'O'],\n",
       "   ['##z', 'O'],\n",
       "   [')', 'O']]],\n",
       " [[[0, 2, 0, 15, 6], [0, 2, 16, 21, 6]],\n",
       "  [['say', 'O'],\n",
       "   ['##uri', 'O'],\n",
       "   ['maru', 'O'],\n",
       "   ['##yama', 'O'],\n",
       "   ['japan', 'O'],\n",
       "   ['(', 'O'],\n",
       "   ['jp', 'O'],\n",
       "   ['##n', 'O'],\n",
       "   [')', 'O']]],\n",
       " [[[0, 3, 0, 12, 6], [0, 3, 13, 18, 6]],\n",
       "  [['zhou', 'O'],\n",
       "   ['ying', 'O'],\n",
       "   ['##ji', 'O'],\n",
       "   ['##e', 'O'],\n",
       "   ['china', 'O'],\n",
       "   ['(', 'O'],\n",
       "   ['ch', 'O'],\n",
       "   ['##n', 'O'],\n",
       "   [')', 'O']]],\n",
       " [[[1, 0, 10, 17, 6]],\n",
       "  [['k', 'O'],\n",
       "   ['-', 'O'],\n",
       "   ['2', 'O'],\n",
       "   ['500', 'O'],\n",
       "   ['m', 'O'],\n",
       "   ['details', 'O']]],\n",
       " [[[1, 1, 0, 5, 6], [1, 1, 12, 22, 4], [1, 1, 18, 31, 6]],\n",
       "  [['china', 'O'],\n",
       "   ['(', 'O'],\n",
       "   ['ch', 'O'],\n",
       "   ['##n', 'O'],\n",
       "   [')', 'O'],\n",
       "   ['gao', 'B-Person'],\n",
       "   ['bei', 'I-Person'],\n",
       "   ['##bei', 'I-Person'],\n",
       "   ['z', 'O'],\n",
       "   ['##hong', 'O'],\n",
       "   ['hong', 'O'],\n",
       "   ['##yan', 'O']]],\n",
       " [[[1, 2, 0, 10, 6], [1, 2, 17, 34, 6], [1, 2, 25, 40, 6]],\n",
       "  [['kazakhstan', 'O'],\n",
       "   ['(', 'O'],\n",
       "   ['ka', 'O'],\n",
       "   ['##z', 'O'],\n",
       "   [')', 'O'],\n",
       "   ['natal', 'O'],\n",
       "   ['##ya', 'O'],\n",
       "   ['sergey', 'O'],\n",
       "   ['##eva', 'O'],\n",
       "   ['ta', 'O'],\n",
       "   ['##tya', 'O'],\n",
       "   ['##na', 'O'],\n",
       "   ['ser', 'O'],\n",
       "   ['##gina', 'O']]],\n",
       " [[[1, 3, 0, 10, 6], [1, 3, 17, 31, 6], [1, 3, 22, 41, 6]],\n",
       "  [['uzbekistan', 'O'],\n",
       "   ['(', 'O'],\n",
       "   ['u', 'O'],\n",
       "   ['##z', 'O'],\n",
       "   ['##b', 'O'],\n",
       "   [')', 'O'],\n",
       "   ['tatiana', 'O'],\n",
       "   ['levin', 'O'],\n",
       "   ['##a', 'O'],\n",
       "   ['ok', 'O'],\n",
       "   ['##san', 'O'],\n",
       "   ['##a', 'O'],\n",
       "   ['sh', 'O'],\n",
       "   ['##pi', 'O'],\n",
       "   ['##gan', 'O'],\n",
       "   ['##evich', 'O']]],\n",
       " [[[2, 0, 10, 17, 6]],\n",
       "  [['k', 'O'],\n",
       "   ['-', 'O'],\n",
       "   ['4', 'O'],\n",
       "   ['500', 'O'],\n",
       "   ['m', 'O'],\n",
       "   ['details', 'O']]],\n",
       " [[[2, 1, 0, 5, 6],\n",
       "   [2, 1, 12, 23, 6],\n",
       "   [2, 1, 19, 29, 4],\n",
       "   [2, 1, 12, 22, 6],\n",
       "   [2, 1, 12, 25, 6]],\n",
       "  [['china', 'O'],\n",
       "   ['(', 'O'],\n",
       "   ['ch', 'O'],\n",
       "   ['##n', 'O'],\n",
       "   [')', 'O'],\n",
       "   ['fang', 'O'],\n",
       "   ['ai', 'O'],\n",
       "   ['##ling', 'O'],\n",
       "   ['gao', 'B-Person'],\n",
       "   ['bei', 'I-Person'],\n",
       "   ['##bei', 'I-Person'],\n",
       "   ['liu', 'O'],\n",
       "   ['z', 'O'],\n",
       "   ['##him', 'O'],\n",
       "   ['##in', 'O'],\n",
       "   ['xi', 'O'],\n",
       "   ['##an', 'O'],\n",
       "   ['bang', 'O'],\n",
       "   ['##xing', 'O']]],\n",
       " [[[2, 2, 0, 10, 6],\n",
       "   [2, 2, 17, 29, 6],\n",
       "   [2, 2, 20, 38, 6],\n",
       "   [2, 2, 20, 33, 6],\n",
       "   [2, 2, 15, 34, 6]],\n",
       "  [['uzbekistan', 'O'],\n",
       "   ['(', 'O'],\n",
       "   ['u', 'O'],\n",
       "   ['##z', 'O'],\n",
       "   ['##b', 'O'],\n",
       "   [')', 'O'],\n",
       "   ['inn', 'O'],\n",
       "   ['##a', 'O'],\n",
       "   ['isa', 'O'],\n",
       "   ['##kova', 'O'],\n",
       "   ['anton', 'O'],\n",
       "   ['##ina', 'O'],\n",
       "   ['mo', 'O'],\n",
       "   ['##ska', 'O'],\n",
       "   ['##lev', 'O'],\n",
       "   ['##a', 'O'],\n",
       "   ['irina', 'O'],\n",
       "   ['l', 'O'],\n",
       "   ['##yal', 'O'],\n",
       "   ['##ina', 'O'],\n",
       "   ['ok', 'O'],\n",
       "   ['##san', 'O'],\n",
       "   ['##a', 'O'],\n",
       "   ['sh', 'O'],\n",
       "   ['##pi', 'O'],\n",
       "   ['##gan', 'O'],\n",
       "   ['##evich', 'O']]],\n",
       " [[[2, 3, 0, 11, 6],\n",
       "   [2, 3, 18, 29, 6],\n",
       "   [2, 3, 19, 31, 6],\n",
       "   [2, 3, 14, 28, 6],\n",
       "   [2, 3, 16, 28, 6]],\n",
       "  [['north', 'O'],\n",
       "   ['korea', 'O'],\n",
       "   ['(', 'O'],\n",
       "   ['pr', 'O'],\n",
       "   ['##k', 'O'],\n",
       "   [')', 'O'],\n",
       "   ['jo', 'O'],\n",
       "   ['jong', 'O'],\n",
       "   ['-', 'O'],\n",
       "   ['h', 'O'],\n",
       "   ['##wa', 'O'],\n",
       "   ['ri', 'O'],\n",
       "   ['my', 'O'],\n",
       "   ['##ong', 'O'],\n",
       "   ['-', 'O'],\n",
       "   ['bo', 'O'],\n",
       "   ['##k', 'O'],\n",
       "   ['pang', 'O'],\n",
       "   ['my', 'O'],\n",
       "   ['##ong', 'O'],\n",
       "   ['-', 'O'],\n",
       "   ['sun', 'O'],\n",
       "   ['kang', 'O'],\n",
       "   ['yo', 'O'],\n",
       "   ['##n', 'O'],\n",
       "   ['-', 'O'],\n",
       "   ['su', 'O'],\n",
       "   ['##k', 'O']]]]"
      ]
     },
     "execution_count": 96,
     "metadata": {},
     "output_type": "execute_result"
    }
   ],
   "source": [
    "row_labels"
   ]
  },
  {
   "cell_type": "markdown",
   "id": "888f9443",
   "metadata": {},
   "source": [
    "#### Here adding the entity types without BIO tags - NOT USED"
   ]
  },
  {
   "cell_type": "code",
   "execution_count": 68,
   "id": "18c9bdbd",
   "metadata": {},
   "outputs": [],
   "source": [
    "for idx in simple_test_set.indices:\n",
    "    table = dataset_df.iloc[idx]\n",
    "    tab_id = table[\"_id\"]\n",
    "  #  tab_csv = read_csv(tab_id)\n",
    "    tableHeaders = table[\"tableHeaders\"]\n",
    "    table_data = table[\"tableData\"]\n",
    "\n",
    "    for i, row in enumerate(table_data):\n",
    "        data_row = []\n",
    "        \n",
    "        for cell in range(len(row)):\n",
    "            \n",
    "            cell_text = row[cell]['text']\n",
    "            cell_tokens = row[cell]['tokenized']\n",
    "            cell_mapped = row[cell]['mapped']\n",
    "            cell_mapped2 = row[cell]['mapped2']\n",
    "            \n",
    "\n",
    "            new_anno = token_classifier(cell_text)\n",
    "            \n",
    "            if len(new_anno)>0:\n",
    "                \n",
    "                #print(type(row[cell]['annotation']))\n",
    "                grouped = token_classifier.group_entities(new_anno)\n",
    "                new_anno = add_NER(i, cell, grouped, labels_dict)                 \n",
    "                row[cell]['annotation'] = new_anno            "
   ]
  },
  {
   "cell_type": "code",
   "execution_count": 69,
   "id": "229e9a52",
   "metadata": {},
   "outputs": [],
   "source": [
    "test_tables = dataset_df.iloc[simple_test_set.indices]\n",
    "test_tables.to_csv('span_based_test_tables.csv', index=False)"
   ]
  },
  {
   "cell_type": "code",
   "execution_count": 14,
   "id": "7127ecd1",
   "metadata": {},
   "outputs": [],
   "source": [
    "test_tables = pd.read_csv('span_based_test_tables.csv')"
   ]
  },
  {
   "cell_type": "code",
   "execution_count": 27,
   "id": "5c85fdec",
   "metadata": {},
   "outputs": [
    {
     "data": {
      "text/plain": [
       "7693"
      ]
     },
     "execution_count": 27,
     "metadata": {},
     "output_type": "execute_result"
    }
   ],
   "source": [
    "len(test_tables)"
   ]
  },
  {
   "cell_type": "code",
   "execution_count": 19,
   "id": "acd24dfb",
   "metadata": {},
   "outputs": [],
   "source": [
    "# to return the types of the columns to lists\n",
    "test_tables[\"tableData\"] = test_tables[\"tableData\"].apply(eval)\n",
    "test_tables[\"tableHeaders\"] = test_tables[\"tableHeaders\"].apply(eval)"
   ]
  },
  {
   "cell_type": "markdown",
   "id": "23971ccc",
   "metadata": {},
   "source": [
    "### GPT prompting eval"
   ]
  },
  {
   "cell_type": "code",
   "execution_count": 11,
   "id": "51cca06c",
   "metadata": {},
   "outputs": [],
   "source": [
    "openai.api_type = \"azure\"\n",
    "openai.api_base = \"https://openai-aiattack-000518-eastus-01.openai.azure.com/\"\n",
    "openai.api_version = \"2022-12-01\"\n",
    "openai.api_key = \"1f4b80860e134ab4be99a0766dbd8813\""
   ]
  },
  {
   "cell_type": "code",
   "execution_count": 58,
   "id": "841960af",
   "metadata": {},
   "outputs": [],
   "source": [
    "def get_gpt_answer(prompt, tab_id):\n",
    "    response = {}\n",
    "   \n",
    "    response = openai.Completion.create(\n",
    "    engine=\"text-davinci-003\",\n",
    "    prompt=prompt,\n",
    "    temperature=0.5,\n",
    "    max_tokens=2000,\n",
    "    top_p=0.5,\n",
    "    frequency_penalty=0,\n",
    "    presence_penalty=0,\n",
    "    stop=None)\n",
    "\n",
    "    if len(response) > 0:\n",
    "\n",
    "        choices = response[\"choices\"]\n",
    "        result = choices[0]\n",
    "        text = result[\"text\"]\n",
    "        print(text)\n",
    "        try:        \n",
    "            match_start = re.search('\\[\\{', text)\n",
    "            match_end = re.search('\\}\\]', text)\n",
    "            json_start = match_start.span()[1]-2\n",
    "            json_end = match_end.span()[1]      \n",
    "            extraction_dict = json.loads(text[json_start:json_end])\n",
    "        except:\n",
    "            extraction_dict = {}\n",
    "            with open('log_file_davinci.txt', 'w+') as file:\n",
    "                file.write(\"{}:{}\".format(tab_id, text))\n",
    "                file.write(\"\\n\")            \n",
    "\n",
    "    return extraction_dict"
   ]
  },
  {
   "cell_type": "code",
   "execution_count": 59,
   "id": "36ba8b35",
   "metadata": {},
   "outputs": [],
   "source": [
    "def calc_results(list_gt, list_predict, class_wise = False):\n",
    "\n",
    "    #print('GT', list_gt)\n",
    "    #print('GPT', list_predict)\n",
    "    correct_preds, total_correct, total_preds = 0., 0., 0.\n",
    "    \n",
    "    correct_preds_dict = defaultdict(int)\n",
    "    total_correct_dict = defaultdict(int)\n",
    "    total_preds_dict = defaultdict(int)\n",
    "    f1_dict = defaultdict(float)\n",
    "    \n",
    "    p, r, f1 = 0., 0., 0.\n",
    "    \n",
    "    \n",
    "    if len(list_predict) > 0 :\n",
    "        for i in range(len(list_gt)):  #one sublist of list_gt is one table         \n",
    "            to_eval = []       \n",
    "            if class_wise:\n",
    "                # count all ground truth\n",
    "                for span in list_gt[i]:\n",
    "                   # print(span)\n",
    "                    cls = span[-1]\n",
    "                    if cls == 6:\n",
    "                        continue\n",
    "                    else:\n",
    "                        to_eval.append(span)\n",
    "                        total_correct_dict[cls] += 1\n",
    "                for span1 in list_predict[i]:\n",
    "                    cls = span1[-1]\n",
    "                    total_preds_dict[cls] += 1\n",
    "                    for span2 in list_gt[i]:\n",
    "                        if span1 == span2:\n",
    "                            correct_preds_dict[cls] += 1\n",
    "\n",
    "            \n",
    "            \n",
    "            set_predict = set(list_predict[i])            \n",
    "            set_gt = set(to_eval)\n",
    "            \n",
    "            if len(set_gt) > 0:            \n",
    "\n",
    "                correct_preds += len(set_gt.intersection(set_predict))            \n",
    "                total_preds += len(list_predict[i])\n",
    "                total_correct += len(to_eval) # count only those where class is not 6\n",
    "            \n",
    "        if class_wise:\n",
    "            for k in correct_preds_dict:\n",
    "                p = correct_preds_dict[k] / total_preds_dict[k] if correct_preds_dict[k] > 0 else 0\n",
    "                r = correct_preds_dict[k] / total_correct_dict[k] if correct_preds_dict[k] > 0 else 0\n",
    "                f1_dict[k] = 2 * p * r / (p + r) if correct_preds_dict[k] > 0 else 0\n",
    "\n",
    "\n",
    "        p = correct_preds / total_preds if correct_preds > 0 else 0\n",
    "        r = correct_preds / total_correct if correct_preds > 0 else 0\n",
    "        f1 = 2 * p * r / (p + r) if correct_preds > 0 else 0\n",
    "\n",
    "    return p, r, f1, f1_dict"
   ]
  },
  {
   "cell_type": "code",
   "execution_count": 60,
   "id": "4448313c",
   "metadata": {},
   "outputs": [
    {
     "data": {
      "text/plain": [
       "(0.3333333333333333,\n",
       " 0.3333333333333333,\n",
       " 0.3333333333333333,\n",
       " defaultdict(float, {3: 1.0}))"
      ]
     },
     "execution_count": 60,
     "metadata": {},
     "output_type": "execute_result"
    }
   ],
   "source": [
    "calc_results(a,b,True)"
   ]
  },
  {
   "cell_type": "code",
   "execution_count": 51,
   "id": "4aebca23",
   "metadata": {},
   "outputs": [],
   "source": [
    "def gpt_responce(table_matrix, json_response, labels_dict):\n",
    "    gpt_ners = []\n",
    "    failure_count = 0\n",
    "    \n",
    "    for entity in json_response:\n",
    "        try:\n",
    "            entity_text = entity['entity']\n",
    "\n",
    "            row_id = entity['cell_index'][0]\n",
    "            col_id = entity['cell_index'][1]\n",
    "\n",
    "            label = labels_dict[entity['type']]\n",
    "\n",
    "            cell_text = table_matrix[row_id][col_id]\n",
    "\n",
    "            span_search = re.search(entity_text, cell_text)\n",
    "            \n",
    "            token_start = span_search.span()[0]\n",
    "            token_end = span_search.span()[1] \n",
    "\n",
    "            gpt_ners.append((row_id, col_id, token_start, token_end, label))\n",
    "        except Exception as e:                       \n",
    "            \n",
    "            failure_count += 1\n",
    "            continue\n",
    "\n",
    "    return gpt_ners"
   ]
  },
  {
   "cell_type": "markdown",
   "id": "86456484",
   "metadata": {},
   "source": [
    "### The table data is now messed... need to test if the position of the token remains the same after transformation"
   ]
  },
  {
   "cell_type": "code",
   "execution_count": 45,
   "id": "22d68589",
   "metadata": {},
   "outputs": [],
   "source": [
    "base_prompt =\"\"\" You are an NER expert. Extract entities from the input table using only these types: {}, {}, {}, {}, {}, {}.\"\"\".format(*list(labels_dict.keys()))"
   ]
  },
  {
   "cell_type": "code",
   "execution_count": 46,
   "id": "c559daee",
   "metadata": {},
   "outputs": [],
   "source": [
    "instruction_prompt = \"\"\"\n",
    "Example:\n",
    "Input table:\n",
    "Draw,Artist,First song (original artist),Draw,Second song (original artist),Result\n",
    "1,Mark Evans,\" Rock Your Body \" ( Justin Timberlake ),5,\" I Don't Want to Talk About It \" ( Rod Stewart ),Safe,\n",
    "\n",
    "Output:\n",
    "[{\"entity\": \"Mark Evans\",   \"type\": \"Person\",   \"cell_index\": [0, 1] },    \n",
    "{\"entity\": \"Justin Timberlake\",    \"type\": \"Person\",    \"cell_index\": [0, 2]},    \n",
    "{\"entity\": \"Rock Your Body\",    \"type\": \"Work\",    \"cell_index\": [0, 2]}]\"\"\""
   ]
  },
  {
   "cell_type": "code",
   "execution_count": 66,
   "id": "a6a79464",
   "metadata": {},
   "outputs": [],
   "source": [
    "def main():\n",
    "    all_gt_annotations = []\n",
    "    all_predict_annotations = []\n",
    "    e = 0\n",
    "    for idx in simple_test_set.indices[0:2]:\n",
    "        \n",
    "        ser_correct_annot = []   \n",
    "        gpt_ser_pred = []\n",
    "        \n",
    "        table = ner_tables[idx][0]\n",
    "        tab_id = table[0]\n",
    "        tableHeaders = table[4]\n",
    "        table_data = table[5]\n",
    "\n",
    "        header_labels = table[6]\n",
    "        row_labels = table[7]\n",
    "        \n",
    "\n",
    "        table_csv, table_matrix = tab_to_csv(tableHeaders, table_data)\n",
    "        \n",
    "        print(table_matrix)\n",
    "\n",
    "        for i in range(len(row_labels)):\n",
    "            if len(row_labels[i][0]) > 0:\n",
    "                ser_correct_annot.append(row_labels[i][0])\n",
    "\n",
    "        prompt = \"\"\"Input table: {} '\\n' Do not extend the content of the table.\"\"\".format(table_csv)\n",
    "        \n",
    "\n",
    "        if len(ser_correct_annot) > 0: # look for ChatGPT annotations only if we have GT\n",
    "            \n",
    "            e+=1\n",
    "            ser_gt = [tuple(item) for sublist in ser_correct_annot for item in sublist]  \n",
    "                        \n",
    "            gpt_ser_annot = get_gpt_answer(base_prompt + instruction_prompt + prompt, tab_id)\n",
    "            \n",
    "            print(gpt_ser_annot)\n",
    "            \n",
    "            if len(gpt_ser_annot) > 0:\n",
    "                gpt_ser_pred = gpt_responce(table_matrix, gpt_ser_annot, labels_dict)\n",
    "\n",
    "            all_gt_annotations.append(ser_gt)\n",
    "            all_predict_annotations.append(gpt_ser_pred)\n",
    "            \n",
    "           # print(all_gt_annotations)\n",
    "        \n",
    "        if e%10==0:\n",
    "            p, r, f1, f1_class = calc_results(all_gt_annotations, all_predict_annotations, class_wise=True)\n",
    "            print(\"Current eval {}, precision {}, recall {} and f1 {}. Class wise res {}\".format(e, p, r, f1, f1_class))\n",
    "            \n",
    "    p, r, f1, f1_class = calc_results(all_gt_annotations, all_predict_annotations, class_wise=True)\n",
    "    \n",
    "    return p, r, f1, f1_class"
   ]
  },
  {
   "cell_type": "code",
   "execution_count": 67,
   "id": "8f5828f4",
   "metadata": {
    "scrolled": true
   },
   "outputs": [
    {
     "name": "stdout",
     "output_type": "stream",
     "text": [
      "[['R2 First Leg', '23 September 1986', 'Swansea City', 'A', '2–0', '9,590', 'McAllister , Smith'], ['R2 Second Leg', '8 October 1986', 'Swansea City', 'H', '4–2', '5,884', 'Morgan , Smith , Moran (2)'], ['R3', '29 October 1986', 'Liverpool', 'A', '1–4', '20,248', 'Moran']]\n",
      "\n",
      "\n",
      "Output:\n",
      "[{\"entity\": \"Swansea City\",    \"type\": \"Organization\",    \"cell_index\": [0, 2]},    \n",
      "{\"entity\": \"A\",    \"type\": \"Place\",    \"cell_index\": [0, 3]},    \n",
      "{\"entity\": \"2–0\",    \"type\": \"Event\",    \"cell_index\": [0, 4]},    \n",
      "{\"entity\": \"9,590\",    \"type\": \"ArchitecturalStructure\",    \"cell_index\": [0, 5]},    \n",
      "{\"entity\": \"McAllister\",    \"type\": \"Person\",    \"cell_index\": [0, 6]},    \n",
      "{\"entity\": \"Smith\",    \"type\": \"Person\",    \"cell_index\": [0, 6]},    \n",
      "{\"entity\": \"H\",    \"type\": \"Place\",    \"cell_index\": [1, 3]},    \n",
      "{\"entity\": \"4–2\",    \"type\": \"Event\",    \"cell_index\": [1, 4]},    \n",
      "{\"entity\": \"5,884\",    \"type\": \"ArchitecturalStructure\",    \"cell_index\": [1, 5]},    \n",
      "{\"entity\": \"Morgan\",    \"type\": \"Person\",    \"cell_index\": [1, 6]},    \n",
      "{\"entity\": \"Smith\",    \"type\": \"Person\",    \"cell_index\": [1, 6]},    \n",
      "{\"entity\": \"Moran\",    \"type\": \"Person\",    \"cell_index\": [1, 6]},    \n",
      "{\"entity\": \"Liverpool\",    \"type\": \"Organization\",    \"cell_index\": [2, 2]},    \n",
      "{\"entity\": \"A\",    \"type\": \"Place\",    \"cell_index\": [2, 3]},    \n",
      "{\"entity\": \"1–4\",    \"type\": \"Event\",    \"cell_index\": [2, 4]},    \n",
      "{\"entity\": \"20,248\",    \"type\": \"ArchitecturalStructure\",    \"cell_index\": [2, 5]},    \n",
      "{\"entity\": \"Moran\",    \"type\": \"Person\",    \"cell_index\": [2, 6]}]\n",
      "[{'entity': 'Swansea City', 'type': 'Organization', 'cell_index': [0, 2]}, {'entity': 'A', 'type': 'Place', 'cell_index': [0, 3]}, {'entity': '2–0', 'type': 'Event', 'cell_index': [0, 4]}, {'entity': '9,590', 'type': 'ArchitecturalStructure', 'cell_index': [0, 5]}, {'entity': 'McAllister', 'type': 'Person', 'cell_index': [0, 6]}, {'entity': 'Smith', 'type': 'Person', 'cell_index': [0, 6]}, {'entity': 'H', 'type': 'Place', 'cell_index': [1, 3]}, {'entity': '4–2', 'type': 'Event', 'cell_index': [1, 4]}, {'entity': '5,884', 'type': 'ArchitecturalStructure', 'cell_index': [1, 5]}, {'entity': 'Morgan', 'type': 'Person', 'cell_index': [1, 6]}, {'entity': 'Smith', 'type': 'Person', 'cell_index': [1, 6]}, {'entity': 'Moran', 'type': 'Person', 'cell_index': [1, 6]}, {'entity': 'Liverpool', 'type': 'Organization', 'cell_index': [2, 2]}, {'entity': 'A', 'type': 'Place', 'cell_index': [2, 3]}, {'entity': '1–4', 'type': 'Event', 'cell_index': [2, 4]}, {'entity': '20,248', 'type': 'ArchitecturalStructure', 'cell_index': [2, 5]}, {'entity': 'Moran', 'type': 'Person', 'cell_index': [2, 6]}]\n",
      "[['1', 'Mark Evans', '\" Rock Your Body \" ( Justin Timberlake )', '5', '\" I Don\\'t Want to Talk About It \" ( Rod Stewart )', 'Safe'], ['2', 'Jade Ewen', '\" All by Myself \" ( Eric Carmen )', '6', '\" Think \" ( Aretha Franklin )', '\"Danger zone\"'], ['3', 'Emperors of Soul', '\" Patience \" ( Take That )', '7', '\" Uptown Girl \" ( Billy Joel )', 'Eliminated'], ['4', 'Francine and Nicola Gleadall', '\" About You Now \" ( Sugababes )', '8', '\" All I Have to Do Is Dream \" ( The Everly Brothers )', 'Safe']]\n"
     ]
    },
    {
     "ename": "KeyboardInterrupt",
     "evalue": "",
     "output_type": "error",
     "traceback": [
      "\u001b[0;31m---------------------------------------------------------------------------\u001b[0m",
      "\u001b[0;31mKeyboardInterrupt\u001b[0m                         Traceback (most recent call last)",
      "Cell \u001b[0;32mIn[67], line 1\u001b[0m\n\u001b[0;32m----> 1\u001b[0m result \u001b[38;5;241m=\u001b[39m \u001b[43mmain\u001b[49m\u001b[43m(\u001b[49m\u001b[43m)\u001b[49m\n",
      "Cell \u001b[0;32mIn[66], line 35\u001b[0m, in \u001b[0;36mmain\u001b[0;34m()\u001b[0m\n\u001b[1;32m     32\u001b[0m e\u001b[38;5;241m+\u001b[39m\u001b[38;5;241m=\u001b[39m\u001b[38;5;241m1\u001b[39m\n\u001b[1;32m     33\u001b[0m ser_gt \u001b[38;5;241m=\u001b[39m [\u001b[38;5;28mtuple\u001b[39m(item) \u001b[38;5;28;01mfor\u001b[39;00m sublist \u001b[38;5;129;01min\u001b[39;00m ser_correct_annot \u001b[38;5;28;01mfor\u001b[39;00m item \u001b[38;5;129;01min\u001b[39;00m sublist]  \n\u001b[0;32m---> 35\u001b[0m gpt_ser_annot \u001b[38;5;241m=\u001b[39m \u001b[43mget_gpt_answer\u001b[49m\u001b[43m(\u001b[49m\u001b[43mbase_prompt\u001b[49m\u001b[43m \u001b[49m\u001b[38;5;241;43m+\u001b[39;49m\u001b[43m \u001b[49m\u001b[43minstruction_prompt\u001b[49m\u001b[43m \u001b[49m\u001b[38;5;241;43m+\u001b[39;49m\u001b[43m \u001b[49m\u001b[43mprompt\u001b[49m\u001b[43m,\u001b[49m\u001b[43m \u001b[49m\u001b[43mtab_id\u001b[49m\u001b[43m)\u001b[49m\n\u001b[1;32m     37\u001b[0m \u001b[38;5;28mprint\u001b[39m(gpt_ser_annot)\n\u001b[1;32m     39\u001b[0m \u001b[38;5;28;01mif\u001b[39;00m \u001b[38;5;28mlen\u001b[39m(gpt_ser_annot) \u001b[38;5;241m>\u001b[39m \u001b[38;5;241m0\u001b[39m:\n",
      "Cell \u001b[0;32mIn[58], line 4\u001b[0m, in \u001b[0;36mget_gpt_answer\u001b[0;34m(prompt, tab_id)\u001b[0m\n\u001b[1;32m      1\u001b[0m \u001b[38;5;28;01mdef\u001b[39;00m \u001b[38;5;21mget_gpt_answer\u001b[39m(prompt, tab_id):\n\u001b[1;32m      2\u001b[0m     response \u001b[38;5;241m=\u001b[39m {}\n\u001b[0;32m----> 4\u001b[0m     response \u001b[38;5;241m=\u001b[39m \u001b[43mopenai\u001b[49m\u001b[38;5;241;43m.\u001b[39;49m\u001b[43mCompletion\u001b[49m\u001b[38;5;241;43m.\u001b[39;49m\u001b[43mcreate\u001b[49m\u001b[43m(\u001b[49m\n\u001b[1;32m      5\u001b[0m \u001b[43m    \u001b[49m\u001b[43mengine\u001b[49m\u001b[38;5;241;43m=\u001b[39;49m\u001b[38;5;124;43m\"\u001b[39;49m\u001b[38;5;124;43mtext-davinci-003\u001b[39;49m\u001b[38;5;124;43m\"\u001b[39;49m\u001b[43m,\u001b[49m\n\u001b[1;32m      6\u001b[0m \u001b[43m    \u001b[49m\u001b[43mprompt\u001b[49m\u001b[38;5;241;43m=\u001b[39;49m\u001b[43mprompt\u001b[49m\u001b[43m,\u001b[49m\n\u001b[1;32m      7\u001b[0m \u001b[43m    \u001b[49m\u001b[43mtemperature\u001b[49m\u001b[38;5;241;43m=\u001b[39;49m\u001b[38;5;241;43m0.5\u001b[39;49m\u001b[43m,\u001b[49m\n\u001b[1;32m      8\u001b[0m \u001b[43m    \u001b[49m\u001b[43mmax_tokens\u001b[49m\u001b[38;5;241;43m=\u001b[39;49m\u001b[38;5;241;43m2000\u001b[39;49m\u001b[43m,\u001b[49m\n\u001b[1;32m      9\u001b[0m \u001b[43m    \u001b[49m\u001b[43mtop_p\u001b[49m\u001b[38;5;241;43m=\u001b[39;49m\u001b[38;5;241;43m0.5\u001b[39;49m\u001b[43m,\u001b[49m\n\u001b[1;32m     10\u001b[0m \u001b[43m    \u001b[49m\u001b[43mfrequency_penalty\u001b[49m\u001b[38;5;241;43m=\u001b[39;49m\u001b[38;5;241;43m0\u001b[39;49m\u001b[43m,\u001b[49m\n\u001b[1;32m     11\u001b[0m \u001b[43m    \u001b[49m\u001b[43mpresence_penalty\u001b[49m\u001b[38;5;241;43m=\u001b[39;49m\u001b[38;5;241;43m0\u001b[39;49m\u001b[43m,\u001b[49m\n\u001b[1;32m     12\u001b[0m \u001b[43m    \u001b[49m\u001b[43mstop\u001b[49m\u001b[38;5;241;43m=\u001b[39;49m\u001b[38;5;28;43;01mNone\u001b[39;49;00m\u001b[43m)\u001b[49m\n\u001b[1;32m     14\u001b[0m     \u001b[38;5;28;01mif\u001b[39;00m \u001b[38;5;28mlen\u001b[39m(response) \u001b[38;5;241m>\u001b[39m \u001b[38;5;241m0\u001b[39m:\n\u001b[1;32m     16\u001b[0m         choices \u001b[38;5;241m=\u001b[39m response[\u001b[38;5;124m\"\u001b[39m\u001b[38;5;124mchoices\u001b[39m\u001b[38;5;124m\"\u001b[39m]\n",
      "File \u001b[0;32m~/Desktop/Projects/subcell_entity_recognition/venv/lib/python3.9/site-packages/openai/api_resources/completion.py:25\u001b[0m, in \u001b[0;36mCompletion.create\u001b[0;34m(cls, *args, **kwargs)\u001b[0m\n\u001b[1;32m     23\u001b[0m \u001b[38;5;28;01mwhile\u001b[39;00m \u001b[38;5;28;01mTrue\u001b[39;00m:\n\u001b[1;32m     24\u001b[0m     \u001b[38;5;28;01mtry\u001b[39;00m:\n\u001b[0;32m---> 25\u001b[0m         \u001b[38;5;28;01mreturn\u001b[39;00m \u001b[38;5;28;43msuper\u001b[39;49m\u001b[43m(\u001b[49m\u001b[43m)\u001b[49m\u001b[38;5;241;43m.\u001b[39;49m\u001b[43mcreate\u001b[49m\u001b[43m(\u001b[49m\u001b[38;5;241;43m*\u001b[39;49m\u001b[43margs\u001b[49m\u001b[43m,\u001b[49m\u001b[43m \u001b[49m\u001b[38;5;241;43m*\u001b[39;49m\u001b[38;5;241;43m*\u001b[39;49m\u001b[43mkwargs\u001b[49m\u001b[43m)\u001b[49m\n\u001b[1;32m     26\u001b[0m     \u001b[38;5;28;01mexcept\u001b[39;00m TryAgain \u001b[38;5;28;01mas\u001b[39;00m e:\n\u001b[1;32m     27\u001b[0m         \u001b[38;5;28;01mif\u001b[39;00m timeout \u001b[38;5;129;01mis\u001b[39;00m \u001b[38;5;129;01mnot\u001b[39;00m \u001b[38;5;28;01mNone\u001b[39;00m \u001b[38;5;129;01mand\u001b[39;00m time\u001b[38;5;241m.\u001b[39mtime() \u001b[38;5;241m>\u001b[39m start \u001b[38;5;241m+\u001b[39m timeout:\n",
      "File \u001b[0;32m~/Desktop/Projects/subcell_entity_recognition/venv/lib/python3.9/site-packages/openai/api_resources/abstract/engine_api_resource.py:153\u001b[0m, in \u001b[0;36mEngineAPIResource.create\u001b[0;34m(cls, api_key, api_base, api_type, request_id, api_version, organization, **params)\u001b[0m\n\u001b[1;32m    127\u001b[0m \u001b[38;5;129m@classmethod\u001b[39m\n\u001b[1;32m    128\u001b[0m \u001b[38;5;28;01mdef\u001b[39;00m \u001b[38;5;21mcreate\u001b[39m(\n\u001b[1;32m    129\u001b[0m     \u001b[38;5;28mcls\u001b[39m,\n\u001b[0;32m   (...)\u001b[0m\n\u001b[1;32m    136\u001b[0m     \u001b[38;5;241m*\u001b[39m\u001b[38;5;241m*\u001b[39mparams,\n\u001b[1;32m    137\u001b[0m ):\n\u001b[1;32m    138\u001b[0m     (\n\u001b[1;32m    139\u001b[0m         deployment_id,\n\u001b[1;32m    140\u001b[0m         engine,\n\u001b[0;32m   (...)\u001b[0m\n\u001b[1;32m    150\u001b[0m         api_key, api_base, api_type, api_version, organization, \u001b[38;5;241m*\u001b[39m\u001b[38;5;241m*\u001b[39mparams\n\u001b[1;32m    151\u001b[0m     )\n\u001b[0;32m--> 153\u001b[0m     response, _, api_key \u001b[38;5;241m=\u001b[39m \u001b[43mrequestor\u001b[49m\u001b[38;5;241;43m.\u001b[39;49m\u001b[43mrequest\u001b[49m\u001b[43m(\u001b[49m\n\u001b[1;32m    154\u001b[0m \u001b[43m        \u001b[49m\u001b[38;5;124;43m\"\u001b[39;49m\u001b[38;5;124;43mpost\u001b[39;49m\u001b[38;5;124;43m\"\u001b[39;49m\u001b[43m,\u001b[49m\n\u001b[1;32m    155\u001b[0m \u001b[43m        \u001b[49m\u001b[43murl\u001b[49m\u001b[43m,\u001b[49m\n\u001b[1;32m    156\u001b[0m \u001b[43m        \u001b[49m\u001b[43mparams\u001b[49m\u001b[38;5;241;43m=\u001b[39;49m\u001b[43mparams\u001b[49m\u001b[43m,\u001b[49m\n\u001b[1;32m    157\u001b[0m \u001b[43m        \u001b[49m\u001b[43mheaders\u001b[49m\u001b[38;5;241;43m=\u001b[39;49m\u001b[43mheaders\u001b[49m\u001b[43m,\u001b[49m\n\u001b[1;32m    158\u001b[0m \u001b[43m        \u001b[49m\u001b[43mstream\u001b[49m\u001b[38;5;241;43m=\u001b[39;49m\u001b[43mstream\u001b[49m\u001b[43m,\u001b[49m\n\u001b[1;32m    159\u001b[0m \u001b[43m        \u001b[49m\u001b[43mrequest_id\u001b[49m\u001b[38;5;241;43m=\u001b[39;49m\u001b[43mrequest_id\u001b[49m\u001b[43m,\u001b[49m\n\u001b[1;32m    160\u001b[0m \u001b[43m        \u001b[49m\u001b[43mrequest_timeout\u001b[49m\u001b[38;5;241;43m=\u001b[39;49m\u001b[43mrequest_timeout\u001b[49m\u001b[43m,\u001b[49m\n\u001b[1;32m    161\u001b[0m \u001b[43m    \u001b[49m\u001b[43m)\u001b[49m\n\u001b[1;32m    163\u001b[0m     \u001b[38;5;28;01mif\u001b[39;00m stream:\n\u001b[1;32m    164\u001b[0m         \u001b[38;5;66;03m# must be an iterator\u001b[39;00m\n\u001b[1;32m    165\u001b[0m         \u001b[38;5;28;01massert\u001b[39;00m \u001b[38;5;129;01mnot\u001b[39;00m \u001b[38;5;28misinstance\u001b[39m(response, OpenAIResponse)\n",
      "File \u001b[0;32m~/Desktop/Projects/subcell_entity_recognition/venv/lib/python3.9/site-packages/openai/api_requestor.py:288\u001b[0m, in \u001b[0;36mAPIRequestor.request\u001b[0;34m(self, method, url, params, headers, files, stream, request_id, request_timeout)\u001b[0m\n\u001b[1;32m    277\u001b[0m \u001b[38;5;28;01mdef\u001b[39;00m \u001b[38;5;21mrequest\u001b[39m(\n\u001b[1;32m    278\u001b[0m     \u001b[38;5;28mself\u001b[39m,\n\u001b[1;32m    279\u001b[0m     method,\n\u001b[0;32m   (...)\u001b[0m\n\u001b[1;32m    286\u001b[0m     request_timeout: Optional[Union[\u001b[38;5;28mfloat\u001b[39m, Tuple[\u001b[38;5;28mfloat\u001b[39m, \u001b[38;5;28mfloat\u001b[39m]]] \u001b[38;5;241m=\u001b[39m \u001b[38;5;28;01mNone\u001b[39;00m,\n\u001b[1;32m    287\u001b[0m ) \u001b[38;5;241m-\u001b[39m\u001b[38;5;241m>\u001b[39m Tuple[Union[OpenAIResponse, Iterator[OpenAIResponse]], \u001b[38;5;28mbool\u001b[39m, \u001b[38;5;28mstr\u001b[39m]:\n\u001b[0;32m--> 288\u001b[0m     result \u001b[38;5;241m=\u001b[39m \u001b[38;5;28;43mself\u001b[39;49m\u001b[38;5;241;43m.\u001b[39;49m\u001b[43mrequest_raw\u001b[49m\u001b[43m(\u001b[49m\n\u001b[1;32m    289\u001b[0m \u001b[43m        \u001b[49m\u001b[43mmethod\u001b[49m\u001b[38;5;241;43m.\u001b[39;49m\u001b[43mlower\u001b[49m\u001b[43m(\u001b[49m\u001b[43m)\u001b[49m\u001b[43m,\u001b[49m\n\u001b[1;32m    290\u001b[0m \u001b[43m        \u001b[49m\u001b[43murl\u001b[49m\u001b[43m,\u001b[49m\n\u001b[1;32m    291\u001b[0m \u001b[43m        \u001b[49m\u001b[43mparams\u001b[49m\u001b[38;5;241;43m=\u001b[39;49m\u001b[43mparams\u001b[49m\u001b[43m,\u001b[49m\n\u001b[1;32m    292\u001b[0m \u001b[43m        \u001b[49m\u001b[43msupplied_headers\u001b[49m\u001b[38;5;241;43m=\u001b[39;49m\u001b[43mheaders\u001b[49m\u001b[43m,\u001b[49m\n\u001b[1;32m    293\u001b[0m \u001b[43m        \u001b[49m\u001b[43mfiles\u001b[49m\u001b[38;5;241;43m=\u001b[39;49m\u001b[43mfiles\u001b[49m\u001b[43m,\u001b[49m\n\u001b[1;32m    294\u001b[0m \u001b[43m        \u001b[49m\u001b[43mstream\u001b[49m\u001b[38;5;241;43m=\u001b[39;49m\u001b[43mstream\u001b[49m\u001b[43m,\u001b[49m\n\u001b[1;32m    295\u001b[0m \u001b[43m        \u001b[49m\u001b[43mrequest_id\u001b[49m\u001b[38;5;241;43m=\u001b[39;49m\u001b[43mrequest_id\u001b[49m\u001b[43m,\u001b[49m\n\u001b[1;32m    296\u001b[0m \u001b[43m        \u001b[49m\u001b[43mrequest_timeout\u001b[49m\u001b[38;5;241;43m=\u001b[39;49m\u001b[43mrequest_timeout\u001b[49m\u001b[43m,\u001b[49m\n\u001b[1;32m    297\u001b[0m \u001b[43m    \u001b[49m\u001b[43m)\u001b[49m\n\u001b[1;32m    298\u001b[0m     resp, got_stream \u001b[38;5;241m=\u001b[39m \u001b[38;5;28mself\u001b[39m\u001b[38;5;241m.\u001b[39m_interpret_response(result, stream)\n\u001b[1;32m    299\u001b[0m     \u001b[38;5;28;01mreturn\u001b[39;00m resp, got_stream, \u001b[38;5;28mself\u001b[39m\u001b[38;5;241m.\u001b[39mapi_key\n",
      "File \u001b[0;32m~/Desktop/Projects/subcell_entity_recognition/venv/lib/python3.9/site-packages/openai/api_requestor.py:596\u001b[0m, in \u001b[0;36mAPIRequestor.request_raw\u001b[0;34m(self, method, url, params, supplied_headers, files, stream, request_id, request_timeout)\u001b[0m\n\u001b[1;32m    594\u001b[0m     _thread_context\u001b[38;5;241m.\u001b[39msession_create_time \u001b[38;5;241m=\u001b[39m time\u001b[38;5;241m.\u001b[39mtime()\n\u001b[1;32m    595\u001b[0m \u001b[38;5;28;01mtry\u001b[39;00m:\n\u001b[0;32m--> 596\u001b[0m     result \u001b[38;5;241m=\u001b[39m \u001b[43m_thread_context\u001b[49m\u001b[38;5;241;43m.\u001b[39;49m\u001b[43msession\u001b[49m\u001b[38;5;241;43m.\u001b[39;49m\u001b[43mrequest\u001b[49m\u001b[43m(\u001b[49m\n\u001b[1;32m    597\u001b[0m \u001b[43m        \u001b[49m\u001b[43mmethod\u001b[49m\u001b[43m,\u001b[49m\n\u001b[1;32m    598\u001b[0m \u001b[43m        \u001b[49m\u001b[43mabs_url\u001b[49m\u001b[43m,\u001b[49m\n\u001b[1;32m    599\u001b[0m \u001b[43m        \u001b[49m\u001b[43mheaders\u001b[49m\u001b[38;5;241;43m=\u001b[39;49m\u001b[43mheaders\u001b[49m\u001b[43m,\u001b[49m\n\u001b[1;32m    600\u001b[0m \u001b[43m        \u001b[49m\u001b[43mdata\u001b[49m\u001b[38;5;241;43m=\u001b[39;49m\u001b[43mdata\u001b[49m\u001b[43m,\u001b[49m\n\u001b[1;32m    601\u001b[0m \u001b[43m        \u001b[49m\u001b[43mfiles\u001b[49m\u001b[38;5;241;43m=\u001b[39;49m\u001b[43mfiles\u001b[49m\u001b[43m,\u001b[49m\n\u001b[1;32m    602\u001b[0m \u001b[43m        \u001b[49m\u001b[43mstream\u001b[49m\u001b[38;5;241;43m=\u001b[39;49m\u001b[43mstream\u001b[49m\u001b[43m,\u001b[49m\n\u001b[1;32m    603\u001b[0m \u001b[43m        \u001b[49m\u001b[43mtimeout\u001b[49m\u001b[38;5;241;43m=\u001b[39;49m\u001b[43mrequest_timeout\u001b[49m\u001b[43m \u001b[49m\u001b[38;5;28;43;01mif\u001b[39;49;00m\u001b[43m \u001b[49m\u001b[43mrequest_timeout\u001b[49m\u001b[43m \u001b[49m\u001b[38;5;28;43;01melse\u001b[39;49;00m\u001b[43m \u001b[49m\u001b[43mTIMEOUT_SECS\u001b[49m\u001b[43m,\u001b[49m\n\u001b[1;32m    604\u001b[0m \u001b[43m        \u001b[49m\u001b[43mproxies\u001b[49m\u001b[38;5;241;43m=\u001b[39;49m\u001b[43m_thread_context\u001b[49m\u001b[38;5;241;43m.\u001b[39;49m\u001b[43msession\u001b[49m\u001b[38;5;241;43m.\u001b[39;49m\u001b[43mproxies\u001b[49m\u001b[43m,\u001b[49m\n\u001b[1;32m    605\u001b[0m \u001b[43m    \u001b[49m\u001b[43m)\u001b[49m\n\u001b[1;32m    606\u001b[0m \u001b[38;5;28;01mexcept\u001b[39;00m requests\u001b[38;5;241m.\u001b[39mexceptions\u001b[38;5;241m.\u001b[39mTimeout \u001b[38;5;28;01mas\u001b[39;00m e:\n\u001b[1;32m    607\u001b[0m     \u001b[38;5;28;01mraise\u001b[39;00m error\u001b[38;5;241m.\u001b[39mTimeout(\u001b[38;5;124m\"\u001b[39m\u001b[38;5;124mRequest timed out: \u001b[39m\u001b[38;5;132;01m{}\u001b[39;00m\u001b[38;5;124m\"\u001b[39m\u001b[38;5;241m.\u001b[39mformat(e)) \u001b[38;5;28;01mfrom\u001b[39;00m \u001b[38;5;21;01me\u001b[39;00m\n",
      "File \u001b[0;32m~/Desktop/Projects/subcell_entity_recognition/venv/lib/python3.9/site-packages/requests/sessions.py:587\u001b[0m, in \u001b[0;36mSession.request\u001b[0;34m(self, method, url, params, data, headers, cookies, files, auth, timeout, allow_redirects, proxies, hooks, stream, verify, cert, json)\u001b[0m\n\u001b[1;32m    582\u001b[0m send_kwargs \u001b[38;5;241m=\u001b[39m {\n\u001b[1;32m    583\u001b[0m     \u001b[38;5;124m\"\u001b[39m\u001b[38;5;124mtimeout\u001b[39m\u001b[38;5;124m\"\u001b[39m: timeout,\n\u001b[1;32m    584\u001b[0m     \u001b[38;5;124m\"\u001b[39m\u001b[38;5;124mallow_redirects\u001b[39m\u001b[38;5;124m\"\u001b[39m: allow_redirects,\n\u001b[1;32m    585\u001b[0m }\n\u001b[1;32m    586\u001b[0m send_kwargs\u001b[38;5;241m.\u001b[39mupdate(settings)\n\u001b[0;32m--> 587\u001b[0m resp \u001b[38;5;241m=\u001b[39m \u001b[38;5;28;43mself\u001b[39;49m\u001b[38;5;241;43m.\u001b[39;49m\u001b[43msend\u001b[49m\u001b[43m(\u001b[49m\u001b[43mprep\u001b[49m\u001b[43m,\u001b[49m\u001b[43m \u001b[49m\u001b[38;5;241;43m*\u001b[39;49m\u001b[38;5;241;43m*\u001b[39;49m\u001b[43msend_kwargs\u001b[49m\u001b[43m)\u001b[49m\n\u001b[1;32m    589\u001b[0m \u001b[38;5;28;01mreturn\u001b[39;00m resp\n",
      "File \u001b[0;32m~/Desktop/Projects/subcell_entity_recognition/venv/lib/python3.9/site-packages/requests/sessions.py:701\u001b[0m, in \u001b[0;36mSession.send\u001b[0;34m(self, request, **kwargs)\u001b[0m\n\u001b[1;32m    698\u001b[0m start \u001b[38;5;241m=\u001b[39m preferred_clock()\n\u001b[1;32m    700\u001b[0m \u001b[38;5;66;03m# Send the request\u001b[39;00m\n\u001b[0;32m--> 701\u001b[0m r \u001b[38;5;241m=\u001b[39m \u001b[43madapter\u001b[49m\u001b[38;5;241;43m.\u001b[39;49m\u001b[43msend\u001b[49m\u001b[43m(\u001b[49m\u001b[43mrequest\u001b[49m\u001b[43m,\u001b[49m\u001b[43m \u001b[49m\u001b[38;5;241;43m*\u001b[39;49m\u001b[38;5;241;43m*\u001b[39;49m\u001b[43mkwargs\u001b[49m\u001b[43m)\u001b[49m\n\u001b[1;32m    703\u001b[0m \u001b[38;5;66;03m# Total elapsed time of the request (approximately)\u001b[39;00m\n\u001b[1;32m    704\u001b[0m elapsed \u001b[38;5;241m=\u001b[39m preferred_clock() \u001b[38;5;241m-\u001b[39m start\n",
      "File \u001b[0;32m~/Desktop/Projects/subcell_entity_recognition/venv/lib/python3.9/site-packages/requests/adapters.py:489\u001b[0m, in \u001b[0;36mHTTPAdapter.send\u001b[0;34m(self, request, stream, timeout, verify, cert, proxies)\u001b[0m\n\u001b[1;32m    487\u001b[0m \u001b[38;5;28;01mtry\u001b[39;00m:\n\u001b[1;32m    488\u001b[0m     \u001b[38;5;28;01mif\u001b[39;00m \u001b[38;5;129;01mnot\u001b[39;00m chunked:\n\u001b[0;32m--> 489\u001b[0m         resp \u001b[38;5;241m=\u001b[39m \u001b[43mconn\u001b[49m\u001b[38;5;241;43m.\u001b[39;49m\u001b[43murlopen\u001b[49m\u001b[43m(\u001b[49m\n\u001b[1;32m    490\u001b[0m \u001b[43m            \u001b[49m\u001b[43mmethod\u001b[49m\u001b[38;5;241;43m=\u001b[39;49m\u001b[43mrequest\u001b[49m\u001b[38;5;241;43m.\u001b[39;49m\u001b[43mmethod\u001b[49m\u001b[43m,\u001b[49m\n\u001b[1;32m    491\u001b[0m \u001b[43m            \u001b[49m\u001b[43murl\u001b[49m\u001b[38;5;241;43m=\u001b[39;49m\u001b[43murl\u001b[49m\u001b[43m,\u001b[49m\n\u001b[1;32m    492\u001b[0m \u001b[43m            \u001b[49m\u001b[43mbody\u001b[49m\u001b[38;5;241;43m=\u001b[39;49m\u001b[43mrequest\u001b[49m\u001b[38;5;241;43m.\u001b[39;49m\u001b[43mbody\u001b[49m\u001b[43m,\u001b[49m\n\u001b[1;32m    493\u001b[0m \u001b[43m            \u001b[49m\u001b[43mheaders\u001b[49m\u001b[38;5;241;43m=\u001b[39;49m\u001b[43mrequest\u001b[49m\u001b[38;5;241;43m.\u001b[39;49m\u001b[43mheaders\u001b[49m\u001b[43m,\u001b[49m\n\u001b[1;32m    494\u001b[0m \u001b[43m            \u001b[49m\u001b[43mredirect\u001b[49m\u001b[38;5;241;43m=\u001b[39;49m\u001b[38;5;28;43;01mFalse\u001b[39;49;00m\u001b[43m,\u001b[49m\n\u001b[1;32m    495\u001b[0m \u001b[43m            \u001b[49m\u001b[43massert_same_host\u001b[49m\u001b[38;5;241;43m=\u001b[39;49m\u001b[38;5;28;43;01mFalse\u001b[39;49;00m\u001b[43m,\u001b[49m\n\u001b[1;32m    496\u001b[0m \u001b[43m            \u001b[49m\u001b[43mpreload_content\u001b[49m\u001b[38;5;241;43m=\u001b[39;49m\u001b[38;5;28;43;01mFalse\u001b[39;49;00m\u001b[43m,\u001b[49m\n\u001b[1;32m    497\u001b[0m \u001b[43m            \u001b[49m\u001b[43mdecode_content\u001b[49m\u001b[38;5;241;43m=\u001b[39;49m\u001b[38;5;28;43;01mFalse\u001b[39;49;00m\u001b[43m,\u001b[49m\n\u001b[1;32m    498\u001b[0m \u001b[43m            \u001b[49m\u001b[43mretries\u001b[49m\u001b[38;5;241;43m=\u001b[39;49m\u001b[38;5;28;43mself\u001b[39;49m\u001b[38;5;241;43m.\u001b[39;49m\u001b[43mmax_retries\u001b[49m\u001b[43m,\u001b[49m\n\u001b[1;32m    499\u001b[0m \u001b[43m            \u001b[49m\u001b[43mtimeout\u001b[49m\u001b[38;5;241;43m=\u001b[39;49m\u001b[43mtimeout\u001b[49m\u001b[43m,\u001b[49m\n\u001b[1;32m    500\u001b[0m \u001b[43m        \u001b[49m\u001b[43m)\u001b[49m\n\u001b[1;32m    502\u001b[0m     \u001b[38;5;66;03m# Send the request.\u001b[39;00m\n\u001b[1;32m    503\u001b[0m     \u001b[38;5;28;01melse\u001b[39;00m:\n\u001b[1;32m    504\u001b[0m         \u001b[38;5;28;01mif\u001b[39;00m \u001b[38;5;28mhasattr\u001b[39m(conn, \u001b[38;5;124m\"\u001b[39m\u001b[38;5;124mproxy_pool\u001b[39m\u001b[38;5;124m\"\u001b[39m):\n",
      "File \u001b[0;32m~/Desktop/Projects/subcell_entity_recognition/venv/lib/python3.9/site-packages/urllib3/connectionpool.py:703\u001b[0m, in \u001b[0;36mHTTPConnectionPool.urlopen\u001b[0;34m(self, method, url, body, headers, retries, redirect, assert_same_host, timeout, pool_timeout, release_conn, chunked, body_pos, **response_kw)\u001b[0m\n\u001b[1;32m    700\u001b[0m     \u001b[38;5;28mself\u001b[39m\u001b[38;5;241m.\u001b[39m_prepare_proxy(conn)\n\u001b[1;32m    702\u001b[0m \u001b[38;5;66;03m# Make the request on the httplib connection object.\u001b[39;00m\n\u001b[0;32m--> 703\u001b[0m httplib_response \u001b[38;5;241m=\u001b[39m \u001b[38;5;28;43mself\u001b[39;49m\u001b[38;5;241;43m.\u001b[39;49m\u001b[43m_make_request\u001b[49m\u001b[43m(\u001b[49m\n\u001b[1;32m    704\u001b[0m \u001b[43m    \u001b[49m\u001b[43mconn\u001b[49m\u001b[43m,\u001b[49m\n\u001b[1;32m    705\u001b[0m \u001b[43m    \u001b[49m\u001b[43mmethod\u001b[49m\u001b[43m,\u001b[49m\n\u001b[1;32m    706\u001b[0m \u001b[43m    \u001b[49m\u001b[43murl\u001b[49m\u001b[43m,\u001b[49m\n\u001b[1;32m    707\u001b[0m \u001b[43m    \u001b[49m\u001b[43mtimeout\u001b[49m\u001b[38;5;241;43m=\u001b[39;49m\u001b[43mtimeout_obj\u001b[49m\u001b[43m,\u001b[49m\n\u001b[1;32m    708\u001b[0m \u001b[43m    \u001b[49m\u001b[43mbody\u001b[49m\u001b[38;5;241;43m=\u001b[39;49m\u001b[43mbody\u001b[49m\u001b[43m,\u001b[49m\n\u001b[1;32m    709\u001b[0m \u001b[43m    \u001b[49m\u001b[43mheaders\u001b[49m\u001b[38;5;241;43m=\u001b[39;49m\u001b[43mheaders\u001b[49m\u001b[43m,\u001b[49m\n\u001b[1;32m    710\u001b[0m \u001b[43m    \u001b[49m\u001b[43mchunked\u001b[49m\u001b[38;5;241;43m=\u001b[39;49m\u001b[43mchunked\u001b[49m\u001b[43m,\u001b[49m\n\u001b[1;32m    711\u001b[0m \u001b[43m\u001b[49m\u001b[43m)\u001b[49m\n\u001b[1;32m    713\u001b[0m \u001b[38;5;66;03m# If we're going to release the connection in ``finally:``, then\u001b[39;00m\n\u001b[1;32m    714\u001b[0m \u001b[38;5;66;03m# the response doesn't need to know about the connection. Otherwise\u001b[39;00m\n\u001b[1;32m    715\u001b[0m \u001b[38;5;66;03m# it will also try to release it and we'll have a double-release\u001b[39;00m\n\u001b[1;32m    716\u001b[0m \u001b[38;5;66;03m# mess.\u001b[39;00m\n\u001b[1;32m    717\u001b[0m response_conn \u001b[38;5;241m=\u001b[39m conn \u001b[38;5;28;01mif\u001b[39;00m \u001b[38;5;129;01mnot\u001b[39;00m release_conn \u001b[38;5;28;01melse\u001b[39;00m \u001b[38;5;28;01mNone\u001b[39;00m\n",
      "File \u001b[0;32m~/Desktop/Projects/subcell_entity_recognition/venv/lib/python3.9/site-packages/urllib3/connectionpool.py:449\u001b[0m, in \u001b[0;36mHTTPConnectionPool._make_request\u001b[0;34m(self, conn, method, url, timeout, chunked, **httplib_request_kw)\u001b[0m\n\u001b[1;32m    444\u001b[0m             httplib_response \u001b[38;5;241m=\u001b[39m conn\u001b[38;5;241m.\u001b[39mgetresponse()\n\u001b[1;32m    445\u001b[0m         \u001b[38;5;28;01mexcept\u001b[39;00m \u001b[38;5;167;01mBaseException\u001b[39;00m \u001b[38;5;28;01mas\u001b[39;00m e:\n\u001b[1;32m    446\u001b[0m             \u001b[38;5;66;03m# Remove the TypeError from the exception chain in\u001b[39;00m\n\u001b[1;32m    447\u001b[0m             \u001b[38;5;66;03m# Python 3 (including for exceptions like SystemExit).\u001b[39;00m\n\u001b[1;32m    448\u001b[0m             \u001b[38;5;66;03m# Otherwise it looks like a bug in the code.\u001b[39;00m\n\u001b[0;32m--> 449\u001b[0m             \u001b[43msix\u001b[49m\u001b[38;5;241;43m.\u001b[39;49m\u001b[43mraise_from\u001b[49m\u001b[43m(\u001b[49m\u001b[43me\u001b[49m\u001b[43m,\u001b[49m\u001b[43m \u001b[49m\u001b[38;5;28;43;01mNone\u001b[39;49;00m\u001b[43m)\u001b[49m\n\u001b[1;32m    450\u001b[0m \u001b[38;5;28;01mexcept\u001b[39;00m (SocketTimeout, BaseSSLError, SocketError) \u001b[38;5;28;01mas\u001b[39;00m e:\n\u001b[1;32m    451\u001b[0m     \u001b[38;5;28mself\u001b[39m\u001b[38;5;241m.\u001b[39m_raise_timeout(err\u001b[38;5;241m=\u001b[39me, url\u001b[38;5;241m=\u001b[39murl, timeout_value\u001b[38;5;241m=\u001b[39mread_timeout)\n",
      "File \u001b[0;32m<string>:3\u001b[0m, in \u001b[0;36mraise_from\u001b[0;34m(value, from_value)\u001b[0m\n",
      "File \u001b[0;32m~/Desktop/Projects/subcell_entity_recognition/venv/lib/python3.9/site-packages/urllib3/connectionpool.py:444\u001b[0m, in \u001b[0;36mHTTPConnectionPool._make_request\u001b[0;34m(self, conn, method, url, timeout, chunked, **httplib_request_kw)\u001b[0m\n\u001b[1;32m    441\u001b[0m \u001b[38;5;28;01mexcept\u001b[39;00m \u001b[38;5;167;01mTypeError\u001b[39;00m:\n\u001b[1;32m    442\u001b[0m     \u001b[38;5;66;03m# Python 3\u001b[39;00m\n\u001b[1;32m    443\u001b[0m     \u001b[38;5;28;01mtry\u001b[39;00m:\n\u001b[0;32m--> 444\u001b[0m         httplib_response \u001b[38;5;241m=\u001b[39m \u001b[43mconn\u001b[49m\u001b[38;5;241;43m.\u001b[39;49m\u001b[43mgetresponse\u001b[49m\u001b[43m(\u001b[49m\u001b[43m)\u001b[49m\n\u001b[1;32m    445\u001b[0m     \u001b[38;5;28;01mexcept\u001b[39;00m \u001b[38;5;167;01mBaseException\u001b[39;00m \u001b[38;5;28;01mas\u001b[39;00m e:\n\u001b[1;32m    446\u001b[0m         \u001b[38;5;66;03m# Remove the TypeError from the exception chain in\u001b[39;00m\n\u001b[1;32m    447\u001b[0m         \u001b[38;5;66;03m# Python 3 (including for exceptions like SystemExit).\u001b[39;00m\n\u001b[1;32m    448\u001b[0m         \u001b[38;5;66;03m# Otherwise it looks like a bug in the code.\u001b[39;00m\n\u001b[1;32m    449\u001b[0m         six\u001b[38;5;241m.\u001b[39mraise_from(e, \u001b[38;5;28;01mNone\u001b[39;00m)\n",
      "File \u001b[0;32m/Library/Developer/CommandLineTools/Library/Frameworks/Python3.framework/Versions/3.9/lib/python3.9/http/client.py:1349\u001b[0m, in \u001b[0;36mHTTPConnection.getresponse\u001b[0;34m(self)\u001b[0m\n\u001b[1;32m   1347\u001b[0m \u001b[38;5;28;01mtry\u001b[39;00m:\n\u001b[1;32m   1348\u001b[0m     \u001b[38;5;28;01mtry\u001b[39;00m:\n\u001b[0;32m-> 1349\u001b[0m         \u001b[43mresponse\u001b[49m\u001b[38;5;241;43m.\u001b[39;49m\u001b[43mbegin\u001b[49m\u001b[43m(\u001b[49m\u001b[43m)\u001b[49m\n\u001b[1;32m   1350\u001b[0m     \u001b[38;5;28;01mexcept\u001b[39;00m \u001b[38;5;167;01mConnectionError\u001b[39;00m:\n\u001b[1;32m   1351\u001b[0m         \u001b[38;5;28mself\u001b[39m\u001b[38;5;241m.\u001b[39mclose()\n",
      "File \u001b[0;32m/Library/Developer/CommandLineTools/Library/Frameworks/Python3.framework/Versions/3.9/lib/python3.9/http/client.py:316\u001b[0m, in \u001b[0;36mHTTPResponse.begin\u001b[0;34m(self)\u001b[0m\n\u001b[1;32m    314\u001b[0m \u001b[38;5;66;03m# read until we get a non-100 response\u001b[39;00m\n\u001b[1;32m    315\u001b[0m \u001b[38;5;28;01mwhile\u001b[39;00m \u001b[38;5;28;01mTrue\u001b[39;00m:\n\u001b[0;32m--> 316\u001b[0m     version, status, reason \u001b[38;5;241m=\u001b[39m \u001b[38;5;28;43mself\u001b[39;49m\u001b[38;5;241;43m.\u001b[39;49m\u001b[43m_read_status\u001b[49m\u001b[43m(\u001b[49m\u001b[43m)\u001b[49m\n\u001b[1;32m    317\u001b[0m     \u001b[38;5;28;01mif\u001b[39;00m status \u001b[38;5;241m!=\u001b[39m CONTINUE:\n\u001b[1;32m    318\u001b[0m         \u001b[38;5;28;01mbreak\u001b[39;00m\n",
      "File \u001b[0;32m/Library/Developer/CommandLineTools/Library/Frameworks/Python3.framework/Versions/3.9/lib/python3.9/http/client.py:277\u001b[0m, in \u001b[0;36mHTTPResponse._read_status\u001b[0;34m(self)\u001b[0m\n\u001b[1;32m    276\u001b[0m \u001b[38;5;28;01mdef\u001b[39;00m \u001b[38;5;21m_read_status\u001b[39m(\u001b[38;5;28mself\u001b[39m):\n\u001b[0;32m--> 277\u001b[0m     line \u001b[38;5;241m=\u001b[39m \u001b[38;5;28mstr\u001b[39m(\u001b[38;5;28;43mself\u001b[39;49m\u001b[38;5;241;43m.\u001b[39;49m\u001b[43mfp\u001b[49m\u001b[38;5;241;43m.\u001b[39;49m\u001b[43mreadline\u001b[49m\u001b[43m(\u001b[49m\u001b[43m_MAXLINE\u001b[49m\u001b[43m \u001b[49m\u001b[38;5;241;43m+\u001b[39;49m\u001b[43m \u001b[49m\u001b[38;5;241;43m1\u001b[39;49m\u001b[43m)\u001b[49m, \u001b[38;5;124m\"\u001b[39m\u001b[38;5;124miso-8859-1\u001b[39m\u001b[38;5;124m\"\u001b[39m)\n\u001b[1;32m    278\u001b[0m     \u001b[38;5;28;01mif\u001b[39;00m \u001b[38;5;28mlen\u001b[39m(line) \u001b[38;5;241m>\u001b[39m _MAXLINE:\n\u001b[1;32m    279\u001b[0m         \u001b[38;5;28;01mraise\u001b[39;00m LineTooLong(\u001b[38;5;124m\"\u001b[39m\u001b[38;5;124mstatus line\u001b[39m\u001b[38;5;124m\"\u001b[39m)\n",
      "File \u001b[0;32m/Library/Developer/CommandLineTools/Library/Frameworks/Python3.framework/Versions/3.9/lib/python3.9/socket.py:704\u001b[0m, in \u001b[0;36mSocketIO.readinto\u001b[0;34m(self, b)\u001b[0m\n\u001b[1;32m    702\u001b[0m \u001b[38;5;28;01mwhile\u001b[39;00m \u001b[38;5;28;01mTrue\u001b[39;00m:\n\u001b[1;32m    703\u001b[0m     \u001b[38;5;28;01mtry\u001b[39;00m:\n\u001b[0;32m--> 704\u001b[0m         \u001b[38;5;28;01mreturn\u001b[39;00m \u001b[38;5;28;43mself\u001b[39;49m\u001b[38;5;241;43m.\u001b[39;49m\u001b[43m_sock\u001b[49m\u001b[38;5;241;43m.\u001b[39;49m\u001b[43mrecv_into\u001b[49m\u001b[43m(\u001b[49m\u001b[43mb\u001b[49m\u001b[43m)\u001b[49m\n\u001b[1;32m    705\u001b[0m     \u001b[38;5;28;01mexcept\u001b[39;00m timeout:\n\u001b[1;32m    706\u001b[0m         \u001b[38;5;28mself\u001b[39m\u001b[38;5;241m.\u001b[39m_timeout_occurred \u001b[38;5;241m=\u001b[39m \u001b[38;5;28;01mTrue\u001b[39;00m\n",
      "File \u001b[0;32m/Library/Developer/CommandLineTools/Library/Frameworks/Python3.framework/Versions/3.9/lib/python3.9/ssl.py:1241\u001b[0m, in \u001b[0;36mSSLSocket.recv_into\u001b[0;34m(self, buffer, nbytes, flags)\u001b[0m\n\u001b[1;32m   1237\u001b[0m     \u001b[38;5;28;01mif\u001b[39;00m flags \u001b[38;5;241m!=\u001b[39m \u001b[38;5;241m0\u001b[39m:\n\u001b[1;32m   1238\u001b[0m         \u001b[38;5;28;01mraise\u001b[39;00m \u001b[38;5;167;01mValueError\u001b[39;00m(\n\u001b[1;32m   1239\u001b[0m           \u001b[38;5;124m\"\u001b[39m\u001b[38;5;124mnon-zero flags not allowed in calls to recv_into() on \u001b[39m\u001b[38;5;132;01m%s\u001b[39;00m\u001b[38;5;124m\"\u001b[39m \u001b[38;5;241m%\u001b[39m\n\u001b[1;32m   1240\u001b[0m           \u001b[38;5;28mself\u001b[39m\u001b[38;5;241m.\u001b[39m\u001b[38;5;18m__class__\u001b[39m)\n\u001b[0;32m-> 1241\u001b[0m     \u001b[38;5;28;01mreturn\u001b[39;00m \u001b[38;5;28;43mself\u001b[39;49m\u001b[38;5;241;43m.\u001b[39;49m\u001b[43mread\u001b[49m\u001b[43m(\u001b[49m\u001b[43mnbytes\u001b[49m\u001b[43m,\u001b[49m\u001b[43m \u001b[49m\u001b[43mbuffer\u001b[49m\u001b[43m)\u001b[49m\n\u001b[1;32m   1242\u001b[0m \u001b[38;5;28;01melse\u001b[39;00m:\n\u001b[1;32m   1243\u001b[0m     \u001b[38;5;28;01mreturn\u001b[39;00m \u001b[38;5;28msuper\u001b[39m()\u001b[38;5;241m.\u001b[39mrecv_into(buffer, nbytes, flags)\n",
      "File \u001b[0;32m/Library/Developer/CommandLineTools/Library/Frameworks/Python3.framework/Versions/3.9/lib/python3.9/ssl.py:1099\u001b[0m, in \u001b[0;36mSSLSocket.read\u001b[0;34m(self, len, buffer)\u001b[0m\n\u001b[1;32m   1097\u001b[0m \u001b[38;5;28;01mtry\u001b[39;00m:\n\u001b[1;32m   1098\u001b[0m     \u001b[38;5;28;01mif\u001b[39;00m buffer \u001b[38;5;129;01mis\u001b[39;00m \u001b[38;5;129;01mnot\u001b[39;00m \u001b[38;5;28;01mNone\u001b[39;00m:\n\u001b[0;32m-> 1099\u001b[0m         \u001b[38;5;28;01mreturn\u001b[39;00m \u001b[38;5;28;43mself\u001b[39;49m\u001b[38;5;241;43m.\u001b[39;49m\u001b[43m_sslobj\u001b[49m\u001b[38;5;241;43m.\u001b[39;49m\u001b[43mread\u001b[49m\u001b[43m(\u001b[49m\u001b[38;5;28;43mlen\u001b[39;49m\u001b[43m,\u001b[49m\u001b[43m \u001b[49m\u001b[43mbuffer\u001b[49m\u001b[43m)\u001b[49m\n\u001b[1;32m   1100\u001b[0m     \u001b[38;5;28;01melse\u001b[39;00m:\n\u001b[1;32m   1101\u001b[0m         \u001b[38;5;28;01mreturn\u001b[39;00m \u001b[38;5;28mself\u001b[39m\u001b[38;5;241m.\u001b[39m_sslobj\u001b[38;5;241m.\u001b[39mread(\u001b[38;5;28mlen\u001b[39m)\n",
      "\u001b[0;31mKeyboardInterrupt\u001b[0m: "
     ]
    }
   ],
   "source": [
    "result = main()"
   ]
  },
  {
   "cell_type": "code",
   "execution_count": 63,
   "id": "7d8b64e2",
   "metadata": {},
   "outputs": [
    {
     "data": {
      "text/plain": [
       "(0.5862068965517241,\n",
       " 0.68,\n",
       " 0.6296296296296295,\n",
       " defaultdict(float, {0: 0.6, 4: 0.6666666666666666, 5: 0.8571428571428571}))"
      ]
     },
     "execution_count": 63,
     "metadata": {},
     "output_type": "execute_result"
    }
   ],
   "source": [
    "result"
   ]
  },
  {
   "cell_type": "code",
   "execution_count": 249,
   "id": "f7ec30e9",
   "metadata": {},
   "outputs": [
    {
     "data": {
      "text/plain": [
       "7693"
      ]
     },
     "execution_count": 249,
     "metadata": {},
     "output_type": "execute_result"
    }
   ],
   "source": [
    "len(test_tables)"
   ]
  },
  {
   "cell_type": "code",
   "execution_count": 252,
   "id": "5abbd771",
   "metadata": {
    "scrolled": true
   },
   "outputs": [
    {
     "data": {
      "text/html": [
       "<div>\n",
       "<style scoped>\n",
       "    .dataframe tbody tr th:only-of-type {\n",
       "        vertical-align: middle;\n",
       "    }\n",
       "\n",
       "    .dataframe tbody tr th {\n",
       "        vertical-align: top;\n",
       "    }\n",
       "\n",
       "    .dataframe thead th {\n",
       "        text-align: right;\n",
       "    }\n",
       "</style>\n",
       "<table border=\"1\" class=\"dataframe\">\n",
       "  <thead>\n",
       "    <tr style=\"text-align: right;\">\n",
       "      <th></th>\n",
       "      <th>_id</th>\n",
       "      <th>numCols</th>\n",
       "      <th>numDataRows</th>\n",
       "      <th>numHeaderRows</th>\n",
       "      <th>numericColumns</th>\n",
       "      <th>order</th>\n",
       "      <th>pgId</th>\n",
       "      <th>pgTitle</th>\n",
       "      <th>sectionTitle</th>\n",
       "      <th>tableCaption</th>\n",
       "      <th>tableData</th>\n",
       "      <th>tableHeaders</th>\n",
       "      <th>tableId</th>\n",
       "      <th>tableCaption_tokenized</th>\n",
       "      <th>tableCaption_input_ids</th>\n",
       "    </tr>\n",
       "  </thead>\n",
       "  <tbody>\n",
       "    <tr>\n",
       "      <th>0</th>\n",
       "      <td>33693228-4</td>\n",
       "      <td>7</td>\n",
       "      <td>3</td>\n",
       "      <td>1</td>\n",
       "      <td>[5]</td>\n",
       "      <td>0.810551</td>\n",
       "      <td>33693228</td>\n",
       "      <td>1986–87 Leicester City F.C. season</td>\n",
       "      <td>League Cup</td>\n",
       "      <td>League Cup</td>\n",
       "      <td>[[{'cellID': -1, 'textTokens': [], 'text': 'R2...</td>\n",
       "      <td>[[{'cellID': -1, 'textTokens': [], 'text': 'Ro...</td>\n",
       "      <td>4</td>\n",
       "      <td>['league', 'cup']</td>\n",
       "      <td>[2223, 2452]</td>\n",
       "    </tr>\n",
       "    <tr>\n",
       "      <th>1</th>\n",
       "      <td>18618386-5</td>\n",
       "      <td>6</td>\n",
       "      <td>4</td>\n",
       "      <td>1</td>\n",
       "      <td>[0, 3]</td>\n",
       "      <td>0.903776</td>\n",
       "      <td>18618386</td>\n",
       "      <td>United Kingdom in the Eurovision Song Contest ...</td>\n",
       "      <td>Heat 3</td>\n",
       "      <td>Heat 3–24 January 2009</td>\n",
       "      <td>[[{'cellID': -1, 'textTokens': [], 'text': '1'...</td>\n",
       "      <td>[[{'cellID': -1, 'textTokens': [], 'text': 'Dr...</td>\n",
       "      <td>5</td>\n",
       "      <td>['heat', '3', '–', '24', 'january', '2009']</td>\n",
       "      <td>[3684, 1017, 1516, 2484, 2254, 2268]</td>\n",
       "    </tr>\n",
       "    <tr>\n",
       "      <th>2</th>\n",
       "      <td>19432860-2</td>\n",
       "      <td>4</td>\n",
       "      <td>8</td>\n",
       "      <td>1</td>\n",
       "      <td>[0]</td>\n",
       "      <td>0.054548</td>\n",
       "      <td>19432860</td>\n",
       "      <td>Athletics at the 2008 Summer Paralympics – Men...</td>\n",
       "      <td>Results</td>\n",
       "      <td>Results</td>\n",
       "      <td>[[{'cellID': -1, 'textTokens': [], 'text': '1'...</td>\n",
       "      <td>[[{'cellID': -1, 'textTokens': [], 'text': 'Pl...</td>\n",
       "      <td>2</td>\n",
       "      <td>['results']</td>\n",
       "      <td>[3463]</td>\n",
       "    </tr>\n",
       "    <tr>\n",
       "      <th>3</th>\n",
       "      <td>25169553-2</td>\n",
       "      <td>7</td>\n",
       "      <td>3</td>\n",
       "      <td>1</td>\n",
       "      <td>[]</td>\n",
       "      <td>0.847328</td>\n",
       "      <td>25169553</td>\n",
       "      <td>2009 World Weightlifting Championships – Men's...</td>\n",
       "      <td>Medalists</td>\n",
       "      <td>Medalists</td>\n",
       "      <td>[[{'cellID': -1, 'textTokens': [], 'text': 'Sn...</td>\n",
       "      <td>[[{'cellID': -1, 'textTokens': [], 'text': 'Ev...</td>\n",
       "      <td>2</td>\n",
       "      <td>['medalist', '##s']</td>\n",
       "      <td>[12968, 2015]</td>\n",
       "    </tr>\n",
       "    <tr>\n",
       "      <th>4</th>\n",
       "      <td>22906951-1</td>\n",
       "      <td>6</td>\n",
       "      <td>4</td>\n",
       "      <td>1</td>\n",
       "      <td>[0, 5]</td>\n",
       "      <td>0.632967</td>\n",
       "      <td>22906951</td>\n",
       "      <td>Miss Viet Nam Continents</td>\n",
       "      <td>History</td>\n",
       "      <td>History</td>\n",
       "      <td>[[{'cellID': -1, 'textTokens': [], 'text': '20...</td>\n",
       "      <td>[[{'cellID': -1, 'textTokens': [], 'text': 'Ye...</td>\n",
       "      <td>1</td>\n",
       "      <td>['history']</td>\n",
       "      <td>[2381]</td>\n",
       "    </tr>\n",
       "    <tr>\n",
       "      <th>...</th>\n",
       "      <td>...</td>\n",
       "      <td>...</td>\n",
       "      <td>...</td>\n",
       "      <td>...</td>\n",
       "      <td>...</td>\n",
       "      <td>...</td>\n",
       "      <td>...</td>\n",
       "      <td>...</td>\n",
       "      <td>...</td>\n",
       "      <td>...</td>\n",
       "      <td>...</td>\n",
       "      <td>...</td>\n",
       "      <td>...</td>\n",
       "      <td>...</td>\n",
       "      <td>...</td>\n",
       "    </tr>\n",
       "    <tr>\n",
       "      <th>7688</th>\n",
       "      <td>6711640-14</td>\n",
       "      <td>4</td>\n",
       "      <td>5</td>\n",
       "      <td>1</td>\n",
       "      <td>[0]</td>\n",
       "      <td>0.791999</td>\n",
       "      <td>6711640</td>\n",
       "      <td>Athletics at the 1912 Summer Olympics – Men's ...</td>\n",
       "      <td>Heats</td>\n",
       "      <td>Heats</td>\n",
       "      <td>[[{'cellID': -1, 'textTokens': [], 'text': '1'...</td>\n",
       "      <td>[[{'cellID': -1, 'textTokens': [], 'text': 'Pl...</td>\n",
       "      <td>14</td>\n",
       "      <td>['heats']</td>\n",
       "      <td>[18559]</td>\n",
       "    </tr>\n",
       "    <tr>\n",
       "      <th>7689</th>\n",
       "      <td>34882244-3</td>\n",
       "      <td>7</td>\n",
       "      <td>5</td>\n",
       "      <td>1</td>\n",
       "      <td>[]</td>\n",
       "      <td>0.059473</td>\n",
       "      <td>34882244</td>\n",
       "      <td>1996 World Single Distance Speed Skating Champ...</td>\n",
       "      <td>Women's Events</td>\n",
       "      <td>Women's Events</td>\n",
       "      <td>[[{'cellID': -1, 'textTokens': [], 'text': '50...</td>\n",
       "      <td>[[{'cellID': -1, 'textTokens': [], 'text': 'Ev...</td>\n",
       "      <td>3</td>\n",
       "      <td>['women', \"'\", 's', 'events']</td>\n",
       "      <td>[2308, 1005, 1055, 2824]</td>\n",
       "    </tr>\n",
       "    <tr>\n",
       "      <th>7690</th>\n",
       "      <td>1213164-1</td>\n",
       "      <td>3</td>\n",
       "      <td>3</td>\n",
       "      <td>1</td>\n",
       "      <td>[1]</td>\n",
       "      <td>0.400993</td>\n",
       "      <td>1213164</td>\n",
       "      <td>Playland (Vancouver)</td>\n",
       "      <td>Roller coasters</td>\n",
       "      <td>Roller coasters</td>\n",
       "      <td>[[{'cellID': -1, 'textTokens': [], 'text': 'Wo...</td>\n",
       "      <td>[[{'cellID': -1, 'textTokens': [], 'text': 'Ri...</td>\n",
       "      <td>1</td>\n",
       "      <td>['roller', 'coaster', '##s']</td>\n",
       "      <td>[11220, 16817, 2015]</td>\n",
       "    </tr>\n",
       "    <tr>\n",
       "      <th>7691</th>\n",
       "      <td>2807840-2</td>\n",
       "      <td>6</td>\n",
       "      <td>3</td>\n",
       "      <td>1</td>\n",
       "      <td>[0, 3]</td>\n",
       "      <td>0.924092</td>\n",
       "      <td>2807840</td>\n",
       "      <td>Conway Scenic Railroad</td>\n",
       "      <td>Inoperable units</td>\n",
       "      <td>Inoperable units</td>\n",
       "      <td>[[{'cellID': -1, 'textTokens': [], 'text': '50...</td>\n",
       "      <td>[[{'cellID': -1, 'textTokens': [], 'text': 'Nu...</td>\n",
       "      <td>2</td>\n",
       "      <td>['in', '##oper', '##able', 'units']</td>\n",
       "      <td>[1999, 25918, 3085, 3197]</td>\n",
       "    </tr>\n",
       "    <tr>\n",
       "      <th>7692</th>\n",
       "      <td>12926673-1</td>\n",
       "      <td>5</td>\n",
       "      <td>10</td>\n",
       "      <td>1</td>\n",
       "      <td>[0, 4]</td>\n",
       "      <td>0.172960</td>\n",
       "      <td>12926673</td>\n",
       "      <td>2007 GP Ouest-France</td>\n",
       "      <td>02-09-2007:  , 226 km.</td>\n",
       "      <td>02-09-2007:  , 226 km.</td>\n",
       "      <td>[[{'cellID': -1, 'textTokens': [], 'text': '1'...</td>\n",
       "      <td>[[{'cellID': -1, 'textTokens': [], 'text': '',...</td>\n",
       "      <td>1</td>\n",
       "      <td>['02', '-', '09', '-', '2007', ':', ',', '226'...</td>\n",
       "      <td>[6185, 1011, 5641, 1011, 2289, 1024, 1010, 210...</td>\n",
       "    </tr>\n",
       "  </tbody>\n",
       "</table>\n",
       "<p>7693 rows × 15 columns</p>\n",
       "</div>"
      ],
      "text/plain": [
       "             _id  numCols  numDataRows  numHeaderRows numericColumns  \\\n",
       "0     33693228-4        7            3              1            [5]   \n",
       "1     18618386-5        6            4              1         [0, 3]   \n",
       "2     19432860-2        4            8              1            [0]   \n",
       "3     25169553-2        7            3              1             []   \n",
       "4     22906951-1        6            4              1         [0, 5]   \n",
       "...          ...      ...          ...            ...            ...   \n",
       "7688  6711640-14        4            5              1            [0]   \n",
       "7689  34882244-3        7            5              1             []   \n",
       "7690   1213164-1        3            3              1            [1]   \n",
       "7691   2807840-2        6            3              1         [0, 3]   \n",
       "7692  12926673-1        5           10              1         [0, 4]   \n",
       "\n",
       "         order      pgId                                            pgTitle  \\\n",
       "0     0.810551  33693228                 1986–87 Leicester City F.C. season   \n",
       "1     0.903776  18618386  United Kingdom in the Eurovision Song Contest ...   \n",
       "2     0.054548  19432860  Athletics at the 2008 Summer Paralympics – Men...   \n",
       "3     0.847328  25169553  2009 World Weightlifting Championships – Men's...   \n",
       "4     0.632967  22906951                           Miss Viet Nam Continents   \n",
       "...        ...       ...                                                ...   \n",
       "7688  0.791999   6711640  Athletics at the 1912 Summer Olympics – Men's ...   \n",
       "7689  0.059473  34882244  1996 World Single Distance Speed Skating Champ...   \n",
       "7690  0.400993   1213164                               Playland (Vancouver)   \n",
       "7691  0.924092   2807840                             Conway Scenic Railroad   \n",
       "7692  0.172960  12926673                               2007 GP Ouest-France   \n",
       "\n",
       "                sectionTitle            tableCaption  \\\n",
       "0                 League Cup              League Cup   \n",
       "1                     Heat 3  Heat 3–24 January 2009   \n",
       "2                    Results                 Results   \n",
       "3                  Medalists               Medalists   \n",
       "4                    History                 History   \n",
       "...                      ...                     ...   \n",
       "7688                   Heats                   Heats   \n",
       "7689          Women's Events          Women's Events   \n",
       "7690         Roller coasters         Roller coasters   \n",
       "7691        Inoperable units        Inoperable units   \n",
       "7692  02-09-2007:  , 226 km.  02-09-2007:  , 226 km.   \n",
       "\n",
       "                                              tableData  \\\n",
       "0     [[{'cellID': -1, 'textTokens': [], 'text': 'R2...   \n",
       "1     [[{'cellID': -1, 'textTokens': [], 'text': '1'...   \n",
       "2     [[{'cellID': -1, 'textTokens': [], 'text': '1'...   \n",
       "3     [[{'cellID': -1, 'textTokens': [], 'text': 'Sn...   \n",
       "4     [[{'cellID': -1, 'textTokens': [], 'text': '20...   \n",
       "...                                                 ...   \n",
       "7688  [[{'cellID': -1, 'textTokens': [], 'text': '1'...   \n",
       "7689  [[{'cellID': -1, 'textTokens': [], 'text': '50...   \n",
       "7690  [[{'cellID': -1, 'textTokens': [], 'text': 'Wo...   \n",
       "7691  [[{'cellID': -1, 'textTokens': [], 'text': '50...   \n",
       "7692  [[{'cellID': -1, 'textTokens': [], 'text': '1'...   \n",
       "\n",
       "                                           tableHeaders  tableId  \\\n",
       "0     [[{'cellID': -1, 'textTokens': [], 'text': 'Ro...        4   \n",
       "1     [[{'cellID': -1, 'textTokens': [], 'text': 'Dr...        5   \n",
       "2     [[{'cellID': -1, 'textTokens': [], 'text': 'Pl...        2   \n",
       "3     [[{'cellID': -1, 'textTokens': [], 'text': 'Ev...        2   \n",
       "4     [[{'cellID': -1, 'textTokens': [], 'text': 'Ye...        1   \n",
       "...                                                 ...      ...   \n",
       "7688  [[{'cellID': -1, 'textTokens': [], 'text': 'Pl...       14   \n",
       "7689  [[{'cellID': -1, 'textTokens': [], 'text': 'Ev...        3   \n",
       "7690  [[{'cellID': -1, 'textTokens': [], 'text': 'Ri...        1   \n",
       "7691  [[{'cellID': -1, 'textTokens': [], 'text': 'Nu...        2   \n",
       "7692  [[{'cellID': -1, 'textTokens': [], 'text': '',...        1   \n",
       "\n",
       "                                 tableCaption_tokenized  \\\n",
       "0                                     ['league', 'cup']   \n",
       "1           ['heat', '3', '–', '24', 'january', '2009']   \n",
       "2                                           ['results']   \n",
       "3                                   ['medalist', '##s']   \n",
       "4                                           ['history']   \n",
       "...                                                 ...   \n",
       "7688                                          ['heats']   \n",
       "7689                      ['women', \"'\", 's', 'events']   \n",
       "7690                       ['roller', 'coaster', '##s']   \n",
       "7691                ['in', '##oper', '##able', 'units']   \n",
       "7692  ['02', '-', '09', '-', '2007', ':', ',', '226'...   \n",
       "\n",
       "                                 tableCaption_input_ids  \n",
       "0                                          [2223, 2452]  \n",
       "1                  [3684, 1017, 1516, 2484, 2254, 2268]  \n",
       "2                                                [3463]  \n",
       "3                                         [12968, 2015]  \n",
       "4                                                [2381]  \n",
       "...                                                 ...  \n",
       "7688                                            [18559]  \n",
       "7689                           [2308, 1005, 1055, 2824]  \n",
       "7690                               [11220, 16817, 2015]  \n",
       "7691                          [1999, 25918, 3085, 3197]  \n",
       "7692  [6185, 1011, 5641, 1011, 2289, 1024, 1010, 210...  \n",
       "\n",
       "[7693 rows x 15 columns]"
      ]
     },
     "execution_count": 252,
     "metadata": {},
     "output_type": "execute_result"
    }
   ],
   "source": [
    "test_tables.iloc[0]"
   ]
  },
  {
   "cell_type": "code",
   "execution_count": 284,
   "id": "ecc222aa",
   "metadata": {},
   "outputs": [],
   "source": [
    "#test_tables[\"tableData\"] = test_tables[\"tableData\"].apply(eval)\n",
    "test_tables[\"tableHeaders\"] = test_tables[\"tableHeaders\"].apply(eval)"
   ]
  },
  {
   "cell_type": "code",
   "execution_count": 34,
   "id": "91c26dbd",
   "metadata": {},
   "outputs": [],
   "source": [
    "for i in range(len(test_tables)):\n",
    "    \n",
    "    table = test_tables.iloc[i]\n",
    "    #print(table[\"tableId\"])\n",
    "    table_data = table[\"tableData\"]    \n",
    "    \n",
    "    \n",
    "    for i, row in enumerate(table_data):\n",
    "        \n",
    "        data_row = []\n",
    "\n",
    "        for cell in range(len(row)):\n",
    "        \n",
    "            cell_text = row[cell]['text']        \n",
    "            \n",
    "            if 'annotation' in row[cell]:\n",
    "                annos = row[cell]['annotation']\n",
    "                for a in annos:\n",
    "                    \n",
    "                    if a[-1] == 6:\n",
    "                        print(a)\n",
    "              #  row[cell]['annotation'] = [(*nested[0], *nested[1:]) for nested in row[cell]['annotation']]"
   ]
  },
  {
   "cell_type": "code",
   "execution_count": 68,
   "id": "ddec682a",
   "metadata": {},
   "outputs": [],
   "source": [
    "test_tables.to_csv('span_based_test_tables.csv', index=False)"
   ]
  },
  {
   "cell_type": "code",
   "execution_count": 14,
   "id": "b2478ee3",
   "metadata": {},
   "outputs": [],
   "source": [
    "text = '''Output:\n",
    "GAAAAAARBIIIIIGE\n",
    "[{\"entity\": \"Swansea City\",   \"type\": \"Organization\",   \"cell_index\": [0, 2] },    \n",
    "{\"entity\": \"McAllister\",    \"type\": \"Person\",    \"cell_index\": [1, 6]},    \n",
    "{\"entity\": \"Smith\",    \"type\": \"Person\",    \"cell_index\": [1, 7]},    \n",
    "{\"entity\": \"Morgan\",    \"type\": \"Person\",    \"cell_index\": [2, 6]},    \n",
    "{\"entity\": \"Moran\",    \"type\": \"Person\",    \"cell_index\": [2, 8]},    \n",
    "{\"entity\": \"Liverpool\",    \"type\": \"Organization\",    \"cell_index\": [2, 2]}]<|im_end|> 33693228-4\n",
    " Do not use external libraries. Use only the EntityLinking class. \n",
    "' The EntityLinking class should have a public method \"link_entities\" that receives a list of strings representing the input table, \n",
    "' and returns a list of dictionaries, where each dictionary contains the entity, the type of the entity and the cell index (row, column) of the entity.\n",
    "' If there are no entities in the input table, the method should return an empty list.\n",
    "' If the input is invalid, the method should raise an exception with the message \"Invalid input\".<|im_end|> 18618386-5\n",
    " Do not change the order of the columns.\n",
    "'''"
   ]
  },
  {
   "cell_type": "code",
   "execution_count": 1,
   "id": "7727e98a",
   "metadata": {},
   "outputs": [],
   "source": [
    "import re\n",
    "import json"
   ]
  },
  {
   "cell_type": "code",
   "execution_count": 72,
   "id": "ec0649f0",
   "metadata": {},
   "outputs": [],
   "source": [
    "text = \"\"\"\n",
    "Output:\n",
    "[{\"entity\": \"Swansea City\", \"type\": \"Organisation\", \"cell_index\": [0, 2]},\n",
    " {\"entity\": \"A\", \"type\": \"Place\", \"cell_index\": [0, 3]},\n",
    " {\"entity\": \"McAllister\", \"type\": \"Person\", \"cell_index\": [0, 6]},\n",
    " {\"entity\": \"Smith\", \"type\": \"Person\", \"cell_index\": [0, 6]},\n",
    " {\"entity\": \"Swansea City\", \"type\": \"Organisation\", \"cell_index\": [1, 2]},\n",
    " {\"entity\": \"H\", \"type\": \"Place\", \"cell_index\": [1, 3]},\n",
    " {\"entity\": \"Morgan\", \"type\": \"Person\", \"cell_index\": [1, 6]},\n",
    " {\"entity\": \"Smith\", \"type\": \"Person\", \"cell_index\": [1, 6]},\n",
    " {\"entity\": \"Moran\", \"type\": \"Person\", \"cell_index\": [1, 6]},\n",
    " {\"entity\": \"Liverpool\", \"type\": \"Organisation\", \"cell_index\": [2, 2]},\n",
    " {\"entity\": \"A\", \"type\": \"Place\", \"cell_index\": [2, 3]},\n",
    " {\"entity\": \"Moran\", \"type\": \"Person\", \"cell_index\": [2, 6]}]\n",
    "\"\"\""
   ]
  },
  {
   "cell_type": "code",
   "execution_count": 73,
   "id": "1c907153",
   "metadata": {},
   "outputs": [],
   "source": [
    "match_start = re.search('\\[\\{', text)\n",
    "match_end = re.search('\\}\\]', text)\n",
    "json_start = match_start.span()[0]\n",
    "json_end = match_end.span()[1]      "
   ]
  },
  {
   "cell_type": "code",
   "execution_count": 74,
   "id": "c66edf63",
   "metadata": {},
   "outputs": [
    {
     "data": {
      "text/plain": [
       "(<re.Match object; span=(9, 11), match='[{'>,\n",
       " <re.Match object; span=(777, 779), match='}]'>)"
      ]
     },
     "execution_count": 74,
     "metadata": {},
     "output_type": "execute_result"
    }
   ],
   "source": [
    "match_start, match_end"
   ]
  },
  {
   "cell_type": "code",
   "execution_count": 75,
   "id": "6ca46ad3",
   "metadata": {},
   "outputs": [
    {
     "data": {
      "text/plain": [
       "(9, 779)"
      ]
     },
     "execution_count": 75,
     "metadata": {},
     "output_type": "execute_result"
    }
   ],
   "source": [
    "json_start,json_end"
   ]
  },
  {
   "cell_type": "code",
   "execution_count": 76,
   "id": "9dc21abe",
   "metadata": {},
   "outputs": [
    {
     "data": {
      "text/plain": [
       "9"
      ]
     },
     "execution_count": 76,
     "metadata": {},
     "output_type": "execute_result"
    }
   ],
   "source": [
    "match_start.span()[1]-2"
   ]
  },
  {
   "cell_type": "code",
   "execution_count": 79,
   "id": "70e8333e",
   "metadata": {},
   "outputs": [],
   "source": [
    "a = json.loads(text[9:779])"
   ]
  },
  {
   "cell_type": "code",
   "execution_count": 80,
   "id": "1dff1534",
   "metadata": {},
   "outputs": [
    {
     "data": {
      "text/plain": [
       "12"
      ]
     },
     "execution_count": 80,
     "metadata": {},
     "output_type": "execute_result"
    }
   ],
   "source": [
    "len(a)"
   ]
  },
  {
   "cell_type": "code",
   "execution_count": 81,
   "id": "091719b0",
   "metadata": {},
   "outputs": [
    {
     "data": {
      "text/plain": [
       "[{'entity': 'Swansea City', 'type': 'Organisation', 'cell_index': [0, 2]},\n",
       " {'entity': 'A', 'type': 'Place', 'cell_index': [0, 3]},\n",
       " {'entity': 'McAllister', 'type': 'Person', 'cell_index': [0, 6]},\n",
       " {'entity': 'Smith', 'type': 'Person', 'cell_index': [0, 6]},\n",
       " {'entity': 'Swansea City', 'type': 'Organisation', 'cell_index': [1, 2]},\n",
       " {'entity': 'H', 'type': 'Place', 'cell_index': [1, 3]},\n",
       " {'entity': 'Morgan', 'type': 'Person', 'cell_index': [1, 6]},\n",
       " {'entity': 'Smith', 'type': 'Person', 'cell_index': [1, 6]},\n",
       " {'entity': 'Moran', 'type': 'Person', 'cell_index': [1, 6]},\n",
       " {'entity': 'Liverpool', 'type': 'Organisation', 'cell_index': [2, 2]},\n",
       " {'entity': 'A', 'type': 'Place', 'cell_index': [2, 3]},\n",
       " {'entity': 'Moran', 'type': 'Person', 'cell_index': [2, 6]}]"
      ]
     },
     "execution_count": 81,
     "metadata": {},
     "output_type": "execute_result"
    }
   ],
   "source": [
    "a "
   ]
  },
  {
   "cell_type": "code",
   "execution_count": null,
   "id": "f85a2bd8",
   "metadata": {},
   "outputs": [],
   "source": []
  }
 ],
 "metadata": {
  "kernelspec": {
   "display_name": "subcell_ner",
   "language": "python",
   "name": "subcell_ner"
  },
  "language_info": {
   "codemirror_mode": {
    "name": "ipython",
    "version": 3
   },
   "file_extension": ".py",
   "mimetype": "text/x-python",
   "name": "python",
   "nbconvert_exporter": "python",
   "pygments_lexer": "ipython3",
   "version": "3.9.6"
  }
 },
 "nbformat": 4,
 "nbformat_minor": 5
}
