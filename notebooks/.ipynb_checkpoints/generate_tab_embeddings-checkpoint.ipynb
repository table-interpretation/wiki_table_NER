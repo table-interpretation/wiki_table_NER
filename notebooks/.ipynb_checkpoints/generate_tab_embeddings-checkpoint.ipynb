{
 "cells": [
  {
   "cell_type": "markdown",
   "id": "f0b81a1f",
   "metadata": {},
   "source": [
    "## Generating the BERT embeddings for the tables which are used for the similarity-based search of few-shot examples"
   ]
  },
  {
   "cell_type": "code",
   "execution_count": 1,
   "id": "0118f9de",
   "metadata": {},
   "outputs": [],
   "source": [
    "import sys\n",
    "import os\n",
    "import pandas as pd\n",
    "import numpy as np\n",
    "import ast\n",
    "import torch\n",
    "import json\n",
    "import itertools\n",
    "import random"
   ]
  },
  {
   "cell_type": "code",
   "execution_count": 2,
   "id": "7d831c77",
   "metadata": {},
   "outputs": [],
   "source": [
    "import sys\n",
    "sys.path.append('/Users/z003yzhj/Desktop/Projects/tabner')"
   ]
  },
  {
   "cell_type": "code",
   "execution_count": 3,
   "id": "dfb31574",
   "metadata": {},
   "outputs": [
    {
     "name": "stdout",
     "output_type": "stream",
     "text": [
      "['/Users/z003yzhj/Desktop/Projects/tabner/notebooks', '/Library/Developer/CommandLineTools/Library/Frameworks/Python3.framework/Versions/3.9/lib/python39.zip', '/Library/Developer/CommandLineTools/Library/Frameworks/Python3.framework/Versions/3.9/lib/python3.9', '/Library/Developer/CommandLineTools/Library/Frameworks/Python3.framework/Versions/3.9/lib/python3.9/lib-dynload', '', '/Users/z003yzhj/Desktop/Projects/TabNER/venv/lib/python3.9/site-packages', '/Users/z003yzhj/Desktop/Projects/llama', '/Users/z003yzhj/Desktop/Projects/tabner']\n"
     ]
    }
   ],
   "source": [
    "print(sys.path)"
   ]
  },
  {
   "cell_type": "code",
   "execution_count": 4,
   "id": "33f7254f",
   "metadata": {},
   "outputs": [
    {
     "name": "stderr",
     "output_type": "stream",
     "text": [
      "/Users/z003yzhj/Desktop/Projects/TabNER/venv/lib/python3.9/site-packages/tqdm/auto.py:21: TqdmWarning: IProgress not found. Please update jupyter and ipywidgets. See https://ipywidgets.readthedocs.io/en/stable/user_install.html\n",
      "  from .autonotebook import tqdm as notebook_tqdm\n"
     ]
    }
   ],
   "source": [
    "from transformers import BertTokenizer, BertModel\n",
    "import torch"
   ]
  },
  {
   "cell_type": "code",
   "execution_count": 6,
   "id": "298300a5",
   "metadata": {},
   "outputs": [],
   "source": [
    "from utils import get_correct_anno, process_single_table_gpt"
   ]
  },
  {
   "cell_type": "code",
   "execution_count": 6,
   "id": "bad19634",
   "metadata": {},
   "outputs": [],
   "source": [
    "tokenizer = BertTokenizer.from_pretrained('bert-base-uncased')\n",
    "model = BertModel.from_pretrained('bert-base-uncased')"
   ]
  },
  {
   "cell_type": "code",
   "execution_count": 7,
   "id": "ff44564e",
   "metadata": {},
   "outputs": [],
   "source": [
    "seed_nr = 42\n",
    "generator = torch.Generator().manual_seed(seed_nr)"
   ]
  },
  {
   "cell_type": "code",
   "execution_count": 8,
   "id": "0dd5cd6c",
   "metadata": {},
   "outputs": [],
   "source": [
    "data_path=\"../data/final_NER_labeled_dataset.csv\"\n",
    "with open(data_path, 'r') as f:\n",
    "    ner_tables = json.load(f)   "
   ]
  },
  {
   "cell_type": "code",
   "execution_count": 9,
   "id": "3b302fad",
   "metadata": {},
   "outputs": [
    {
     "name": "stdout",
     "output_type": "stream",
     "text": [
      "{'Activity': 1, 'Organisation': 2, 'ArchitecturalStructure': 3, 'Event': 4, 'Place': 5, 'Person': 6, 'Work': 7}\n"
     ]
    }
   ],
   "source": [
    "labels_dict = {  \n",
    "            'Activity': 1,\n",
    "            'Organisation': 2,\n",
    "            'ArchitecturalStructure': 3,\n",
    "            'Event': 4,\n",
    "            'Place': 5,\n",
    "            'Person': 6,\n",
    "            'Work': 7,\n",
    "                }\n",
    "labels_dict_rev={v:k for k,v in labels_dict.items()}\n",
    "print(labels_dict)"
   ]
  },
  {
   "cell_type": "markdown",
   "id": "67338402",
   "metadata": {},
   "source": [
    "### Generate table embeddings for all tables and save in npy"
   ]
  },
  {
   "cell_type": "code",
   "execution_count": 10,
   "id": "df34ed9b",
   "metadata": {},
   "outputs": [
    {
     "data": {
      "text/plain": [
       "torch.Size([768])"
      ]
     },
     "execution_count": 10,
     "metadata": {},
     "output_type": "execute_result"
    }
   ],
   "source": [
    "test = process_single_table_gpt(model, tokenizer, ner_tables[84][0])\n",
    "test.shape"
   ]
  },
  {
   "cell_type": "code",
   "execution_count": 13,
   "id": "5741cb83",
   "metadata": {
    "scrolled": true
   },
   "outputs": [],
   "source": [
    "all_table_embeddings = []\n",
    "for i in range(len(ner_tables)):       \n",
    "    table = ner_tables[i][0]\n",
    "    table_embedding = process_single_table_gpt(model, tokenizer, table)\n",
    "    all_table_embeddings.append(table_embedding)\n",
    "    \n",
    "all_table_embeddings = np.array(all_table_embeddings)\n",
    "np.save('../output/bert_all_table_embeddings.npy', all_table_embeddings)"
   ]
  },
  {
   "cell_type": "code",
   "execution_count": 14,
   "id": "0cd43ef5",
   "metadata": {},
   "outputs": [
    {
     "data": {
      "text/plain": [
       "(51271, 768)"
      ]
     },
     "execution_count": 14,
     "metadata": {},
     "output_type": "execute_result"
    }
   ],
   "source": [
    "all_table_embeddings.shape"
   ]
  },
  {
   "cell_type": "code",
   "execution_count": 14,
   "id": "2e305070",
   "metadata": {},
   "outputs": [],
   "source": [
    "train_set, test_set = torch.utils.data.random_split(ner_tables, [49271, 2000], generator=generator)"
   ]
  },
  {
   "cell_type": "code",
   "execution_count": 15,
   "id": "c4bd5a58",
   "metadata": {},
   "outputs": [],
   "source": [
    "train_embeddings = all_table_embeddings[train_set.indices]"
   ]
  },
  {
   "cell_type": "markdown",
   "id": "22ac1f98",
   "metadata": {},
   "source": [
    "### Look for the 5 most similar tables to each test table, save indices and then generate prompt demos "
   ]
  },
  {
   "cell_type": "code",
   "execution_count": 17,
   "id": "10e4f276",
   "metadata": {},
   "outputs": [],
   "source": [
    "similar_sets = []\n",
    "for idx in test_set.indices:            \n",
    "    similar = np.dot(all_table_embeddings[idx], train_embeddings.T)\n",
    "    top3_similar_tables_indices = np.argsort(similar, axis=0)[-5:]    \n",
    "    similar_sets.append(tuple(top3_similar_tables_indices))"
   ]
  },
  {
   "cell_type": "code",
   "execution_count": 20,
   "id": "4f30b329",
   "metadata": {},
   "outputs": [],
   "source": [
    "expand = [item for subset in similar_sets for item in subset]"
   ]
  },
  {
   "cell_type": "markdown",
   "id": "344e482d",
   "metadata": {},
   "source": [
    "#### Some of the tables repeat, therefore we take the set of all the similar sets. For these tables, we get the correct annotations and prepare them for input to the prompt. We save them into a dict {tab_id: example_rows, example_NER_annotations}"
   ]
  },
  {
   "cell_type": "code",
   "execution_count": 21,
   "id": "d1281f1b",
   "metadata": {},
   "outputs": [
    {
     "data": {
      "text/plain": [
       "4675"
      ]
     },
     "execution_count": 21,
     "metadata": {},
     "output_type": "execute_result"
    }
   ],
   "source": [
    "len(set(expand))"
   ]
  },
  {
   "cell_type": "code",
   "execution_count": 22,
   "id": "e6230ebd",
   "metadata": {},
   "outputs": [],
   "source": [
    "# to generate the gt for the indices\n",
    "similar_tables = {}\n",
    "for i in expand:\n",
    "    tab_idx = train_set.indices[i]\n",
    "    table = ner_tables[tab_idx][0]   \n",
    "    \n",
    "    example_rows, example_NER_annotations, _ = get_correct_anno(table, labels_dict_rev)        \n",
    "    similar_tables[tab_idx] = [example_rows, example_NER_annotations]    "
   ]
  },
  {
   "cell_type": "code",
   "execution_count": 107,
   "id": "636e46b7",
   "metadata": {},
   "outputs": [],
   "source": [
    "with open(\"../output/similar_tables_examples.json\", \"r\") as f:\n",
    "    similar = json.load(f)"
   ]
  },
  {
   "cell_type": "code",
   "execution_count": 43,
   "id": "423855d5",
   "metadata": {},
   "outputs": [
    {
     "data": {
      "text/plain": [
       "'746'"
      ]
     },
     "execution_count": 43,
     "metadata": {},
     "output_type": "execute_result"
    }
   ],
   "source": [
    "list(similar.keys())[15]"
   ]
  },
  {
   "cell_type": "markdown",
   "id": "9854f7cf",
   "metadata": {},
   "source": [
    "### We sample tables with more than 4 entity types for the random selection of examples. We select the indices of the tables and use these in the function get_examples to get the example rows and the NER annotations."
   ]
  },
  {
   "cell_type": "code",
   "execution_count": 88,
   "id": "fa090b72",
   "metadata": {},
   "outputs": [],
   "source": [
    "inter = []\n",
    "for key, val in similar.items():\n",
    "    types = []\n",
    "    for el in val[1]:        \n",
    "        for k, v in el.items():\n",
    "            if k ==\"type\":\n",
    "                types.append(v)\n",
    "        \n",
    "    if len(set(types)) > 4:\n",
    "        inter.append(key)"
   ]
  },
  {
   "cell_type": "code",
   "execution_count": 89,
   "id": "05782f4e",
   "metadata": {
    "scrolled": true
   },
   "outputs": [
    {
     "data": {
      "text/plain": [
       "['25549',\n",
       " '5310',\n",
       " '25984',\n",
       " '34246',\n",
       " '7961',\n",
       " '36025',\n",
       " '3975',\n",
       " '1907',\n",
       " '1910',\n",
       " '1909',\n",
       " '14471',\n",
       " '9266',\n",
       " '27347',\n",
       " '27343',\n",
       " '49690',\n",
       " '6930',\n",
       " '10877',\n",
       " '7995',\n",
       " '13357',\n",
       " '13381',\n",
       " '8129',\n",
       " '46299',\n",
       " '37770',\n",
       " '42900',\n",
       " '6174',\n",
       " '15689',\n",
       " '38509',\n",
       " '33123',\n",
       " '26313',\n",
       " '35188',\n",
       " '44573',\n",
       " '34545',\n",
       " '49452',\n",
       " '43367',\n",
       " '45702',\n",
       " '45594',\n",
       " '45624',\n",
       " '33747',\n",
       " '34520',\n",
       " '5365']"
      ]
     },
     "execution_count": 89,
     "metadata": {},
     "output_type": "execute_result"
    }
   ],
   "source": [
    "inter"
   ]
  }
 ],
 "metadata": {
  "kernelspec": {
   "display_name": "tabner",
   "language": "python",
   "name": "tabner"
  },
  "language_info": {
   "codemirror_mode": {
    "name": "ipython",
    "version": 3
   },
   "file_extension": ".py",
   "mimetype": "text/x-python",
   "name": "python",
   "nbconvert_exporter": "python",
   "pygments_lexer": "ipython3",
   "version": "3.9.6"
  }
 },
 "nbformat": 4,
 "nbformat_minor": 5
}
