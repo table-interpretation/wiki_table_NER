{
 "cells": [
  {
   "cell_type": "markdown",
   "id": "2cd56ef2",
   "metadata": {},
   "source": [
    "### Parsing the log files saved from the execution of GPT models"
   ]
  },
  {
   "cell_type": "code",
   "execution_count": null,
   "id": "cb942d6f",
   "metadata": {},
   "outputs": [],
   "source": [
    "import ast\n",
    "import seaborn as sns\n",
    "import matplotlib.pyplot as plt\n",
    "from sklearn.metrics import confusion_matrix\n",
    "from sklearn import metrics"
   ]
  },
  {
   "cell_type": "code",
   "execution_count": 2,
   "id": "0747cf60",
   "metadata": {},
   "outputs": [],
   "source": [
    "import json\n",
    "import re\n",
    "import os\n",
    "import sys\n",
    "sys.path.append(\"../\")"
   ]
  },
  {
   "cell_type": "code",
   "execution_count": 3,
   "id": "d7bf39ec",
   "metadata": {},
   "outputs": [
    {
     "name": "stdout",
     "output_type": "stream",
     "text": [
      "False\n"
     ]
    },
    {
     "name": "stderr",
     "output_type": "stream",
     "text": [
      "/Users/z003yzhj/Desktop/Projects/TabNER/venv/lib/python3.9/site-packages/tqdm/auto.py:21: TqdmWarning: IProgress not found. Please update jupyter and ipywidgets. See https://ipywidgets.readthedocs.io/en/stable/user_install.html\n",
      "  from .autonotebook import tqdm as notebook_tqdm\n"
     ]
    }
   ],
   "source": [
    "from utils import get_correct_anno\n",
    "from ner_prompting import gpt_responce, calc_results"
   ]
  },
  {
   "cell_type": "code",
   "execution_count": 4,
   "id": "1dfca6d9",
   "metadata": {},
   "outputs": [],
   "source": [
    "from utils import parse_entities, parse_output"
   ]
  },
  {
   "cell_type": "code",
   "execution_count": 5,
   "id": "14ce7d06",
   "metadata": {},
   "outputs": [
    {
     "name": "stdout",
     "output_type": "stream",
     "text": [
      "{1: 'Activity', 2: 'Organisation', 3: 'ArchitecturalStructure', 4: 'Event', 5: 'Place', 6: 'Person', 7: 'Work'}\n"
     ]
    }
   ],
   "source": [
    "labels_dict = {  \n",
    "            'Activity': 1,\n",
    "            'Organisation': 2,\n",
    "            'ArchitecturalStructure': 3,\n",
    "            'Event': 4,\n",
    "            'Place': 5,\n",
    "            'Person': 6,\n",
    "            'Work': 7,\n",
    "                }\n",
    "labels_dict_rev={v:k for k,v in labels_dict.items()}\n",
    "print(labels_dict_rev)"
   ]
  },
  {
   "cell_type": "code",
   "execution_count": 6,
   "id": "3c14ff2d",
   "metadata": {},
   "outputs": [],
   "source": [
    "data_path=\"../data/final_NER_labeled_dataset.csv\"\n",
    "with open(data_path, 'r') as f:\n",
    "    ner_tables = json.load(f)    "
   ]
  },
  {
   "cell_type": "markdown",
   "id": "b4e06cd5",
   "metadata": {},
   "source": [
    "### Load log files for the model and extract the entities"
   ]
  },
  {
   "cell_type": "markdown",
   "id": "13c7440a",
   "metadata": {},
   "source": [
    "Different files require different parsing: somewhere is a string, somewhere is a incomplete dictionary"
   ]
  },
  {
   "cell_type": "code",
   "execution_count": 30,
   "id": "5ccabab9",
   "metadata": {},
   "outputs": [],
   "source": [
    "with open(\"../output/logs/log_file_gpt-35-turbo-instruct_0_bar.txt\") as f:\n",
    "    output = f.read()"
   ]
  },
  {
   "cell_type": "code",
   "execution_count": 34,
   "id": "e0fad93a",
   "metadata": {},
   "outputs": [],
   "source": [
    "def parse_output(model_name, shot):    \n",
    "    \n",
    "    file_name = 'log_file_{}_{}.txt'.format(model_name, shot)   \n",
    "    with open(os.path.join('../output/logs/', file_name), 'r') as file:\n",
    "        output = file.read()\n",
    "        \n",
    "    # first load the parsed output into dict\n",
    "    dict_output ={}\n",
    "    for line in output.split('\\n'):\n",
    "        \n",
    "        if len(line)>1 and line[0].isdigit():\n",
    "            current_key = line.split(\":\")[0]    \n",
    "            current_value = []\n",
    "        elif current_key is not None and len(line)>1 and line[0].isdigit() == False:       \n",
    "            current_value.append(line.replace(\"'\",\"\"))\n",
    "        dict_output[current_key.rstrip(':')] = current_value\n",
    "        \n",
    "    # here clean the values to be in json format, discard not complete lines\n",
    "    new_dict = {}\n",
    "    for key, val in dict_output.items():\n",
    "        new_val = []\n",
    "        for entity in val:\n",
    "            new_entity = entity.strip(\"/', /,\")\n",
    "            try:\n",
    "                new_val.append(json.loads(new_entity))\n",
    "            except:\n",
    "                continue\n",
    "        new_dict[key] = new_val \n",
    "        \n",
    "   # with open(\"../output/cleaned/log_file_{}_{}.json\".format(model_name, shot), \"w\") as f:\n",
    "   #     json.dump(new_dict, f)\n",
    "    \n",
    "    return new_dict"
   ]
  },
  {
   "cell_type": "code",
   "execution_count": 35,
   "id": "24a95370",
   "metadata": {},
   "outputs": [],
   "source": [
    "output_gpt4 = parse_output(\"gpt-4\", 0)"
   ]
  },
  {
   "cell_type": "code",
   "execution_count": 68,
   "id": "a1c4b487",
   "metadata": {},
   "outputs": [],
   "source": [
    "types = []\n",
    "for key, val in output_gpt4.items():\n",
    "    for ent in val:\n",
    "        types.append(ent[\"type\"])"
   ]
  },
  {
   "cell_type": "code",
   "execution_count": 69,
   "id": "118970fb",
   "metadata": {},
   "outputs": [
    {
     "data": {
      "text/plain": [
       "10"
      ]
     },
     "execution_count": 69,
     "metadata": {},
     "output_type": "execute_result"
    }
   ],
   "source": [
    "len(set(types))"
   ]
  },
  {
   "cell_type": "code",
   "execution_count": 70,
   "id": "2dcaaa89",
   "metadata": {},
   "outputs": [
    {
     "data": {
      "text/plain": [
       "{'Activity',\n",
       " 'ArchitecturalStructure',\n",
       " 'Event',\n",
       " 'Genre',\n",
       " 'Job',\n",
       " 'MISC',\n",
       " 'Organisation',\n",
       " 'Person',\n",
       " 'Place',\n",
       " 'Work'}"
      ]
     },
     "execution_count": 70,
     "metadata": {},
     "output_type": "execute_result"
    }
   ],
   "source": [
    "set(types)"
   ]
  },
  {
   "cell_type": "code",
   "execution_count": 32,
   "id": "9debbf3e",
   "metadata": {},
   "outputs": [],
   "source": [
    "common_keys = []\n",
    "for key in output_gpt4.keys():\n",
    "    if key in output_gpt35.keys():\n",
    "        common_keys.append(key)"
   ]
  },
  {
   "cell_type": "code",
   "execution_count": 20,
   "id": "4fa3c974",
   "metadata": {},
   "outputs": [],
   "source": [
    "common_gpt4 = {k:v for k, v in output_gpt4.items() if k in common_keys}"
   ]
  },
  {
   "cell_type": "code",
   "execution_count": 21,
   "id": "7acdf5ff",
   "metadata": {},
   "outputs": [],
   "source": [
    "output_gpt35 = {k:v for k, v in output_gpt35.items() if k in common_keys}"
   ]
  },
  {
   "cell_type": "code",
   "execution_count": 22,
   "id": "01d39e01",
   "metadata": {},
   "outputs": [
    {
     "data": {
      "text/plain": [
       "True"
      ]
     },
     "execution_count": 22,
     "metadata": {},
     "output_type": "execute_result"
    }
   ],
   "source": [
    "len(output_gpt35) == len(common_gpt4)"
   ]
  },
  {
   "cell_type": "code",
   "execution_count": 23,
   "id": "ceb25127",
   "metadata": {
    "scrolled": true
   },
   "outputs": [],
   "source": [
    "def get_labels(test): \n",
    "    dict_results = {}\n",
    "    dict_results[\"true_label\"] = []\n",
    "    dict_results[\"predicted_label\"] = []\n",
    "    dict_results[\"incorrect_span_predict\"] = []\n",
    "    dict_results[\"incorrect_span_gt\"] = []\n",
    "    dict_results[\"incorrect_cell_predict\"] = []\n",
    "    dict_results[\"incorrect_cell_gt\"] = []\n",
    "    total_preds = 0\n",
    "    total_correct = 0\n",
    "    for key, value in test.items():    \n",
    "        for idx in range(len(ner_tables)):    \n",
    "\n",
    "            ser_correct_annot = []        \n",
    "            table = ner_tables[idx][0]\n",
    "            tab_id = table[0]\n",
    "\n",
    "            if tab_id == key:\n",
    "                \n",
    "                \n",
    "                tab_csv, outs, tab_matrix = get_correct_anno(ner_tables[idx][0], labels_dict_rev) \n",
    "                predicted = gpt_responce(tab_matrix, test[key], labels_dict)\n",
    "\n",
    "                row_labels = table[6]\n",
    "                for i in range(len(row_labels)):\n",
    "                    ser_correct_annot.append([el for el in row_labels[i][0]])\n",
    "\n",
    "                ser_gt = [tuple(item) for sublist in ser_correct_annot for item in sublist]\n",
    "                total_correct += len(ser_gt)\n",
    "                \n",
    "                if len(predicted[0]) == 0:\n",
    "                    continue\n",
    "                \n",
    "                for i in range(len(predicted)):\n",
    "                    total_preds += len(predicted[i])\n",
    "                    for el in predicted[i]:      \n",
    "                        for tup in ser_gt:\n",
    "                            \n",
    "                            if el[0:4] == tup[0:4] and el[4]!=tup[4]:\n",
    "                                dict_results[\"true_label\"].append(tup[4])\n",
    "                                dict_results[\"predicted_label\"].append(el[4])                                \n",
    "                            \n",
    "                            # for span - check if cell index and label are the same\n",
    "                            elif ((el[0:3] == tup[0:3] and el[3]!=tup[3] and el[4]==tup[4])\n",
    "                                or (el[0:2] == tup[0:2] and el[2]!=tup[2] and el[3:]==tup[3:])):\n",
    "                                dict_results[\"incorrect_span_predict\"].append(el)\n",
    "                                dict_results[\"incorrect_span_gt\"].append(tup)\n",
    "                                \n",
    "                            # for cell - check if only the column index is different\n",
    "                            elif ((el[0]==tup[0] and el[1] != tup[1] and el[2:]==tup[2:])\n",
    "                                  or (el[0]!=tup[0] and el[1:]==tup[1:])):\n",
    "                                dict_results[\"incorrect_cell_predict\"].append(el)\n",
    "                                dict_results[\"incorrect_cell_gt\"].append(tup)                               \n",
    "  \n",
    "                            \n",
    "    return dict_results, total_preds, total_correct"
   ]
  },
  {
   "cell_type": "code",
   "execution_count": null,
   "id": "55519a75",
   "metadata": {},
   "outputs": [],
   "source": [
    "dict_results, total, total_correct = get_labels(output_gpt35)"
   ]
  },
  {
   "cell_type": "code",
   "execution_count": 25,
   "id": "256f3984",
   "metadata": {},
   "outputs": [
    {
     "name": "stdout",
     "output_type": "stream",
     "text": [
      "true_label 8 0.0011632979496873637\n",
      "predicted_label 1855 0.26973971208375747\n",
      "incorrect_span_predict 183 0.026610440599098444\n",
      "incorrect_span_gt 235 0.03417187727206631\n",
      "incorrect_cell_predict 749 0.10891377053947943\n",
      "incorrect_cell_gt 841 0.1222916969608841\n"
     ]
    }
   ],
   "source": [
    "for key, val in dict_results.items():\n",
    "    if key == (\"predicted_label\" or \"true_label\"):\n",
    "        print(key, len(val), len(val)/total)\n",
    "    else:\n",
    "        print(key, len(set(val)), len(set(val))/total)"
   ]
  },
  {
   "cell_type": "code",
   "execution_count": null,
   "id": "5994a40c",
   "metadata": {},
   "outputs": [],
   "source": [
    "dict_results, total, total_correct = get_labels(common_gpt4)"
   ]
  },
  {
   "cell_type": "code",
   "execution_count": 28,
   "id": "e2136e03",
   "metadata": {},
   "outputs": [
    {
     "name": "stdout",
     "output_type": "stream",
     "text": [
      "true_label 8 0.0007589412769186984\n",
      "predicted_label 2553 0.24219713499667964\n",
      "incorrect_span_predict 529 0.05018499193624893\n",
      "incorrect_span_gt 723 0.06858931790152736\n",
      "incorrect_cell_predict 878 0.08329380514182715\n",
      "incorrect_cell_gt 918 0.08708851152642064\n"
     ]
    }
   ],
   "source": [
    "for key, val in dict_results.items():\n",
    "    if key == (\"predicted_label\" or \"true_label\"):\n",
    "        print(key, len(val), len(val)/total)\n",
    "    else:\n",
    "        print(key, len(set(val)), len(set(val))/total)"
   ]
  },
  {
   "cell_type": "code",
   "execution_count": 185,
   "id": "ad3c3acc",
   "metadata": {},
   "outputs": [],
   "source": [
    "dict_results, total, total_correct = get_labels(common_gpt4)"
   ]
  },
  {
   "cell_type": "code",
   "execution_count": 186,
   "id": "ad8fa920",
   "metadata": {},
   "outputs": [
    {
     "data": {
      "text/plain": [
       "(1245, 1502)"
      ]
     },
     "execution_count": 186,
     "metadata": {},
     "output_type": "execute_result"
    }
   ],
   "source": [
    "total, total_correct"
   ]
  },
  {
   "cell_type": "code",
   "execution_count": 187,
   "id": "140f0ded",
   "metadata": {},
   "outputs": [
    {
     "name": "stdout",
     "output_type": "stream",
     "text": [
      "true_label 3 0.0024096385542168677\n",
      "predicted_label 268 0.21526104417670683\n",
      "incorrect_span_predict 49 0.0393574297188755\n",
      "incorrect_span_gt 49 0.0393574297188755\n",
      "incorrect_cell_predict 239 0.19196787148594377\n",
      "incorrect_cell_gt 270 0.21686746987951808\n"
     ]
    }
   ],
   "source": [
    "for key, val in dict_results.items():\n",
    "    if key == (\"predicted_label\" or \"true_label\"):\n",
    "        print(key, len(val), len(val)/total)\n",
    "    else:\n",
    "        print(key, len(set(val)), len(set(val))/total)"
   ]
  },
  {
   "cell_type": "code",
   "execution_count": 188,
   "id": "7f1fd9d4",
   "metadata": {},
   "outputs": [],
   "source": [
    "dict_results_inst, total, total_correct = get_labels(common_gpt_instruct)"
   ]
  },
  {
   "cell_type": "code",
   "execution_count": 191,
   "id": "d8f5fa2f",
   "metadata": {},
   "outputs": [
    {
     "name": "stdout",
     "output_type": "stream",
     "text": [
      "true_label 1 0.003246753246753247\n",
      "predicted_label 80 0.2597402597402597\n",
      "incorrect_span_predict 0 0.0\n",
      "incorrect_span_gt 0 0.0\n",
      "incorrect_cell_predict 62 0.2012987012987013\n",
      "incorrect_cell_gt 91 0.29545454545454547\n"
     ]
    }
   ],
   "source": [
    "for key, val in dict_results_inst.items():\n",
    "    if key == (\"predicted_label\" or \"true_label\"):\n",
    "        print(key, len(val), len(val)/total)\n",
    "    else:\n",
    "        print(key, len(set(val)), len(set(val))/total)"
   ]
  },
  {
   "cell_type": "markdown",
   "id": "05f43813",
   "metadata": {},
   "source": [
    "### Plot conf matrix"
   ]
  },
  {
   "cell_type": "code",
   "execution_count": 40,
   "id": "aefbe69c",
   "metadata": {},
   "outputs": [
    {
     "data": {
      "text/plain": [
       "{1: 'Activity',\n",
       " 2: 'Organisation',\n",
       " 3: 'ArchitecturalStructure',\n",
       " 4: 'Event',\n",
       " 5: 'Place',\n",
       " 6: 'Person',\n",
       " 7: 'Work'}"
      ]
     },
     "execution_count": 40,
     "metadata": {},
     "output_type": "execute_result"
    }
   ],
   "source": [
    "labels_dict_rev"
   ]
  },
  {
   "cell_type": "code",
   "execution_count": 55,
   "id": "fb21e459",
   "metadata": {},
   "outputs": [
    {
     "data": {
      "image/png": "[encoded data removed]",
      "text/plain": [
       "<Figure size 800x600 with 2 Axes>"
      ]
     },
     "metadata": {},
     "output_type": "display_data"
    }
   ],
   "source": [
    "cm_3 = confusion_matrix(true, predict)\n",
    "#print(cm)\n",
    "# Plot confusion matrix using seaborn\n",
    "plt.figure(figsize=(8, 6))\n",
    "sns.heatmap(cm_3, annot=True, fmt=\"d\", cmap=\"Blues\", xticklabels=labels_dict_rev.values(), yticklabels=labels_dict_rev.values())\n",
    "plt.xticks(rotation=0)\n",
    "plt.title(\"Confusion Matrix\")\n",
    "plt.xlabel(\"Predicted Labels\")\n",
    "plt.ylabel(\"True Labels\")\n",
    "#plt.show()\n",
    "\n",
    "plt.savefig(\"../output/plots/cm_gpt-35-turbo-16k_3_bar_False_final.png\")\n"
   ]
  },
  {
   "cell_type": "code",
   "execution_count": null,
   "id": "db906dc2",
   "metadata": {},
   "outputs": [],
   "source": []
  }
 ],
 "metadata": {
  "kernelspec": {
   "display_name": "tabner",
   "language": "python",
   "name": "tabner"
  },
  "language_info": {
   "codemirror_mode": {
    "name": "ipython",
    "version": 3
   },
   "file_extension": ".py",
   "mimetype": "text/x-python",
   "name": "python",
   "nbconvert_exporter": "python",
   "pygments_lexer": "ipython3",
   "version": "3.9.6"
  }
 },
 "nbformat": 4,
 "nbformat_minor": 5
}
