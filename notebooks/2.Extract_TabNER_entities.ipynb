{
 "cells": [
  {
   "cell_type": "markdown",
   "metadata": {},
   "source": [
    "### In this notebook we extract and label all the entities from the Wiki-TabNER dataset"
   ]
  },
  {
   "cell_type": "code",
   "execution_count": 1,
   "metadata": {},
   "outputs": [],
   "source": [
    "import json\n",
    "import numpy as np\n",
    "import pandas as pd\n",
    "import urllib\n",
    "from bs4 import BeautifulSoup\n",
    "from tqdm import tqdm\n",
    "from wikimapper import WikiMapper"
   ]
  },
  {
   "cell_type": "code",
   "execution_count": 2,
   "metadata": {},
   "outputs": [],
   "source": [
    "from pathlib import Path\n",
    "import pickle\n",
    "from ast import literal_eval"
   ]
  },
  {
   "cell_type": "markdown",
   "metadata": {},
   "source": [
    "### 1. Extract all the entities that appear in the Wiki-TabNER tables \n"
   ]
  },
  {
   "cell_type": "code",
   "execution_count": 3,
   "metadata": {},
   "outputs": [],
   "source": [
    "def create_entities_dataset(data_path):\n",
    "    # Extracts all the entities which have a surfaceLink (link to the actual entity in Wikipedia)\n",
    "    dataset_entities = pd.DataFrame(columns=[\"entity\"])\n",
    "    with tqdm() as progress:\n",
    "        with pd.read_json(data_path, lines=True, chunksize=500) as reader:\n",
    "                for chunk in reader:\n",
    "                    for index, t in chunk.iterrows():\n",
    "                        \n",
    "                        numcols = t['numCols']\n",
    "                        table = t[\"tableData\"]\n",
    "                        data_rows = [ r for r in table ]                \n",
    "\n",
    "                        for col_index in range(numcols):\n",
    "\n",
    "                            cells = [row[col_index] for row in data_rows ] \n",
    "                            entities = [] \n",
    "                            for cell in cells:\n",
    "                                entities.append([cell['surfaceLinks'][i]['target']['title'] for i in range(len(cell['surfaceLinks']))])\n",
    "                            new_rows = pd.DataFrame([{\"entity\": e} for e in entities])\n",
    "                            dataset_entities = pd.concat([dataset_entities,new_rows],ignore_index=True)\n",
    "                        progress.update()\n",
    "\n",
    "    return dataset_entities"
   ]
  },
  {
   "cell_type": "code",
   "execution_count": null,
   "metadata": {},
   "outputs": [],
   "source": [
    "# create dataset of entities\n",
    "\n",
    "data_path = \"../data/wiki_tabner_original_clean.json\"\n",
    "dataset_entities = create_entities_dataset(data_path=data_path)\n",
    "print(len(dataset_entities))\n",
    "\n",
    "dataset_entities = dataset_entities.explode(\"entity\",ignore_index=True)\n",
    "\n",
    "filepath = Path('../data/labeled_entities/wiki_tabner_dataset_entities_expanded.csv')  \n",
    "filepath.parent.mkdir(parents=True, exist_ok=True)  \n",
    "dataset_entities.to_csv(filepath) "
   ]
  },
  {
   "cell_type": "markdown",
   "metadata": {},
   "source": [
    "#### If the entities are already extracted, load into pandas for labeling"
   ]
  },
  {
   "cell_type": "code",
   "execution_count": 3,
   "metadata": {},
   "outputs": [],
   "source": [
    "dataset_entities = pd.read_csv('../data/labeled_entities/wiki_tabner_dataset_entities_expanded.csv',index_col=0)"
   ]
  },
  {
   "cell_type": "code",
   "execution_count": 4,
   "metadata": {},
   "outputs": [
    {
     "data": {
      "text/plain": [
       "803692"
      ]
     },
     "execution_count": 4,
     "metadata": {},
     "output_type": "execute_result"
    }
   ],
   "source": [
    "dataset_entities=dataset_entities.drop_duplicates().reset_index(drop=True)\n",
    "dataset_entities=dataset_entities.dropna()\n",
    "len(dataset_entities) # number of unique linked entities which appear in the tables"
   ]
  },
  {
   "cell_type": "code",
   "execution_count": 5,
   "metadata": {},
   "outputs": [
    {
     "data": {
      "text/html": [
       "<div>\n",
       "<style scoped>\n",
       "    .dataframe tbody tr th:only-of-type {\n",
       "        vertical-align: middle;\n",
       "    }\n",
       "\n",
       "    .dataframe tbody tr th {\n",
       "        vertical-align: top;\n",
       "    }\n",
       "\n",
       "    .dataframe thead th {\n",
       "        text-align: right;\n",
       "    }\n",
       "</style>\n",
       "<table border=\"1\" class=\"dataframe\">\n",
       "  <thead>\n",
       "    <tr style=\"text-align: right;\">\n",
       "      <th></th>\n",
       "      <th>entity</th>\n",
       "    </tr>\n",
       "  </thead>\n",
       "  <tbody>\n",
       "    <tr>\n",
       "      <th>0</th>\n",
       "      <td>1955_NCAA_Men's_Division_I_Basketball_Tournament</td>\n",
       "    </tr>\n",
       "    <tr>\n",
       "      <th>1</th>\n",
       "      <td>1956_NCAA_Men's_Division_I_Basketball_Tournament</td>\n",
       "    </tr>\n",
       "    <tr>\n",
       "      <th>2</th>\n",
       "      <td>1962_NCAA_Men's_Division_I_Basketball_Tournament</td>\n",
       "    </tr>\n",
       "    <tr>\n",
       "      <th>3</th>\n",
       "      <td>1973_NCAA_Men's_Division_I_Basketball_Tournament</td>\n",
       "    </tr>\n",
       "    <tr>\n",
       "      <th>4</th>\n",
       "      <td>1976_NCAA_Men's_Division_I_Basketball_Tournament</td>\n",
       "    </tr>\n",
       "  </tbody>\n",
       "</table>\n",
       "</div>"
      ],
      "text/plain": [
       "                                             entity\n",
       "0  1955_NCAA_Men's_Division_I_Basketball_Tournament\n",
       "1  1956_NCAA_Men's_Division_I_Basketball_Tournament\n",
       "2  1962_NCAA_Men's_Division_I_Basketball_Tournament\n",
       "3  1973_NCAA_Men's_Division_I_Basketball_Tournament\n",
       "4  1976_NCAA_Men's_Division_I_Basketball_Tournament"
      ]
     },
     "execution_count": 5,
     "metadata": {},
     "output_type": "execute_result"
    }
   ],
   "source": [
    "dataset_entities.head(5)"
   ]
  },
  {
   "cell_type": "markdown",
   "metadata": {},
   "source": [
    "### Next, we load the labeled instances from dbpedia and we join them to the extracted entities from the tables"
   ]
  },
  {
   "cell_type": "code",
   "execution_count": 7,
   "metadata": {},
   "outputs": [],
   "source": [
    "dbpedia=pd.read_table(\"../data/dbpedia/instance-types_lang=en_specific.ttl\",names=[\"entity\",\"type\",\"class\",\"dot\"],sep=\" \")"
   ]
  },
  {
   "cell_type": "code",
   "execution_count": 8,
   "metadata": {},
   "outputs": [],
   "source": [
    "dbpedia.drop([\"dot\",\"type\"],axis='columns',inplace=True)"
   ]
  },
  {
   "cell_type": "code",
   "execution_count": 9,
   "metadata": {},
   "outputs": [
    {
     "name": "stdout",
     "output_type": "stream",
     "text": [
      "6992319\n"
     ]
    }
   ],
   "source": [
    "dbpedia = dbpedia.loc[dbpedia[\"class\"].str.contains(pat = \"http://dbpedia.org/ontology/\")]\n",
    "dbpedia[\"entity\"] = dbpedia[\"entity\"].map(lambda x : urllib.parse.unwrap(x).replace('http://dbpedia.org/resource/',''))\n",
    "dbpedia[\"class\"] = dbpedia[\"class\"].map(lambda x : urllib.parse.unwrap(x).replace('http://dbpedia.org/ontology/',''))\n",
    "print(len(dbpedia))"
   ]
  },
  {
   "cell_type": "code",
   "execution_count": 10,
   "metadata": {
    "scrolled": true
   },
   "outputs": [],
   "source": [
    "dataset_entities_classes = dataset_entities.join(dbpedia.set_index('entity'), on=\"entity\",how=\"left\").reset_index(drop=True)"
   ]
  },
  {
   "cell_type": "code",
   "execution_count": 11,
   "metadata": {},
   "outputs": [
    {
     "name": "stdout",
     "output_type": "stream",
     "text": [
      "363510\n",
      "                                                   entity           class\n",
      "36          1982–83_Houston_Cougars_men's_basketball_team  NCAATeamSeason\n",
      "61      2006–07_Ohio_State_Buckeyes_men's_basketball_team  NCAATeamSeason\n",
      "64      2007–08_Michigan_State_Spartans_men's_basketba...  NCAATeamSeason\n",
      "66              2007–08_UCLA_Bruins_men's_basketball_team  NCAATeamSeason\n",
      "67          2007–08_Kansas_Jayhawks_men's_basketball_team  NCAATeamSeason\n",
      "...                                                   ...             ...\n",
      "803680                                    Larisa_Tsaryova         Athlete\n",
      "803681                                      Natalia_Pokas         Athlete\n",
      "803682                                   Irina_Gerasimova         Athlete\n",
      "803684                           Susanne_Müller_(swimmer)         Athlete\n",
      "803690                                  Deborah_Babashoff         Swimmer\n",
      "\n",
      "[363510 rows x 2 columns]\n"
     ]
    }
   ],
   "source": [
    "# Removing all the entities which don't appear in the dbpedia instances\n",
    "dataset_entities_classes=dataset_entities_classes.loc[dataset_entities_classes[\"class\"].notna()]\n",
    "print(len(dataset_entities_classes))\n",
    "print(dataset_entities_classes)"
   ]
  },
  {
   "cell_type": "markdown",
   "metadata": {},
   "source": [
    "### We load the dbpedia tree of classes to find the corresponding parent classes. We map the entities to their most general class (entity of class Swimmer will be labeled as Person)"
   ]
  },
  {
   "cell_type": "code",
   "execution_count": 12,
   "metadata": {},
   "outputs": [],
   "source": [
    "with open('../data/dbpedia/dbpedia_classes.json', 'r') as f:\n",
    "    tree = json.load(f)"
   ]
  },
  {
   "cell_type": "code",
   "execution_count": 17,
   "metadata": {},
   "outputs": [],
   "source": [
    "# Here expanding the tree of classes in Dbpedia\n",
    "entity_tree=expand(tree)\n",
    "with open('../data/dbpedia/entity_tree_dbs.json', 'w') as f:\n",
    "    json.dump(entity_tree, f)"
   ]
  },
  {
   "cell_type": "code",
   "execution_count": 18,
   "metadata": {},
   "outputs": [
    {
     "name": "stdout",
     "output_type": "stream",
     "text": [
      "True\n",
      "True\n"
     ]
    }
   ],
   "source": [
    "print(set(assemble_entities(entity_tree))==set(dataset_entities_classes[\"entity\"].to_list()))\n",
    "print(len(assemble_entities(entity_tree))==363510) "
   ]
  },
  {
   "cell_type": "code",
   "execution_count": 20,
   "metadata": {},
   "outputs": [
    {
     "data": {
      "text/plain": [
       "0"
      ]
     },
     "execution_count": 20,
     "metadata": {},
     "output_type": "execute_result"
    }
   ],
   "source": [
    "dataset_entities_classes[\"entity\"].isna().sum()"
   ]
  },
  {
   "cell_type": "code",
   "execution_count": 32,
   "metadata": {},
   "outputs": [],
   "source": [
    "count_labels = dataset_entities_classes.groupby([\"class\"]).count()[\"entity\"].sort_values(ascending=False)"
   ]
  },
  {
   "cell_type": "code",
   "execution_count": 50,
   "metadata": {},
   "outputs": [
    {
     "data": {
      "text/plain": [
       "class\n",
       "Person                  36278\n",
       "Athlete                 28491\n",
       "Film                    24405\n",
       "Settlement              17276\n",
       "Politician              15406\n",
       "MusicalArtist            8236\n",
       "SoccerPlayer             7696\n",
       "Town                     7626\n",
       "City                     7542\n",
       "Song                     6838\n",
       "BaseballPlayer           6606\n",
       "Cyclist                  6364\n",
       "AdministrativeRegion     6114\n",
       "Album                    5819\n",
       "BasketballPlayer         5150\n",
       "Name: entity, dtype: int64"
      ]
     },
     "execution_count": 50,
     "metadata": {},
     "output_type": "execute_result"
    }
   ],
   "source": [
    "count_labels.head(15)"
   ]
  },
  {
   "cell_type": "code",
   "execution_count": 26,
   "metadata": {},
   "outputs": [
    {
     "data": {
      "text/plain": [
       "dict_keys(['Activity', 'Agent', 'Algorithm', 'Altitude', 'AnatomicalStructure', 'ArchitecturalStructure', 'Area', 'Award', 'Biomolecule', 'Blazon', 'Browser', 'Cartoon', 'ChartsPlacements', 'ChemicalSubstance', 'Cipher', 'Colour', 'Covid19', 'Currency', 'Demographics', 'Depth', 'Device', 'Diploma', 'Disease', 'ElectionDiagram', 'EthnicGroup', 'Event', 'FileSystem', 'Flag', 'Food', 'GeneLocation', 'GrossDomesticProduct', 'GrossDomesticProductPerCapita', 'Holiday', 'Hospital', 'Identifier', 'Language', 'List', 'MeanOfTransportation', 'Media', 'MedicalSpecialty', 'Medicine', 'MouseGene', 'Name', 'Novel', 'Pandemic', 'PersonFunction', 'Place', 'Population', 'Protocol', 'PublicService', 'Relationship', 'Skos', 'Species', 'SportCompetitionResult', 'SportsSeason', 'Spreadsheet', 'StarCluster', 'Statistic', 'Tank', 'TimePeriod', 'TopicalConcept', 'UnitOfWork', 'Unknown', 'Work', 'cidoccrm:E4_Period', 'd0:Activity', 'foaf:Image', 'foaf:Person', 'geo:SpatialThing', 'gml:_Feature', 'prov:Entity', 'prov:Revision', 'rdf:Property', 'skos:Concept', 'skos:OrderedCollection', 'ENTITIES'])"
      ]
     },
     "execution_count": 26,
     "metadata": {},
     "output_type": "execute_result"
    }
   ],
   "source": [
    "# These are the most general classes in Dbpedia\n",
    "entity_tree[\"owl:Thing\"].keys()"
   ]
  },
  {
   "cell_type": "code",
   "execution_count": 22,
   "metadata": {},
   "outputs": [],
   "source": [
    "# We label the dataset entities with the following 7 classes\n",
    "labels_dict = {\"Activity\": [], \"Organisation\": [], \"ArchitecturalStructure\":[], \"Event\":[], \"Place\":[], \"Person\":[], \"Work\":[]}"
   ]
  },
  {
   "cell_type": "code",
   "execution_count": 23,
   "metadata": {},
   "outputs": [],
   "source": [
    "# populate Person\n",
    "populate_main_classes(labels_dict,entity_tree[\"owl:Thing\"][\"Species\"][\"Eukaryote\"][\"Animal\"])\n",
    "# populate Organization\n",
    "populate_main_classes(labels_dict,entity_tree[\"owl:Thing\"][\"Agent\"])\n",
    "# the rest: Activity, Event, Place, ArchStruct, Work\n",
    "populate_main_classes(labels_dict,entity_tree[\"owl:Thing\"])"
   ]
  },
  {
   "cell_type": "code",
   "execution_count": 56,
   "metadata": {},
   "outputs": [],
   "source": [
    "# Transform into dataframe to be able to join to WikiIDs"
   ]
  },
  {
   "cell_type": "code",
   "execution_count": 24,
   "metadata": {},
   "outputs": [],
   "source": [
    "entity_class_pairs = [(entity,class_name) for class_name, entities in labels_dict.items() for entity in entities]\n",
    "labeled_entities =  pd.DataFrame(entity_class_pairs,columns=['entity','class'])"
   ]
  },
  {
   "cell_type": "code",
   "execution_count": 25,
   "metadata": {},
   "outputs": [],
   "source": [
    "class_count=labeled_entities.groupby([\"class\"]).count()[\"entity\"]"
   ]
  },
  {
   "cell_type": "code",
   "execution_count": 26,
   "metadata": {},
   "outputs": [
    {
     "data": {
      "text/plain": [
       "class\n",
       "Activity                     154\n",
       "ArchitecturalStructure     18326\n",
       "Event                      14706\n",
       "Organisation               25331\n",
       "Person                    184038\n",
       "Place                      49884\n",
       "Work                       48662\n",
       "Name: entity, dtype: int64"
      ]
     },
     "execution_count": 26,
     "metadata": {},
     "output_type": "execute_result"
    }
   ],
   "source": [
    "class_count"
   ]
  },
  {
   "cell_type": "code",
   "execution_count": 27,
   "metadata": {},
   "outputs": [
    {
     "data": {
      "text/plain": [
       "341101"
      ]
     },
     "execution_count": 27,
     "metadata": {},
     "output_type": "execute_result"
    }
   ],
   "source": [
    "len(labeled_entities)"
   ]
  },
  {
   "cell_type": "markdown",
   "metadata": {},
   "source": [
    "### We now map the labeled entities to their Wikidata IDs"
   ]
  },
  {
   "cell_type": "code",
   "execution_count": 28,
   "metadata": {},
   "outputs": [
    {
     "name": "stdout",
     "output_type": "stream",
     "text": [
      "                       entity     class wikidata_id\n",
      "0             Monopoly_(game)  Activity      Q17243\n",
      "1                      Cluedo  Activity      Q17245\n",
      "2               Hide-and-seek  Activity     Q171957\n",
      "3                    Scrabble  Activity     Q170436\n",
      "4                 Spelljammer  Activity    Q1060172\n",
      "...                       ...       ...         ...\n",
      "341096      The_Constant_Wife      Work    Q7727425\n",
      "341097  A_Few_Good_Men_(play)      Work    Q2595865\n",
      "341098       The_Lower_Depths      Work    Q1330429\n",
      "341099               Vellekla      Work    Q3373410\n",
      "341100       Arinbjarnarkviða      Work    Q3622616\n",
      "\n",
      "[341101 rows x 3 columns]\n",
      "36\n"
     ]
    }
   ],
   "source": [
    "from wikimapper import WikiMapper\n",
    "\n",
    "mapper = WikiMapper(\"../data/dbpedia/index_enwiki-latest.db\")\n",
    "\n",
    "labeled_entities[\"wikidata_id\"] = labeled_entities.apply(lambda x : mapper.title_to_id(x[\"entity\"]),axis=1)\n",
    "print(labeled_entities)\n",
    "print(labeled_entities[\"wikidata_id\"].isnull().sum())"
   ]
  },
  {
   "cell_type": "code",
   "execution_count": 58,
   "metadata": {},
   "outputs": [],
   "source": [
    "filepath = Path('../data/full_dataset_entities_labels_dbp.csv')  \n",
    "filepath.parent.mkdir(parents=True, exist_ok=True)  \n",
    "labeled_entities.to_csv(filepath) "
   ]
  },
  {
   "cell_type": "code",
   "execution_count": 59,
   "metadata": {},
   "outputs": [
    {
     "data": {
      "text/html": [
       "<div>\n",
       "<style scoped>\n",
       "    .dataframe tbody tr th:only-of-type {\n",
       "        vertical-align: middle;\n",
       "    }\n",
       "\n",
       "    .dataframe tbody tr th {\n",
       "        vertical-align: top;\n",
       "    }\n",
       "\n",
       "    .dataframe thead th {\n",
       "        text-align: right;\n",
       "    }\n",
       "</style>\n",
       "<table border=\"1\" class=\"dataframe\">\n",
       "  <thead>\n",
       "    <tr style=\"text-align: right;\">\n",
       "      <th></th>\n",
       "      <th>entity</th>\n",
       "      <th>class</th>\n",
       "      <th>wikidata_id</th>\n",
       "    </tr>\n",
       "  </thead>\n",
       "  <tbody>\n",
       "  </tbody>\n",
       "</table>\n",
       "</div>"
      ],
      "text/plain": [
       "Empty DataFrame\n",
       "Columns: [entity, class, wikidata_id]\n",
       "Index: []"
      ]
     },
     "execution_count": 59,
     "metadata": {},
     "output_type": "execute_result"
    }
   ],
   "source": [
    "labeled_entities[labeled_entities[\"entity\"]==\"Robbie_Williams\"]"
   ]
  },
  {
   "cell_type": "markdown",
   "metadata": {},
   "source": [
    "There are still many entities for we expect to have the label, so we do the same procedure of labeling with Yago instance data. To be consistent, we map the Yago classes also to the Dbpedia tree. "
   ]
  },
  {
   "cell_type": "markdown",
   "metadata": {},
   "source": [
    "### Load the labeled instance data from Yago"
   ]
  },
  {
   "cell_type": "code",
   "execution_count": 32,
   "metadata": {},
   "outputs": [],
   "source": [
    "yago=pd.read_table(\"../data/dbpedia/instance-types_tag=specific.ttl\",names=[\"entity\",\"type\",\"class\",\"dot\"],sep=\" \")"
   ]
  },
  {
   "cell_type": "code",
   "execution_count": 33,
   "metadata": {},
   "outputs": [],
   "source": [
    "yago.drop([\"dot\",\"type\"],axis='columns',inplace=True)"
   ]
  },
  {
   "cell_type": "code",
   "execution_count": 34,
   "metadata": {},
   "outputs": [
    {
     "data": {
      "text/html": [
       "<div>\n",
       "<style scoped>\n",
       "    .dataframe tbody tr th:only-of-type {\n",
       "        vertical-align: middle;\n",
       "    }\n",
       "\n",
       "    .dataframe tbody tr th {\n",
       "        vertical-align: top;\n",
       "    }\n",
       "\n",
       "    .dataframe thead th {\n",
       "        text-align: right;\n",
       "    }\n",
       "</style>\n",
       "<table border=\"1\" class=\"dataframe\">\n",
       "  <thead>\n",
       "    <tr style=\"text-align: right;\">\n",
       "      <th></th>\n",
       "      <th>entity</th>\n",
       "      <th>class</th>\n",
       "    </tr>\n",
       "  </thead>\n",
       "  <tbody>\n",
       "    <tr>\n",
       "      <th>0</th>\n",
       "      <td>#</td>\n",
       "      <td>2016-10-07T07:09:03Z</td>\n",
       "    </tr>\n",
       "    <tr>\n",
       "      <th>1</th>\n",
       "      <td>&lt;http://dbpedia.org/resource/!!!&gt;</td>\n",
       "      <td>&lt;http://dbpedia.org/class/yago/Abstraction1000...</td>\n",
       "    </tr>\n",
       "    <tr>\n",
       "      <th>2</th>\n",
       "      <td>&lt;http://dbpedia.org/resource/!!!&gt;</td>\n",
       "      <td>&lt;http://dbpedia.org/class/yago/DanceBand108249...</td>\n",
       "    </tr>\n",
       "    <tr>\n",
       "      <th>3</th>\n",
       "      <td>&lt;http://dbpedia.org/resource/!!!&gt;</td>\n",
       "      <td>&lt;http://dbpedia.org/class/yago/Group100031264&gt;</td>\n",
       "    </tr>\n",
       "    <tr>\n",
       "      <th>4</th>\n",
       "      <td>&lt;http://dbpedia.org/resource/!!!&gt;</td>\n",
       "      <td>&lt;http://dbpedia.org/class/yago/MusicalOrganiza...</td>\n",
       "    </tr>\n",
       "  </tbody>\n",
       "</table>\n",
       "</div>"
      ],
      "text/plain": [
       "                              entity  \\\n",
       "0                                  #   \n",
       "1  <http://dbpedia.org/resource/!!!>   \n",
       "2  <http://dbpedia.org/resource/!!!>   \n",
       "3  <http://dbpedia.org/resource/!!!>   \n",
       "4  <http://dbpedia.org/resource/!!!>   \n",
       "\n",
       "                                               class  \n",
       "0                               2016-10-07T07:09:03Z  \n",
       "1  <http://dbpedia.org/class/yago/Abstraction1000...  \n",
       "2  <http://dbpedia.org/class/yago/DanceBand108249...  \n",
       "3     <http://dbpedia.org/class/yago/Group100031264>  \n",
       "4  <http://dbpedia.org/class/yago/MusicalOrganiza...  "
      ]
     },
     "execution_count": 34,
     "metadata": {},
     "output_type": "execute_result"
    }
   ],
   "source": [
    "yago.head(5)"
   ]
  },
  {
   "cell_type": "code",
   "execution_count": 63,
   "metadata": {},
   "outputs": [],
   "source": [
    "#dbpedia had 6707444 entities and classes, yago has 57878998"
   ]
  },
  {
   "cell_type": "code",
   "execution_count": 35,
   "metadata": {},
   "outputs": [
    {
     "name": "stdout",
     "output_type": "stream",
     "text": [
      "57878998\n"
     ]
    }
   ],
   "source": [
    "yago = yago.loc[yago[\"class\"].str.contains(pat = \"http://dbpedia.org/class/yago/\")]\n",
    "yago[\"entity\"] = yago[\"entity\"].map(lambda x : urllib.parse.unwrap(x).replace('http://dbpedia.org/resource/',''))\n",
    "yago[\"class\"] = yago[\"class\"].map(lambda x : urllib.parse.unwrap(x).replace('http://dbpedia.org/class/yago/',''))"
   ]
  },
  {
   "cell_type": "code",
   "execution_count": 36,
   "metadata": {},
   "outputs": [],
   "source": [
    "yago[\"class\"] = yago[\"class\"].str.replace('\\d+', '', regex=True)"
   ]
  },
  {
   "cell_type": "code",
   "execution_count": 37,
   "metadata": {},
   "outputs": [
    {
     "data": {
      "text/plain": [
       "array(['Abstraction', 'DanceBand', 'Group', ...,\n",
       "       'WikicatDefunctMotorVehicleBrandsOfJapan',\n",
       "       'WikicatNovelsByLualhatiBautista', 'WikicatKlingon-languageOperas'],\n",
       "      dtype=object)"
      ]
     },
     "execution_count": 37,
     "metadata": {},
     "output_type": "execute_result"
    }
   ],
   "source": [
    "yago['class'].unique()"
   ]
  },
  {
   "cell_type": "code",
   "execution_count": 44,
   "metadata": {},
   "outputs": [
    {
     "data": {
      "text/plain": [
       "38610832"
      ]
     },
     "execution_count": 44,
     "metadata": {},
     "output_type": "execute_result"
    }
   ],
   "source": [
    "len(yago)"
   ]
  },
  {
   "cell_type": "code",
   "execution_count": 45,
   "metadata": {},
   "outputs": [],
   "source": [
    "yago = yago[~yago['class'].astype(str).str.startswith('Wiki')]\n",
    "yago = yago[~yago['class'].astype(str).str.startswith('Yago')]"
   ]
  },
  {
   "cell_type": "code",
   "execution_count": 46,
   "metadata": {},
   "outputs": [
    {
     "data": {
      "text/plain": [
       "38610832"
      ]
     },
     "execution_count": 46,
     "metadata": {},
     "output_type": "execute_result"
    }
   ],
   "source": [
    "len(yago) # after removing classes which start with wiki and yago down to 38610832"
   ]
  },
  {
   "cell_type": "markdown",
   "metadata": {},
   "source": [
    "### Next step is to join the entities with the instance data from Yago "
   ]
  },
  {
   "cell_type": "code",
   "execution_count": 49,
   "metadata": {
    "scrolled": true
   },
   "outputs": [
    {
     "name": "stdout",
     "output_type": "stream",
     "text": [
      "5359704\n",
      "                                                   entity  \\\n",
      "0        1955_NCAA_Men's_Division_I_Basketball_Tournament   \n",
      "1        1955_NCAA_Men's_Division_I_Basketball_Tournament   \n",
      "2        1955_NCAA_Men's_Division_I_Basketball_Tournament   \n",
      "3        1955_NCAA_Men's_Division_I_Basketball_Tournament   \n",
      "4        1955_NCAA_Men's_Division_I_Basketball_Tournament   \n",
      "...                                                   ...   \n",
      "5717320                                 Deborah_Babashoff   \n",
      "5717321                                 Deborah_Babashoff   \n",
      "5717322                                 Deborah_Babashoff   \n",
      "5717323                                 Deborah_Babashoff   \n",
      "5717324                                 Deborah_Babashoff   \n",
      "\n",
      "                        class  \n",
      "0                 Abstraction  \n",
      "1                     Contest  \n",
      "2                       Event  \n",
      "3        PsychologicalFeature  \n",
      "4                 SocialEvent  \n",
      "...                       ...  \n",
      "5717320              Organism  \n",
      "5717321                Person  \n",
      "5717322        PhysicalEntity  \n",
      "5717323               Swimmer  \n",
      "5717324                 Whole  \n",
      "\n",
      "[5359704 rows x 2 columns]\n"
     ]
    }
   ],
   "source": [
    "dataset_entities_classes = dataset_entities.join(yago.set_index('entity'), on=\"entity\",how=\"left\").reset_index(drop=True)\n",
    "dataset_entities_classes=dataset_entities_classes.loc[dataset_entities_classes[\"class\"].notna()]\n",
    "print(len(dataset_entities_classes))\n",
    "print(dataset_entities_classes)"
   ]
  },
  {
   "cell_type": "code",
   "execution_count": 50,
   "metadata": {},
   "outputs": [
    {
     "data": {
      "text/plain": [
       "6355"
      ]
     },
     "execution_count": 50,
     "metadata": {},
     "output_type": "execute_result"
    }
   ],
   "source": [
    "classes= dataset_entities_classes[\"class\"].unique()\n",
    "len(dataset_entities_classes[\"class\"].unique())"
   ]
  },
  {
   "cell_type": "code",
   "execution_count": 43,
   "metadata": {},
   "outputs": [
    {
     "data": {
      "text/plain": [
       "5717326"
      ]
     },
     "execution_count": 43,
     "metadata": {},
     "output_type": "execute_result"
    }
   ],
   "source": [
    "class_count=dataset_entities_classes.groupby([\"class\"]).count()[\"entity\"].sort_values(ascending=False)\n",
    "class_count.head(10)\n",
    "len(dataset_entities_classes)"
   ]
  },
  {
   "cell_type": "markdown",
   "metadata": {},
   "source": [
    "### Map the entities and their classes to the Dbpedia class hierarchy"
   ]
  },
  {
   "cell_type": "code",
   "execution_count": 51,
   "metadata": {},
   "outputs": [],
   "source": [
    "with open('../data/dbpedia/dbpedia_classes.json', 'r') as f:\n",
    "    tree = json.load(f)"
   ]
  },
  {
   "cell_type": "code",
   "execution_count": 52,
   "metadata": {},
   "outputs": [
    {
     "name": "stdout",
     "output_type": "stream",
     "text": [
      "{'Activity': ['Game', 'TeamSport', 'Sport', 'Athletics', 'Sales', 'BoardGame', 'CardGame'], 'Agent': ['CyclingTeam', 'MixedMartialArtsLeague', 'AutoRacingLeague', 'School', 'GovernmentAgency', 'ComicsCharacter', 'CanadianFootballTeam', 'Brewery', 'GeopoliticalOrganisation', 'VolleyballLeague', 'NarutoCharacter', 'Non-ProfitOrganisation', 'PoliticalParty', 'PaintballLeague', 'RugbyClub', 'Library', 'BaseballTeam', 'SportsLeague', 'Winery', 'GovernmentCabinet', 'RugbyLeague', 'Family', 'Group', 'RadioStation', 'SambaSchool', 'TermOfOffice', 'MilitaryUnit', 'EmployersOrganisation', 'SpeedwayLeague', 'SoapCharacter', 'Deity', 'CricketLeague', 'CanadianFootballLeague', 'HandballTeam', 'HockeyTeam', 'Employer', 'BoxingLeague', 'InternationalOrganisation', 'Broadcaster', 'SoccerLeague', 'FormulaOneTeam', 'ClericalOrder', 'Organisation', 'Band', 'NationalSoccerClub', 'TennisLeague', 'BroadcastNetwork', 'Publisher', 'RecordOffice', 'BasketballTeam', 'SpeedwayTeam', 'FictionalCharacter', 'RecordLabel', 'GolfLeague', 'Parliament', 'AmericanFootballLeague', 'CricketTeam', 'FieldHockeyLeague', 'BusCompany', 'TelevisionStation', 'BasketballLeague', 'Bank', 'ComedyGroup', 'AnimangaCharacter', 'NobleFamily', 'SportsTeam', 'AustralianFootballTeam', 'CyclingLeague', 'BaseballLeague', 'AustralianFootballLeague', 'VideogamesLeague', 'LacrosseLeague', 'SportsClub', 'Airline', 'BowlingLeague', 'ReligiousOrganisation', 'MotorcycleRacingLeague', 'Company', 'PublicTransitSystem', 'Legislature', 'TradeUnion', 'LawFirm', 'CurlingLeague', 'University', 'RadioControlledRacingLeague', 'EducationalInstitution', 'College', 'SoccerClub', 'HandballLeague', 'MythologicalFigure', 'IceHockeyLeague', 'SoftballLeague', 'HockeyClub', 'InlineHockeyLeague', 'DisneyCharacter', 'Caterer', 'FormulaOneRacing', 'PoloLeague', 'AmericanFootballTeam'], 'Algorithm': [], 'Altitude': [], 'AnatomicalStructure': ['Ligament', 'Vein', 'BloodVessel', 'Brain', 'Bone', 'Embryology', 'Muscle', 'Lymph', 'Artery', 'Nerve'], 'ArchitecturalStructure': ['Mill', 'Monument', 'CricketGround', 'Arena', 'Road', 'Prison', 'Synagogue', 'Stadium', 'RouteOfTransportation', 'Station', 'WaterwayTunnel', 'Lock', 'Watermill', 'Theatre', 'SportFacility', 'GolfCourse', 'Infrastructure', 'Restaurant', 'Museum', 'MetroStation', 'ReligiousBuilding', 'LaunchPad', 'Temple', 'Port', 'RouteStop', 'HistoricBuilding', 'Fort', 'Pyramid', 'Racecourse', 'GraveMonument', 'ShoppingMall', 'Casino', 'Bridge', 'RailwayTunnel', 'Hotel', 'RailwayStation', 'RestArea', 'MilitaryStructure', 'RoadJunction', 'Memorial', 'WaterRide', 'RoadTunnel', 'RaceTrack', 'Castle', 'Square', 'Cinema', 'Venue', 'Church', 'Treadmill', 'Dam', 'AmusementParkAttraction', 'RollerCoaster', 'Factory', 'NuclearPowerStation', 'Infrastucture', 'WindMotor', 'SkiResort', 'Lighthouse', 'RailwayLine', 'Monastery', 'Airport', 'TramStation', 'Mosque', 'WaterTower', 'PowerStation', 'Zoo', 'Dike', 'Tower', 'ElectricalSubstation', 'Tunnel', 'Skyscraper', 'Shrine', 'Building', 'Windmill', 'SkiArea'], 'Area': [], 'Award': ['Decoration', 'NobelPrize'], 'Biomolecule': ['HumanGene', 'Protein', 'Lipid', 'Polysaccharide', 'Gene', 'Hormone', 'Enzyme'], 'Blazon': [], 'Browser': [], 'Cartoon': ['HollywoodCartoon', 'Anime'], 'ChartsPlacements': [], 'ChemicalSubstance': ['Vaccine', 'ChemicalCompound', 'MonoclonalAntibody', 'Mineral', 'CombinationDrug', 'Drug', 'ChemicalElement', 'VaccinationStatistics'], 'Cipher': [], 'Colour': [], 'Covid19': [], 'Currency': [], 'Demographics': [], 'Depth': [], 'Device': ['Engine', 'DigitalCamera', 'AutomobileEngine', 'InformationAppliance', 'Guitar', 'Camera', 'Battery', 'Organ', 'Weapon', 'RocketEngine', 'Robot', 'Instrument', 'MobilePhone'], 'Diploma': [], 'Disease': [], 'ElectionDiagram': [], 'EthnicGroup': [], 'Event': ['PenaltyShootOut', 'SolarEclipse', 'PersonalEvent', 'Rebellion', 'SpaceMission', 'TennisTournament', 'Race', 'Contest', 'WomensTennisAssociationTournament', 'Earthquake', 'Convention', 'Meeting', 'NaturalEvent', 'Tournament', 'FootballMatch', 'HorseRace', 'Olympics', 'MixedMartialArtsEvent', 'CyclingCompetition', 'WrestlingEvent', 'GolfTournament', 'Attack', 'FilmFestival', 'LifeCycleEvent', 'Outbreak', 'SocietalEvent', 'HistoricalEvent', 'MilitaryConflict', 'OlympicEvent', 'SportsEvent', 'MusicFestival', 'MotorRace', 'Election', 'InternationalFootballLeagueEvent', 'StormSurge', 'SoccerTournament', 'Competition', 'GrandPrix', 'AcademicConference', 'NationalFootballLeagueEvent', 'CyclingRace'], 'FileSystem': [], 'Flag': [], 'Food': ['Beverage', 'ControlledDesignationOfOriginWine', 'Vodka', 'Wine', 'Beer', 'Cheese'], 'GeneLocation': ['HumanGeneLocation', 'MouseGeneLocation'], 'GrossDomesticProduct': [], 'GrossDomesticProductPerCapita': [], 'Holiday': [], 'Hospital': [], 'Identifier': ['TopLevelDomain'], 'Language': ['ProgrammingLanguage'], 'List': ['TrackList', 'SingleList', 'WorkSequence'], 'MeanOfTransportation': ['Locomotive', 'Automobile', 'TrainCarriage', 'Tram', 'Spacecraft', 'Train', 'Ship', 'MilitaryAircraft', 'Escalator', 'SpaceShuttle', 'MilitaryVehicle', 'ConveyorSystem', 'Motorcycle', 'SpaceStation', 'Aircraft', 'Rocket', 'On-SiteTransportation', 'MovingWalkway'], 'Media': [], 'MedicalSpecialty': [], 'Medicine': [], 'MouseGene': [], 'Name': ['Surname', 'GivenName'], 'Novel': ['LightNovel'], 'Pandemic': [], 'PersonFunction': ['PoliticalFunction', 'Profession'], 'Place': ['Street', 'Stream', 'Park', 'GovernmentalAdministrativeRegion', 'Ocean', 'Territory', 'Agglomeration', 'Forest', 'BodyOfWater', 'City', 'MountainPass', 'Asteroid', 'HistoricalProvince', 'Beach', 'HotSpring', 'NaturalRegion', 'Cemetery', 'Department', 'Swarm', 'Cave', 'DistrictWaterBoard', 'River', 'Mine', 'WorldHeritageSite', 'Intercommunality', 'Crater', 'CoalPit', 'WineRegion', 'FormerMunicipality', 'Bay', 'CountrySeat', 'Locality', 'Arrondissement', 'Planet', 'HistoricPlace', 'OverseasDepartment', 'Lake', 'CelestialBody', 'MountainRange', 'Island', 'CapitalOfRegion', 'Province', 'Garden', 'Sea', 'Glacier', 'OldTerritory', 'Manor', 'Satellite', 'Country', 'Archipelago', 'Settlement', 'Community', 'Region', 'Cape', 'Town', 'ProtectedArea', 'Canal', 'Diocese', 'Mountain', 'Atoll', 'Globularswarm', 'Parish', 'State', 'HistoricalDistrict', 'Galaxy', 'Constellation', 'Village', 'HistoricalCountry', 'ArtificialSatellite', 'ConcentrationCamp', 'SubMunicipality', 'CityDistrict', 'HistoricalSettlement', 'Star', 'Nebula', 'HistoricalRegion', 'LunarCrater', 'GatedCommunity', 'AdministrativeRegion', 'ClericalAdministrativeRegion', 'MicroRegion', 'Volcano', 'Canton', 'Openswarm', 'Valley', 'Desert', 'Continent', 'SiteOfSpecialScientificInterest', 'HistoricalAreaOfAuthority', 'Deanery', 'Prefecture', 'Capital', 'Regency', 'District', 'PopulatedPlace', 'Municipality', 'BrownDwarf', 'NaturalPlace'], 'Population': [], 'Protocol': [], 'PublicService': [], 'Relationship': [], 'Skos': [], 'Species': ['Conifer', 'Model', 'Presenter', 'AmericanFootballPlayer', 'Animal', 'GreenAlga', 'Fencer', 'Criminal', 'Economist', 'VolleyballCoach', 'Comedian', 'PlayWright', 'Linguist', 'Minister', 'FigureSkater', 'Religious', 'VolleyballPlayer', 'MovieDirector', 'Psychologist', 'DartsPlayer', 'Politician', 'Bird', 'AmericanLeader', 'Plant', 'Entomologist', 'BaseballPlayer', 'Congressman', 'FloweringPlant', 'Painter', 'ClassicalMusicArtist', 'Boxer', 'Judge', 'NascarDriver', 'Horse', 'BritishRoyalty', 'Senator', 'SpeedwayRider', 'Vicar', 'ComicsCreator', 'AmericanFootballCoach', 'Dog', 'Priest', 'Cyclist', 'VoiceActor', 'BadmintonPlayer', 'PokerPlayer', 'SnookerPlayer', 'Photographer', 'Egyptologist', 'Woman', 'RadioHost', 'Grape', 'Saint', 'FashionDesigner', 'Fish', 'Royalty', 'WinterSportPlayer', 'VicePresident', 'Architect', 'Humorist', 'RacingDriver', 'Spy', 'Engineer', 'Archaea', 'MemberOfParliament', 'Rower', 'DBpedian', 'TableTennisPlayer', 'HandballPlayer', 'NationalCollegiateAthleticAssociationAthlete', 'Historian', 'PrimeMinister', 'PlayboyPlaymate', 'BeautyQueen', 'Eukaryote', 'PoliticianSpouse', 'Singer', 'Sculptor', 'Mollusca', 'AdultActor', 'Crustacean', 'AustralianRulesFootballPlayer', 'Athlete', 'Surfer', 'ChristianBishop', 'Monarch', 'IceHockeyPlayer', 'Archeologist', 'BusinessPerson', 'Guitarist', 'Jockey', 'HorseTrainer', 'WaterPoloPlayer', 'CrossCountrySkier', 'Mayor', 'RallyDriver', 'Ambassador', 'Biathlete', 'CanadianFootballPlayer', 'DTMRacer', 'Farmer', 'Sailor', 'Wrestler', 'SnookerChamp', 'Rebbe', 'AmateurBoxer', 'VicePrimeMinister', 'Bacteria', 'Fungus', 'Pilot', 'CultivatedVariety', 'Skater', 'TennisPlayer', 'Scientist', 'Chief', 'Lawyer', 'AthleticsPlayer', 'Producer', 'Journalist', 'LacrossePlayer', 'RugbyPlayer', 'Lieutenant', 'Bodybuilder', 'Poet', 'Cycad', 'MotocycleRacer', 'Cleric', 'SoccerPlayer', 'MusicComposer', 'GridironFootballPlayer', 'HorseRider', 'NordicCombined', 'Actor', 'Pharaoh', 'RomanEmperor', 'ChristianPatriarch', 'ClubMoss', 'CollegeCoach', 'Archbishop', 'Mammal', 'Noble', 'GolfPlayer', 'Instrumentalist', 'TheatreDirector', 'Ginkgo', 'MusicDirector', 'Amphibian', 'Gymnast', 'Artist', 'TelevisionDirector', 'Swimmer', 'MotorcycleRider', 'MemberResistanceMovement', 'Referee', 'ArcherPlayer', 'TelevisionHost', 'LatterDaySaint', 'Murderer', 'Professor', 'TeamMember', 'Pope', 'Medician', 'OrganisationMember', 'BobsleighAthlete', 'Chef', 'OfficeHolder', 'FormulaOneRacer', 'SportsManager', 'Curler', 'Aristocrat', 'Writer', 'BackScene', 'Cat', 'Academic', 'Coach', 'BeachVolleyballPlayer', 'PoliceOfficer', 'Arachnid', 'MartialArtist', 'MusicalArtist', 'Gnetophytes', 'Chancellor', 'ScreenWriter', 'Biologist', 'President', 'GaelicGamesPlayer', 'SoccerManager', 'Man', 'Skier', 'Baronet', 'Governor', 'SquashPlayer', 'SpeedSkater', 'SerialKiller', 'ChessPlayer', 'SumoWrestler', 'Fern', 'MilitaryPerson', 'Cardinal', 'Astronaut', 'Pretender', 'Insect', 'Ski_jumper', 'JewishLeader', 'SportsTeamMember', 'Deputy', 'BullFighter', 'Person', 'Canoeist', 'SongWriter', 'Philosopher', 'Reptile', 'Dancer', 'HighDiver', 'BasketballPlayer', 'Moss', 'NetballPlayer', 'Cricketer', 'Youtuber', 'MotorsportRacer'], 'SportCompetitionResult': ['SnookerWorldRanking', 'OlympicResult'], 'SportsSeason': ['SportsTeamSeason', 'NationalFootballLeagueSeason', 'SoccerClubSeason', 'BaseballSeason', 'MotorsportSeason', 'FootballLeagueSeason', 'NCAATeamSeason', 'SoccerLeagueSeason'], 'Spreadsheet': [], 'StarCluster': [], 'Statistic': [], 'Tank': [], 'TimePeriod': ['Reign', 'HistoricalPeriod', 'YearInSpaceflight', 'CareerStation', 'PeriodOfArtisticStyle', 'ProtohistoricalPeriod', 'GeologicalPeriod', 'Tenure', 'Year', 'MilitaryService', 'PrehistoricalPeriod'], 'TopicalConcept': ['MovieGenre', 'ChristianDoctrine', 'SystemOfLaw', 'PoliticalConcept', 'ArtisticGenre', 'Genre', 'Ideology', 'Fashion', 'Standard', 'Taxon', 'PhilosophicalConcept', 'Tax', 'ScientificConcept', 'Type', 'MathematicalConcept', 'LiteraryGenre', 'GovernmentType', 'MusicGenre', 'DocumentType', 'CardinalDirection', 'TheologicalConcept', 'AcademicSubject'], 'UnitOfWork': ['ResearchProject', 'Case', 'LegalCase', 'SupremeCourtOfTheUnitedStatesCase', 'Project'], 'Unknown': ['WikimediaTemplate'], 'Work': ['Treaty', 'Quote', 'Musical', 'Single', 'Drama', 'Poem', 'Comic', 'File', 'TelevisionShow', 'StillImage', 'NationalAnthem', 'Opera', 'Painting', 'Sound', 'Image', 'Resume', 'Manhua', 'Song', 'Annotation', 'LineOfFashion', 'MovingImage', 'Website', 'Software', 'Newspaper', 'TelevisionSeason', 'PeriodicalLiterature', 'Reference', 'CollectionOfValuables', 'EurovisionSongContestEntry', 'MultiVolumePublication', 'StatedResolution', 'Sculpture', 'Manga', 'WrittenWork', 'Magazine', 'Document', 'Film', 'Law', 'TelevisionEpisode', 'ClassicalMusicComposition', 'Letter', 'RadioProgram', 'Book', 'Database', 'MusicalWork', 'UndergroundJournal', 'Artwork', 'BiologicalDatabase', 'ComicStrip', 'Article', 'Archive', 'foaf:Document', 'Album', 'ArtistDiscography', 'AcademicJournal', 'Play', 'Manhwa', 'VideoGame'], 'cidoccrm:E4_Period': [], 'd0:Activity': [], 'foaf:Image': [], 'foaf:Person': [], 'geo:SpatialThing': [], 'gml:_Feature': [], 'prov:Entity': [], 'prov:Revision': [], 'rdf:Property': [], 'skos:Concept': [], 'skos:OrderedCollection': []}\n",
      "Food\n"
     ]
    }
   ],
   "source": [
    "from pprint import pprint\n",
    "import json\n",
    "\n",
    "with open('../data/dbpedia/dbpedia_classes.json', 'r') as f:\n",
    "    tree = json.load(f)\n",
    "#pprint(tree)\n",
    "\n",
    "def get_entities(subtree):\n",
    "    result=[]\n",
    "    for c,branch in subtree.items():\n",
    "        result.extend([c])\n",
    "        if branch !={}:\n",
    "            result.extend([e for e in subtree[c]])\n",
    "            branch_entities = get_entities(branch)\n",
    "            result.extend([e for e in branch_entities])\n",
    "    return result\n",
    "\n",
    "\n",
    "classes = list(tree[\"owl:Thing\"].keys())\n",
    "my_tree= tree[\"owl:Thing\"]\n",
    "\n",
    "class2entity={ c: list(set(get_entities(my_tree[c]))) for c in classes}\n",
    "\n",
    "print(class2entity)\n",
    "\n",
    "entity2class ={} \n",
    "for c, entities in class2entity.items():\n",
    "    for e in entities:\n",
    "        entity2class[e]=c\n",
    "\n",
    "\n",
    "e= \"Beverage\"\n",
    "\n",
    "print(entity2class[e])"
   ]
  },
  {
   "cell_type": "code",
   "execution_count": 16,
   "metadata": {},
   "outputs": [],
   "source": [
    "def expand(tree):\n",
    "    result=tree\n",
    "    for c,branch in result.items():\n",
    "        if c !=\"ENTITIES\":\n",
    "            result[c][\"ENTITIES\"] = dataset_entities_classes.loc[dataset_entities_classes[\"class\"]==c][\"entity\"].to_list()\n",
    "            if branch != {}:\n",
    "                expand(branch)\n",
    "    return result"
   ]
  },
  {
   "cell_type": "code",
   "execution_count": 53,
   "metadata": {},
   "outputs": [],
   "source": [
    "with open('../data/dbpedia/entity_tree_yago.json', 'r') as f:\n",
    "    entity_tree = json.load(f)"
   ]
  },
  {
   "cell_type": "code",
   "execution_count": 54,
   "metadata": {},
   "outputs": [
    {
     "data": {
      "text/plain": [
       "dict_keys(['Activity', 'Agent', 'Algorithm', 'Altitude', 'AnatomicalStructure', 'ArchitecturalStructure', 'Area', 'Award', 'Biomolecule', 'Blazon', 'Browser', 'Cartoon', 'ChartsPlacements', 'ChemicalSubstance', 'Cipher', 'Colour', 'Covid19', 'Currency', 'Demographics', 'Depth', 'Device', 'Diploma', 'Disease', 'ElectionDiagram', 'EthnicGroup', 'Event', 'FileSystem', 'Flag', 'Food', 'GeneLocation', 'GrossDomesticProduct', 'GrossDomesticProductPerCapita', 'Holiday', 'Hospital', 'Identifier', 'Language', 'List', 'MeanOfTransportation', 'Media', 'MedicalSpecialty', 'Medicine', 'MouseGene', 'Name', 'Novel', 'Pandemic', 'PersonFunction', 'Place', 'Population', 'Protocol', 'PublicService', 'Relationship', 'Skos', 'Species', 'SportCompetitionResult', 'SportsSeason', 'Spreadsheet', 'StarCluster', 'Statistic', 'Tank', 'TimePeriod', 'TopicalConcept', 'UnitOfWork', 'Unknown', 'Work', 'cidoccrm:E4_Period', 'd0:Activity', 'foaf:Image', 'foaf:Person', 'geo:SpatialThing', 'gml:_Feature', 'prov:Entity', 'prov:Revision', 'rdf:Property', 'skos:Concept', 'skos:OrderedCollection', 'ENTITIES'])"
      ]
     },
     "execution_count": 54,
     "metadata": {},
     "output_type": "execute_result"
    }
   ],
   "source": [
    "entity_tree['owl:Thing'].keys()"
   ]
  },
  {
   "cell_type": "code",
   "execution_count": 69,
   "metadata": {},
   "outputs": [],
   "source": [
    "labels_dict = {\"Activity\": [], \"Organisation\": [], \"ArchitecturalStructure\":[], \"Event\":[], \"Place\":[], \"Person\":[], \"Work\":[]}"
   ]
  },
  {
   "cell_type": "code",
   "execution_count": 70,
   "metadata": {},
   "outputs": [],
   "source": [
    "def populate_main_classes(flattened_dict, nested_dict, parent_key=\"\"):\n",
    "    for key, value in nested_dict.items():\n",
    "        if key in flattened_dict:\n",
    "            if \"ENTITIES\" in value:\n",
    "                flattened_dict[key].extend(value[\"ENTITIES\"])\n",
    "            if isinstance(value, dict):\n",
    "                flattened_dict[key].extend(assemble_entities(value))"
   ]
  },
  {
   "cell_type": "code",
   "execution_count": 71,
   "metadata": {},
   "outputs": [],
   "source": [
    "def assemble_entities(subtree):\n",
    "    result=[]\n",
    "    for c,branch in subtree.items():\n",
    "        if c != \"ENTITIES\":\n",
    "            result.extend([e for e in subtree[c][\"ENTITIES\"]])\n",
    "            branch_entities = assemble_entities(branch)\n",
    "            result.extend([e for e in branch_entities])\n",
    "    return result"
   ]
  },
  {
   "cell_type": "code",
   "execution_count": 72,
   "metadata": {},
   "outputs": [
    {
     "name": "stdout",
     "output_type": "stream",
     "text": [
      "True\n"
     ]
    }
   ],
   "source": [
    "print(len(assemble_entities(entity_tree))==647153) "
   ]
  },
  {
   "cell_type": "code",
   "execution_count": 73,
   "metadata": {},
   "outputs": [],
   "source": [
    "# populate Person\n",
    "populate_main_classes(labels_dict,entity_tree[\"owl:Thing\"][\"Species\"][\"Eukaryote\"][\"Animal\"])\n",
    "# populate Organization\n",
    "populate_main_classes(labels_dict,entity_tree[\"owl:Thing\"][\"Agent\"])\n",
    "# the rest: Activity, Event, Place, ArchStruct, Work\n",
    "populate_main_classes(labels_dict,entity_tree[\"owl:Thing\"])"
   ]
  },
  {
   "cell_type": "code",
   "execution_count": 74,
   "metadata": {},
   "outputs": [
    {
     "name": "stdout",
     "output_type": "stream",
     "text": [
      "Activity 7393\n",
      "Organisation 31946\n",
      "ArchitecturalStructure 16052\n",
      "Event 34616\n",
      "Place 40227\n",
      "Person 133215\n",
      "Work 14341\n"
     ]
    }
   ],
   "source": [
    "for key, val in labels_dict.items():\n",
    "    print(key, len(set(val)))"
   ]
  },
  {
   "cell_type": "code",
   "execution_count": 76,
   "metadata": {},
   "outputs": [],
   "source": [
    "entity_class_pairs_ = [(entity,class_name) for class_name, entities in labels_dict.items() for entity in entities]\n",
    "entity_class_pairs = set(entity_class_pairs_)\n",
    "labeled_entities_yago =  pd.DataFrame(entity_class_pairs,columns=['entity','class'])"
   ]
  },
  {
   "cell_type": "code",
   "execution_count": 77,
   "metadata": {},
   "outputs": [
    {
     "data": {
      "text/plain": [
       "class\n",
       "Activity                    7393\n",
       "ArchitecturalStructure     16052\n",
       "Event                      34616\n",
       "Organisation               31946\n",
       "Person                    133215\n",
       "Place                      40227\n",
       "Work                       14341\n",
       "Name: entity, dtype: int64"
      ]
     },
     "execution_count": 77,
     "metadata": {},
     "output_type": "execute_result"
    }
   ],
   "source": [
    "class_count=labeled_entities_yago.groupby([\"class\"]).count()[\"entity\"]\n",
    "class_count"
   ]
  },
  {
   "cell_type": "code",
   "execution_count": 78,
   "metadata": {},
   "outputs": [
    {
     "data": {
      "text/plain": [
       "277790"
      ]
     },
     "execution_count": 78,
     "metadata": {},
     "output_type": "execute_result"
    }
   ],
   "source": [
    "len(labeled_entities_yago)"
   ]
  },
  {
   "cell_type": "markdown",
   "metadata": {},
   "source": [
    "### Map the labeled entities to their wikidata ids using the WikiMapper"
   ]
  },
  {
   "cell_type": "code",
   "execution_count": 64,
   "metadata": {},
   "outputs": [
    {
     "name": "stdout",
     "output_type": "stream",
     "text": [
      "36\n"
     ]
    }
   ],
   "source": [
    "from wikimapper import WikiMapper\n",
    "\n",
    "mapper = WikiMapper(\"../data/dbpedia/index_enwiki-latest.db\")\n",
    "\n",
    "labeled_entities[\"wikidata_id\"] = labeled_entities.apply(lambda x : mapper.title_to_id(x[\"entity\"]),axis=1)\n",
    "print(labeled_entities[\"wikidata_id\"].isnull().sum())"
   ]
  },
  {
   "cell_type": "code",
   "execution_count": 66,
   "metadata": {},
   "outputs": [
    {
     "data": {
      "text/html": [
       "<div>\n",
       "<style scoped>\n",
       "    .dataframe tbody tr th:only-of-type {\n",
       "        vertical-align: middle;\n",
       "    }\n",
       "\n",
       "    .dataframe tbody tr th {\n",
       "        vertical-align: top;\n",
       "    }\n",
       "\n",
       "    .dataframe thead th {\n",
       "        text-align: right;\n",
       "    }\n",
       "</style>\n",
       "<table border=\"1\" class=\"dataframe\">\n",
       "  <thead>\n",
       "    <tr style=\"text-align: right;\">\n",
       "      <th></th>\n",
       "      <th>entity</th>\n",
       "      <th>class</th>\n",
       "    </tr>\n",
       "  </thead>\n",
       "  <tbody>\n",
       "    <tr>\n",
       "      <th>0</th>\n",
       "      <td>Avram_Grant</td>\n",
       "      <td>Person</td>\n",
       "    </tr>\n",
       "    <tr>\n",
       "      <th>1</th>\n",
       "      <td>Baikunthpur,_Koriya</td>\n",
       "      <td>Place</td>\n",
       "    </tr>\n",
       "    <tr>\n",
       "      <th>2</th>\n",
       "      <td>Anthony_Miller_(basketball)</td>\n",
       "      <td>Person</td>\n",
       "    </tr>\n",
       "    <tr>\n",
       "      <th>3</th>\n",
       "      <td>Dale_Shearer</td>\n",
       "      <td>Person</td>\n",
       "    </tr>\n",
       "    <tr>\n",
       "      <th>4</th>\n",
       "      <td>Chris_Eaton_(rugby_union)</td>\n",
       "      <td>Person</td>\n",
       "    </tr>\n",
       "    <tr>\n",
       "      <th>...</th>\n",
       "      <td>...</td>\n",
       "      <td>...</td>\n",
       "    </tr>\n",
       "    <tr>\n",
       "      <th>277785</th>\n",
       "      <td>Pippin_(musical)</td>\n",
       "      <td>Work</td>\n",
       "    </tr>\n",
       "    <tr>\n",
       "      <th>277786</th>\n",
       "      <td>Zastron</td>\n",
       "      <td>Place</td>\n",
       "    </tr>\n",
       "    <tr>\n",
       "      <th>277787</th>\n",
       "      <td>Johan_Ramström</td>\n",
       "      <td>Person</td>\n",
       "    </tr>\n",
       "    <tr>\n",
       "      <th>277788</th>\n",
       "      <td>Suresh_Heblikar</td>\n",
       "      <td>Person</td>\n",
       "    </tr>\n",
       "    <tr>\n",
       "      <th>277789</th>\n",
       "      <td>Robert_Latimer_McCook</td>\n",
       "      <td>Person</td>\n",
       "    </tr>\n",
       "  </tbody>\n",
       "</table>\n",
       "<p>277790 rows × 2 columns</p>\n",
       "</div>"
      ],
      "text/plain": [
       "                             entity   class\n",
       "0                       Avram_Grant  Person\n",
       "1               Baikunthpur,_Koriya   Place\n",
       "2       Anthony_Miller_(basketball)  Person\n",
       "3                      Dale_Shearer  Person\n",
       "4         Chris_Eaton_(rugby_union)  Person\n",
       "...                             ...     ...\n",
       "277785             Pippin_(musical)    Work\n",
       "277786                      Zastron   Place\n",
       "277787               Johan_Ramström  Person\n",
       "277788              Suresh_Heblikar  Person\n",
       "277789        Robert_Latimer_McCook  Person\n",
       "\n",
       "[277790 rows x 2 columns]"
      ]
     },
     "execution_count": 66,
     "metadata": {},
     "output_type": "execute_result"
    }
   ],
   "source": [
    "labeled_entities_yago"
   ]
  },
  {
   "cell_type": "code",
   "execution_count": 145,
   "metadata": {},
   "outputs": [],
   "source": [
    "filepath = Path('../data/full_dataset_entities_labels_yago.csv')  \n",
    "filepath.parent.mkdir(parents=True, exist_ok=True)  \n",
    "labeled_entities.drop_duplicates(inplace=True)\n",
    "labeled_entities.dropna(subset=['wikidata_id'], inplace=True)\n",
    "labeled_entities.to_csv(filepath) "
   ]
  },
  {
   "cell_type": "code",
   "execution_count": 146,
   "metadata": {},
   "outputs": [
    {
     "data": {
      "text/plain": [
       "7"
      ]
     },
     "execution_count": 146,
     "metadata": {},
     "output_type": "execute_result"
    }
   ],
   "source": [
    "len(labeled_entities[\"class\"].unique())"
   ]
  },
  {
   "cell_type": "code",
   "execution_count": 147,
   "metadata": {},
   "outputs": [
    {
     "data": {
      "text/html": [
       "<div>\n",
       "<style scoped>\n",
       "    .dataframe tbody tr th:only-of-type {\n",
       "        vertical-align: middle;\n",
       "    }\n",
       "\n",
       "    .dataframe tbody tr th {\n",
       "        vertical-align: top;\n",
       "    }\n",
       "\n",
       "    .dataframe thead th {\n",
       "        text-align: right;\n",
       "    }\n",
       "</style>\n",
       "<table border=\"1\" class=\"dataframe\">\n",
       "  <thead>\n",
       "    <tr style=\"text-align: right;\">\n",
       "      <th></th>\n",
       "      <th>entity</th>\n",
       "      <th>class</th>\n",
       "      <th>wikidata_id</th>\n",
       "    </tr>\n",
       "  </thead>\n",
       "  <tbody>\n",
       "    <tr>\n",
       "      <th>254606</th>\n",
       "      <td>Robbie_Williams</td>\n",
       "      <td>Person</td>\n",
       "      <td>Q47875</td>\n",
       "    </tr>\n",
       "    <tr>\n",
       "      <th>262926</th>\n",
       "      <td>Robbie_Williamson</td>\n",
       "      <td>Person</td>\n",
       "      <td>Q7341028</td>\n",
       "    </tr>\n",
       "    <tr>\n",
       "      <th>602135</th>\n",
       "      <td>Greatest_Hits_(Robbie_Williams_album)</td>\n",
       "      <td>Work</td>\n",
       "      <td>Q1028072</td>\n",
       "    </tr>\n",
       "    <tr>\n",
       "      <th>608500</th>\n",
       "      <td>Angels_(Robbie_Williams_song)</td>\n",
       "      <td>Work</td>\n",
       "      <td>Q769491</td>\n",
       "    </tr>\n",
       "  </tbody>\n",
       "</table>\n",
       "</div>"
      ],
      "text/plain": [
       "                                       entity   class wikidata_id\n",
       "254606                        Robbie_Williams  Person      Q47875\n",
       "262926                      Robbie_Williamson  Person    Q7341028\n",
       "602135  Greatest_Hits_(Robbie_Williams_album)    Work    Q1028072\n",
       "608500          Angels_(Robbie_Williams_song)    Work     Q769491"
      ]
     },
     "execution_count": 147,
     "metadata": {},
     "output_type": "execute_result"
    }
   ],
   "source": [
    "labeled_entities.loc[labeled_entities[\"entity\"].str.contains(\"Robbie_Williams\")]"
   ]
  },
  {
   "cell_type": "code",
   "execution_count": 149,
   "metadata": {},
   "outputs": [
    {
     "data": {
      "text/html": [
       "<div>\n",
       "<style scoped>\n",
       "    .dataframe tbody tr th:only-of-type {\n",
       "        vertical-align: middle;\n",
       "    }\n",
       "\n",
       "    .dataframe tbody tr th {\n",
       "        vertical-align: top;\n",
       "    }\n",
       "\n",
       "    .dataframe thead th {\n",
       "        text-align: right;\n",
       "    }\n",
       "</style>\n",
       "<table border=\"1\" class=\"dataframe\">\n",
       "  <thead>\n",
       "    <tr style=\"text-align: right;\">\n",
       "      <th></th>\n",
       "      <th>entity</th>\n",
       "      <th>wikidata_id</th>\n",
       "    </tr>\n",
       "    <tr>\n",
       "      <th>class</th>\n",
       "      <th></th>\n",
       "      <th></th>\n",
       "    </tr>\n",
       "  </thead>\n",
       "  <tbody>\n",
       "    <tr>\n",
       "      <th>Activity</th>\n",
       "      <td>7344</td>\n",
       "      <td>7344</td>\n",
       "    </tr>\n",
       "    <tr>\n",
       "      <th>ArchitecturalStructure</th>\n",
       "      <td>16039</td>\n",
       "      <td>16039</td>\n",
       "    </tr>\n",
       "    <tr>\n",
       "      <th>Event</th>\n",
       "      <td>34528</td>\n",
       "      <td>34528</td>\n",
       "    </tr>\n",
       "    <tr>\n",
       "      <th>Organisation</th>\n",
       "      <td>31788</td>\n",
       "      <td>31788</td>\n",
       "    </tr>\n",
       "    <tr>\n",
       "      <th>Person</th>\n",
       "      <td>132533</td>\n",
       "      <td>132533</td>\n",
       "    </tr>\n",
       "    <tr>\n",
       "      <th>Place</th>\n",
       "      <td>40169</td>\n",
       "      <td>40169</td>\n",
       "    </tr>\n",
       "    <tr>\n",
       "      <th>Work</th>\n",
       "      <td>14275</td>\n",
       "      <td>14275</td>\n",
       "    </tr>\n",
       "  </tbody>\n",
       "</table>\n",
       "</div>"
      ],
      "text/plain": [
       "                        entity  wikidata_id\n",
       "class                                      \n",
       "Activity                  7344         7344\n",
       "ArchitecturalStructure   16039        16039\n",
       "Event                    34528        34528\n",
       "Organisation             31788        31788\n",
       "Person                  132533       132533\n",
       "Place                    40169        40169\n",
       "Work                     14275        14275"
      ]
     },
     "execution_count": 149,
     "metadata": {},
     "output_type": "execute_result"
    }
   ],
   "source": [
    "class_count=labeled_entities.groupby( [\"class\"]).count()\n",
    "class_count"
   ]
  },
  {
   "cell_type": "markdown",
   "metadata": {},
   "source": [
    "## Merging the labeled entities into one file"
   ]
  },
  {
   "cell_type": "code",
   "execution_count": 30,
   "metadata": {},
   "outputs": [],
   "source": [
    "dataset_entities_dbp  = pd.read_csv('../data/labeled_entities/full_dataset_entities_labels_dbp.csv',index_col=0)\n",
    "dataset_entities_dbp.dropna(inplace=True)"
   ]
  },
  {
   "cell_type": "code",
   "execution_count": 29,
   "metadata": {},
   "outputs": [],
   "source": [
    "dataset_entities_yago = pd.read_csv('../data/labeled_entities/full_dataset_entities_labels_yago.csv',index_col=0)\n",
    "dataset_entities_yago.dropna(inplace=True)"
   ]
  },
  {
   "cell_type": "code",
   "execution_count": 82,
   "metadata": {},
   "outputs": [
    {
     "data": {
      "text/plain": [
       "(341065, 276676)"
      ]
     },
     "execution_count": 82,
     "metadata": {},
     "output_type": "execute_result"
    }
   ],
   "source": [
    "len(dataset_entities_dbp), len(dataset_entities_yago)"
   ]
  },
  {
   "cell_type": "code",
   "execution_count": 83,
   "metadata": {},
   "outputs": [],
   "source": [
    "dataset_entities_dbp['source'] = 'dbp'\n",
    "dataset_entities_yago['source'] = 'yago'"
   ]
  },
  {
   "cell_type": "code",
   "execution_count": 84,
   "metadata": {},
   "outputs": [],
   "source": [
    "merged_df = pd.concat([dataset_entities_dbp, dataset_entities_yago], axis = 0, ignore_index=True)"
   ]
  },
  {
   "cell_type": "code",
   "execution_count": 85,
   "metadata": {},
   "outputs": [
    {
     "data": {
      "text/plain": [
       "617741"
      ]
     },
     "execution_count": 85,
     "metadata": {},
     "output_type": "execute_result"
    }
   ],
   "source": [
    "len(merged_df)"
   ]
  },
  {
   "cell_type": "code",
   "execution_count": 86,
   "metadata": {
    "scrolled": true
   },
   "outputs": [
    {
     "data": {
      "text/html": [
       "<div>\n",
       "<style scoped>\n",
       "    .dataframe tbody tr th:only-of-type {\n",
       "        vertical-align: middle;\n",
       "    }\n",
       "\n",
       "    .dataframe tbody tr th {\n",
       "        vertical-align: top;\n",
       "    }\n",
       "\n",
       "    .dataframe thead th {\n",
       "        text-align: right;\n",
       "    }\n",
       "</style>\n",
       "<table border=\"1\" class=\"dataframe\">\n",
       "  <thead>\n",
       "    <tr style=\"text-align: right;\">\n",
       "      <th></th>\n",
       "      <th>entity</th>\n",
       "      <th>class</th>\n",
       "      <th>wikidata_id</th>\n",
       "      <th>source</th>\n",
       "    </tr>\n",
       "  </thead>\n",
       "  <tbody>\n",
       "    <tr>\n",
       "      <th>0</th>\n",
       "      <td>Monopoly_(game)</td>\n",
       "      <td>Activity</td>\n",
       "      <td>Q17243</td>\n",
       "      <td>dbp</td>\n",
       "    </tr>\n",
       "    <tr>\n",
       "      <th>1</th>\n",
       "      <td>Cluedo</td>\n",
       "      <td>Activity</td>\n",
       "      <td>Q17245</td>\n",
       "      <td>dbp</td>\n",
       "    </tr>\n",
       "    <tr>\n",
       "      <th>2</th>\n",
       "      <td>Hide-and-seek</td>\n",
       "      <td>Activity</td>\n",
       "      <td>Q171957</td>\n",
       "      <td>dbp</td>\n",
       "    </tr>\n",
       "    <tr>\n",
       "      <th>3</th>\n",
       "      <td>Scrabble</td>\n",
       "      <td>Activity</td>\n",
       "      <td>Q170436</td>\n",
       "      <td>dbp</td>\n",
       "    </tr>\n",
       "    <tr>\n",
       "      <th>4</th>\n",
       "      <td>Spelljammer</td>\n",
       "      <td>Activity</td>\n",
       "      <td>Q1060172</td>\n",
       "      <td>dbp</td>\n",
       "    </tr>\n",
       "  </tbody>\n",
       "</table>\n",
       "</div>"
      ],
      "text/plain": [
       "            entity     class wikidata_id source\n",
       "0  Monopoly_(game)  Activity      Q17243    dbp\n",
       "1           Cluedo  Activity      Q17245    dbp\n",
       "2    Hide-and-seek  Activity     Q171957    dbp\n",
       "3         Scrabble  Activity     Q170436    dbp\n",
       "4      Spelljammer  Activity    Q1060172    dbp"
      ]
     },
     "execution_count": 86,
     "metadata": {},
     "output_type": "execute_result"
    }
   ],
   "source": [
    "merged_df.head(5)"
   ]
  },
  {
   "cell_type": "code",
   "execution_count": 87,
   "metadata": {},
   "outputs": [],
   "source": [
    "# Identify duplicate entities\n",
    "duplicate_entities = merged_df[merged_df.duplicated(subset=['entity','class','wikidata_id'], keep=False)]"
   ]
  },
  {
   "cell_type": "code",
   "execution_count": 88,
   "metadata": {},
   "outputs": [
    {
     "data": {
      "text/plain": [
       "337298"
      ]
     },
     "execution_count": 88,
     "metadata": {},
     "output_type": "execute_result"
    }
   ],
   "source": [
    "len(duplicate_entities)"
   ]
  },
  {
   "cell_type": "code",
   "execution_count": 89,
   "metadata": {},
   "outputs": [],
   "source": [
    "merged_df = merged_df.drop_duplicates(subset=['entity','class','wikidata_id'], keep='first')"
   ]
  },
  {
   "cell_type": "code",
   "execution_count": null,
   "metadata": {},
   "outputs": [],
   "source": [
    "duplicate_entity = merged_df[merged_df.duplicated(subset=['entity', 'wikidata_id'], keep=False)]"
   ]
  },
  {
   "cell_type": "code",
   "execution_count": 96,
   "metadata": {},
   "outputs": [],
   "source": [
    "merged_df = merged_df.drop_duplicates(subset=['entity','wikidata_id'], keep='first')"
   ]
  },
  {
   "cell_type": "code",
   "execution_count": 97,
   "metadata": {},
   "outputs": [
    {
     "data": {
      "text/plain": [
       "408781"
      ]
     },
     "execution_count": 97,
     "metadata": {},
     "output_type": "execute_result"
    }
   ],
   "source": [
    "len(merged_df)"
   ]
  },
  {
   "cell_type": "code",
   "execution_count": 98,
   "metadata": {},
   "outputs": [],
   "source": [
    "class_count = merged_df.groupby('class')['entity'].count().reset_index()"
   ]
  },
  {
   "cell_type": "code",
   "execution_count": 99,
   "metadata": {},
   "outputs": [
    {
     "data": {
      "text/html": [
       "<div>\n",
       "<style scoped>\n",
       "    .dataframe tbody tr th:only-of-type {\n",
       "        vertical-align: middle;\n",
       "    }\n",
       "\n",
       "    .dataframe tbody tr th {\n",
       "        vertical-align: top;\n",
       "    }\n",
       "\n",
       "    .dataframe thead th {\n",
       "        text-align: right;\n",
       "    }\n",
       "</style>\n",
       "<table border=\"1\" class=\"dataframe\">\n",
       "  <thead>\n",
       "    <tr style=\"text-align: right;\">\n",
       "      <th></th>\n",
       "      <th>class</th>\n",
       "      <th>entity</th>\n",
       "    </tr>\n",
       "  </thead>\n",
       "  <tbody>\n",
       "    <tr>\n",
       "      <th>0</th>\n",
       "      <td>Activity</td>\n",
       "      <td>4229</td>\n",
       "    </tr>\n",
       "    <tr>\n",
       "      <th>1</th>\n",
       "      <td>ArchitecturalStructure</td>\n",
       "      <td>22294</td>\n",
       "    </tr>\n",
       "    <tr>\n",
       "      <th>2</th>\n",
       "      <td>Event</td>\n",
       "      <td>24789</td>\n",
       "    </tr>\n",
       "    <tr>\n",
       "      <th>3</th>\n",
       "      <td>Organisation</td>\n",
       "      <td>38406</td>\n",
       "    </tr>\n",
       "    <tr>\n",
       "      <th>4</th>\n",
       "      <td>Person</td>\n",
       "      <td>213114</td>\n",
       "    </tr>\n",
       "    <tr>\n",
       "      <th>5</th>\n",
       "      <td>Place</td>\n",
       "      <td>55043</td>\n",
       "    </tr>\n",
       "    <tr>\n",
       "      <th>6</th>\n",
       "      <td>Work</td>\n",
       "      <td>50906</td>\n",
       "    </tr>\n",
       "  </tbody>\n",
       "</table>\n",
       "</div>"
      ],
      "text/plain": [
       "                    class  entity\n",
       "0                Activity    4229\n",
       "1  ArchitecturalStructure   22294\n",
       "2                   Event   24789\n",
       "3            Organisation   38406\n",
       "4                  Person  213114\n",
       "5                   Place   55043\n",
       "6                    Work   50906"
      ]
     },
     "execution_count": 99,
     "metadata": {},
     "output_type": "execute_result"
    }
   ],
   "source": [
    "class_count"
   ]
  },
  {
   "cell_type": "code",
   "execution_count": 105,
   "metadata": {},
   "outputs": [],
   "source": [
    "count_dbp = merged_df[merged_df['source'] == 'dbp'].shape[0]\n",
    "count_dbp"
   ]
  },
  {
   "cell_type": "code",
   "execution_count": 107,
   "metadata": {},
   "outputs": [
    {
     "data": {
      "text/plain": [
       "67716"
      ]
     },
     "execution_count": 107,
     "metadata": {},
     "output_type": "execute_result"
    }
   ],
   "source": [
    "count_yago = merged_df[merged_df['source'] == 'yago'].shape[0]\n",
    "count_yago"
   ]
  },
  {
   "cell_type": "code",
   "execution_count": 172,
   "metadata": {},
   "outputs": [],
   "source": [
    "merged_df.to_csv(\"../data/full_dataset_entities_labeled_dbp_yago_final.csv\") # use this one for labeling the dataset"
   ]
  },
  {
   "cell_type": "code",
   "execution_count": 100,
   "metadata": {},
   "outputs": [],
   "source": [
    "import seaborn as sns\n",
    "import matplotlib.pyplot as plt"
   ]
  },
  {
   "cell_type": "code",
   "execution_count": 103,
   "metadata": {},
   "outputs": [
    {
     "data": {
      "image/png": "[encoded data removed]",
      "text/plain": [
       "<Figure size 1100x600 with 1 Axes>"
      ]
     },
     "metadata": {},
     "output_type": "display_data"
    }
   ],
   "source": [
    "sns.set(rc={'figure.figsize':(11,6)})\n",
    "fig, ax = plt.subplots(1)\n",
    "\n",
    "sns.histplot(class_count,x=\"class\",y=\"entity\",ax=ax, stat=\"count\", discrete=True)\n",
    "ax.bar(class_count[\"class\"],class_count[\"entity\"])\n",
    "\n",
    "ax.set(ylabel=\"Entity count\")\n",
    "ax.set(xlabel=\"DBpedia class\")\n",
    "\n",
    "plt.xticks(fontsize=10, rotation=25)\n",
    "plt.tight_layout()\n",
    "plt.savefig(\"plots/new_final_labeled_entities.png\")\n",
    "\n",
    "plt.show()"
   ]
  },
  {
   "cell_type": "code",
   "execution_count": null,
   "metadata": {},
   "outputs": [],
   "source": [
    "|"
   ]
  }
 ],
 "metadata": {
  "kernelspec": {
   "display_name": "wikitabner",
   "language": "python",
   "name": "wikitabner"
  },
  "language_info": {
   "codemirror_mode": {
    "name": "ipython",
    "version": 3
   },
   "file_extension": ".py",
   "mimetype": "text/x-python",
   "name": "python",
   "nbconvert_exporter": "python",
   "pygments_lexer": "ipython3",
   "version": "3.9.6"
  }
 },
 "nbformat": 4,
 "nbformat_minor": 2
}
