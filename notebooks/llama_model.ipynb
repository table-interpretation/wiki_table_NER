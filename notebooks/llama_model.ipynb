{
 "cells": [
  {
   "cell_type": "markdown",
   "id": "b6bfac2e",
   "metadata": {},
   "source": [
    "### Notebook for testing the LLama2-7B model. We also load and parse the output from the model here"
   ]
  },
  {
   "cell_type": "code",
   "execution_count": 1,
   "id": "88fd7218",
   "metadata": {},
   "outputs": [],
   "source": [
    "import sys\n",
    "from tqdm.notebook import tqdm"
   ]
  },
  {
   "cell_type": "code",
   "execution_count": 2,
   "id": "4b5a1a3c",
   "metadata": {},
   "outputs": [
    {
     "name": "stderr",
     "output_type": "stream",
     "text": [
      "/Users/z003yzhj/Desktop/Projects/TabNER/venv/lib/python3.9/site-packages/tqdm/auto.py:21: TqdmWarning: IProgress not found. Please update jupyter and ipywidgets. See https://ipywidgets.readthedocs.io/en/stable/user_install.html\n",
      "  from .autonotebook import tqdm as notebook_tqdm\n"
     ]
    }
   ],
   "source": [
    "from transformers import AutoTokenizer, AutoModelForCausalLM\n",
    "import transformers\n",
    "import torch"
   ]
  },
  {
   "cell_type": "code",
   "execution_count": null,
   "id": "0803e421-524d-41d3-b360-e85ca6017530",
   "metadata": {},
   "outputs": [],
   "source": [
    "# Load model directly\n",
    "\n",
    "tokenizer = AutoTokenizer.from_pretrained(\"meta-llama/Llama-2-7b-hf\")\n",
    "model = AutoModelForCausalLM.from_pretrained(\"meta-llama/Llama-2-7b-hf\")\n"
   ]
  },
  {
   "cell_type": "code",
   "execution_count": 21,
   "id": "977ddd23-6df7-4752-b382-7eae54fb18dd",
   "metadata": {},
   "outputs": [],
   "source": [
    "pipeline = transformers.pipeline(\"text-generation\",\n",
    "                                model=model,\n",
    "                                tokenizer=tokenizer,\n",
    "                                torch_dtype=torch.float16,\n",
    "                                device_map=\"auto\",\n",
    "                                )"
   ]
  },
  {
   "cell_type": "code",
   "execution_count": 22,
   "id": "cce4e2ab-775a-4e93-bea5-89482325ce92",
   "metadata": {},
   "outputs": [],
   "source": [
    "prompt = \"\"\"You are an NER expert. Extract entities from the input table using the following types: Activity, Organisation, ArchitecturalStructure, Event, Place, Person, Work. \n",
    "     If the type of the entity is not one of the types above, please use type: MISC. The output is a list with dictionary for every entity in the following format: \n",
    "     [{\"entity\": Entity, \"type\": Type, \"cell_index\": [x,y]}]. Cell index should be one list [x,y] where x is the row number and y is the column number.\n",
    "     The table header has index -1, the table content with entities start from index [0,0].\n",
    "         Example table:\n",
    "         Draw,Artist,First song (original artist),Draw,Second song (original artist),Result\n",
    "         1,Mark Evans,\" Rock Your Body \" ( Justin Timberlake ),5,\" I Don't Want to Talk About It \" ( Rod Stewart ),Safe,\n",
    "         Output:\n",
    "         [{\"entity\": \"Mark Evans\",   \"type\": \"Person\",   \"cell_index\": [0, 1] },\n",
    "         {\"entity\": \"Justin Timberlake\",    \"type\": \"Person\",    \"cell_index\": [0, 2]},\n",
    "         {\"entity\": \"Rock Your Body\",    \"type\": \"Work\",    \"cell_index\": [0, 2]}]\n",
    "         \n",
    "  Table:\n",
    " Author|Title|Principal Character(s)\n",
    " Matthew Baugh|\"Tournament of the Treasure\"|Steve Costigan , The Black Coats , Townsend Harper\n",
    " Nicholas Boving|\"Wings of Fear\"|Harry Dickson , Bulldog Drummond\n",
    " Robert Darvel|\"The Man With the Double Heart\"|The Nyctalope\n",
    " Matthew Dennion|\"The Treasure of Everlasting Life\"|Allan Quatermain , Dr. Loveless , The Black Coats\n",
    " Win Scott Eckert|\"Violet's Lament\"|Lady Blakeney , The Black Coats\n",
    " Martin Gately|\"Wolf at the Door of Time\"|Doctor Omega , Moses Nebogipfel , The Nyctalope\n",
    " Travis Hiltz|\"What Lurks in Romney Marsh?\"|Doctor Omega , Doctor Syn\n",
    " Paul Hugli|\"As Time Goes By...\"|Doctor Omega , Rick Blaine?\n",
    " Output:\n",
    " \"\"\""
   ]
  },
  {
   "cell_type": "code",
   "execution_count": null,
   "id": "9702eac1-1509-4556-8ba8-5b7c0a941987",
   "metadata": {},
   "outputs": [
    {
     "name": "stderr",
     "output_type": "stream",
     "text": [
      "Truncation was not explicitly activated but `max_length` is provided a specific value, please use `truncation=True` to explicitly truncate examples to max length. Defaulting to 'longest_first' truncation strategy. If you encode pairs of sequences (GLUE-style) with the tokenizer you can select this strategy more precisely by providing a specific strategy to `truncation`.\n"
     ]
    }
   ],
   "source": [
    "sequences = pipeline(\n",
    "        prompt,\n",
    "        do_sample=True,\n",
    "        top_k=10,\n",
    "        num_return_sequences=1,\n",
    "        eos_token_id=tokenizer.eos_token_id,\n",
    "        max_length=4000,\n",
    "        )"
   ]
  },
  {
   "cell_type": "code",
   "execution_count": null,
   "id": "9aeb162b-e422-43d4-aeb4-42160c673c86",
   "metadata": {},
   "outputs": [],
   "source": [
    "for seq in sequences:\n",
    "    print(f\"{seq['generated_text']}\")"
   ]
  },
  {
   "cell_type": "markdown",
   "id": "f3cb34b8-2517-44cf-a7fd-ad7fce481bd2",
   "metadata": {},
   "source": [
    "## Parsing Llama output and evaluate"
   ]
  },
  {
   "cell_type": "code",
   "execution_count": 1,
   "id": "117659a1-def0-45bf-8b3b-292e0ce5a15c",
   "metadata": {},
   "outputs": [],
   "source": [
    "import torch\n",
    "import re\n",
    "import json\n",
    "import os\n",
    "import sys\n",
    "sys.path.append(\"../\")"
   ]
  },
  {
   "cell_type": "code",
   "execution_count": 2,
   "id": "94f1c2ba-dea4-477b-b9ac-012e4513b10f",
   "metadata": {},
   "outputs": [
    {
     "name": "stderr",
     "output_type": "stream",
     "text": [
      "/Users/z003yzhj/Desktop/Projects/TabNER/venv/lib/python3.9/site-packages/tqdm/auto.py:21: TqdmWarning: IProgress not found. Please update jupyter and ipywidgets. See https://ipywidgets.readthedocs.io/en/stable/user_install.html\n",
      "  from .autonotebook import tqdm as notebook_tqdm\n"
     ]
    },
    {
     "name": "stdout",
     "output_type": "stream",
     "text": [
      "False\n"
     ]
    }
   ],
   "source": [
    "from utils import tab_to_csv, get_correct_anno, eval_llama_output, llm_responce\n",
    "from utils import parse_output, parse_entities\n",
    "from ner_prompting import calc_results"
   ]
  },
  {
   "cell_type": "code",
   "execution_count": 3,
   "id": "86707f8e-ea63-4067-802d-6abdccc1c563",
   "metadata": {},
   "outputs": [],
   "source": [
    "seed_nr = 42\n",
    "generator = torch.Generator().manual_seed(seed_nr)"
   ]
  },
  {
   "cell_type": "code",
   "execution_count": 4,
   "id": "8a6de5fb-94e5-47bb-b057-b41bb95ccce1",
   "metadata": {},
   "outputs": [],
   "source": [
    "data_path=\"../data/final_NER_labeled_dataset.csv\"\n",
    "with open(data_path, 'r') as f:\n",
    "    ner_tables = json.load(f) "
   ]
  },
  {
   "cell_type": "code",
   "execution_count": 5,
   "id": "7e6594a3-5894-4795-bf00-b19032995acd",
   "metadata": {},
   "outputs": [],
   "source": [
    "train_set, test_set = torch.utils.data.random_split(ner_tables, [49271, 2000], generator=generator)"
   ]
  },
  {
   "cell_type": "code",
   "execution_count": 6,
   "id": "a30e5b22-d83d-454f-be6a-324e1d363f58",
   "metadata": {},
   "outputs": [
    {
     "name": "stdout",
     "output_type": "stream",
     "text": [
      "{'Activity': 1, 'Organisation': 2, 'ArchitecturalStructure': 3, 'Event': 4, 'Place': 5, 'Person': 6, 'Work': 7}\n"
     ]
    }
   ],
   "source": [
    "labels_dict = {  \n",
    "            'Activity': 1,\n",
    "            'Organisation': 2,\n",
    "            'ArchitecturalStructure': 3,\n",
    "            'Event': 4,\n",
    "            'Place': 5,\n",
    "            'Person': 6,\n",
    "            'Work': 7,\n",
    "                }\n",
    "labels_dict_rev={v:k for k,v in labels_dict.items()}\n",
    "print(labels_dict)"
   ]
  },
  {
   "cell_type": "code",
   "execution_count": 7,
   "id": "71960fb8-b679-4a42-bd5b-fb3ac8c6a6ae",
   "metadata": {
    "scrolled": true
   },
   "outputs": [
    {
     "name": "stdout",
     "output_type": "stream",
     "text": [
      "{\"entity\": \"JAM\", \"type\": \"Place\",'}\n",
      "{\"entity'}\n",
      "{\"entity\": \"Anonymous Content\", \"type\": \"Organisation\", \"cell'}\n",
      "{\"entity\": \"'}\n",
      "{\"entity'}\n",
      "{\"entity\": \"Take That\", \"type'}\n",
      "{\"entity\": \"Pittsburgh Pirates\", \"type\": \"Organisation\", \"cell_index\": [16'}\n",
      "{\"entity\": \"World War II\", \"type\": \"Event\", \"cell_index\": [3, '}\n",
      "{\"entity\": \"Narumi'}\n",
      "{\"entity\": \"Anna Meares\", \"type\":'}\n",
      "{\"entity\": \"Sunday, April '}\n",
      "{\"entity\": \"D'}\n",
      "{\"entity\": \"CM Airlines\", \"type\": \"Organisation\", \"cell_index\": [11, 0]'}\n",
      "{\"entity\": \"RUS\",'}\n",
      "{\"entity\":'}\n",
      "{\"entity\": \"AUS\", \"type\": \"Place\",'}\n",
      "{\"entity\": \"Plus Communication\", \"'}\n",
      "{\"entity\": \"Nairobi-Jomo Kenyatta\", \"type\": \"ArchitecturalStructure\",'}\n",
      "{\"entity\": \"SWE'}\n",
      "{\"entity\": \"ROU\", \"type\": \"Organisation\", \"cell_index'}\n",
      "{\"entity\": \"USA\", \"'}\n",
      "{\"entity\": \"Brazil\", \"type\": \"Place'}\n",
      "{\"entity\": \"Robert Satcher\", \"type\": \"Person\", \"cell_index\": [13, 2]  Table:#|Image|Name Birth date|Comment|Missions (Launch date)1||Sally Ride June 26, 1951|First American woman in space|STS-7 (June 18, 1983) STS-47 (September 12, 1992)2||Ellen Ochoa September 10, 1'}\n",
      "{\"entity\": \"Jonathon \"The Impaler\" Sharkey\", \"type\": \"Person\", \"cell_index\": [3, 2]}\n",
      "{\"entity\": \"Eliza Dushku\", \"type\":'}\n",
      "{\"entity\": \"Jonathan Young\", \"type\": \"Person\", \"cell_'}\n",
      "{\"entity\": \"Giuseppe Cerise\", \"type\": \"Person\", \"cell'}\n",
      "{\"entity\": \"E2'}\n",
      "{\"entity\": \"Arantxa Sánchez\", \"type\":'}\n",
      "{\"entity\":'}\n",
      "{\"entity\": \"GBR\", \"type\": \"Organisation\", \"'}\n",
      "{\"entity\": \"Arthur Daley\", \"type\": \"Person\", \"cell_index\": [0, '}\n",
      "{\"entity\": \"Ken Mosdell\", \"type\": \"Person\", \"cell'}\n",
      "{\"entity\": \"none awarded\", \"type\": \"Place\", \"cell_index\": [0,'}\n",
      "{\"entity'}\n",
      "{\"entity\": \"Alan Alda\", \"type\": \"Person\", \"cell_index\": [13, '}\n",
      "{\"entity\": \"'}\n",
      "{\"entity\": \"Esko Rechardt\", \"type\": \"Person\", \"cell_'}\n",
      "{\"entity\": \"FRA\", \"type\": \"Place\", \"cell_'}\n",
      "{\"entity\": \"Germany\",'}\n",
      "{\"entity\": \"Estádio José Al'}\n",
      "{\"entity\": \"Heidi Zurbriggen\",'}\n",
      "{\"entity\": \"Las Vegas, Nevada\", \"type\":'}\n",
      "{\"'}\n",
      "{\"entity\": \"Hansel and Gretel: An Opera Fantasy\", \"type\": \"Event\", \"cell_index\": [8,'}\n",
      "{\"entity\": \"Rotterdam Marathon\", \"type\": \"Activity\", \"cell_index'}\n",
      "{\"entity\":'}\n",
      "{\"entity'}\n",
      "{\"entity\": \"Damansara Utama (Uptown'}\n",
      "{\"entity\": \"GDR\", \"type'}\n",
      "{\"entity\": \"To Toronto Maple Leafs Greg Johnston\", \"type\": \"Event\", \"cell_index\": [7, 2]                                                                                                                                                                '}\n",
      "{\"entity\": \"Felipe Prada\", \"type\": \"Person\", \"cell_index\": ['}\n",
      "{\"entity\": \"Trailers that give away the film's entire plot\",'}\n",
      "{\"entity\": \"Luigi Bacigalupo\", \"type\": \"Person'}\n",
      "{\"entity\": \"Amanda Berg\", \"type\": \"Person\", \"cell_index\":'}\n",
      "{\"entity\":'}\n",
      "{\"entity\": \"Spice\",'}\n",
      "{\"entity\": \"Myanmar\", \"type\":'}\n",
      "{\"entity\": \"Nikš'}\n",
      "{\"entity\": \"Women's singles'}\n",
      "{\"entity'}\n",
      "{\"entity\": \"Agata Rosłońska\", \"type'}\n",
      "{\"entity\": \"Morten \"Duncan\" Rasmussen\", \"type\": \"Person\", \"cell_index\": [1, 0]}\n",
      "{\"entity\": \"Morten \"Duncan\" Rasmussen\", \"type\": \"Person\", \"cell_index\": [1, 0]}\n",
      "{\"entity\": \"Morten \"Duncan\" Rasmussen\", \"type\": \"Person\", \"cell_index\": [1, 0]}\n",
      "{\"entity\": \"Morten \"Duncan\" Rasmussen\", \"type\": \"Person\", \"cell_index\": [1, 0]}\n",
      "{\"entity\": \"Morten \"Duncan\" Rasmussen\", \"type\": \"Person\", \"cell_index\": [1, 0]}\n",
      "{\"entity\": \"7 March 2010'}\n",
      "{\"'}\n",
      "{\"entity\": \"The youngest sister (1898–2003). Was a prominent political leader in her own right, the wife and partner in power of the leader of the Kuomintang (KMT), Generalissimo of the Chinese armies, and later President, Chiang Kai-shek.\", \"type\": \"Description\", \"cell_index\": [2, 2]  Table:Title|Director|Actors|Genre|NotabilityThe Great Wall|Zhang Yimou|Matt Damon, Pedro Pascal, Willem Dafoe, Tian Jing, Andy Lau, Zhang Hanyu, Eddie Peng, Jing Tian, Lin Gengxin, Zhao Lixin, Xuan Huang, Chen Xuedong, Huang Xuan, Zhang Yi, Zhang Hanyu, Zhang Hanyu, Zhang Hanyu, Zhang Hanyu, Zhang Hanyu, Zhang Hanyu, Zhang Hanyu, Zhang Hanyu, Zhang Hanyu, Zhang Hanyu, Zhang Hanyu, Zhang Hanyu, Zhang Hanyu, Zhang Hanyu, Zhang Hanyu, Zhang Hanyu, Zhang Hanyu, Zhang Hanyu, Zhang Hanyu, Zhang Hanyu, Zhang Hanyu, Zhang Hanyu, Zhang Hanyu, Zhang Hanyu, Zhang Hanyu, Zhang Hanyu, Zhang Hanyu, Zhang Hanyu, Zhang Hanyu, Zhang Hanyu, Zhang Hanyu, Zhang Hanyu, Zhang Hanyu, Zhang Hanyu, Zhang Hanyu, Zhang Hanyu, Zhang Hanyu, Zhang Hanyu, Zhang Hanyu, Zhang Hanyu, Zhang Hanyu, Zhang Hanyu, Zhang Hanyu, Zhang Hanyu, Zhang Hanyu, Zhang Hanyu, Zhang Hanyu, Zhang Hanyu, Zhang Hanyu, Zhang Hanyu, Zhang Hanyu, Zhang Hanyu, Zhang Hanyu, Zhang Hanyu, Zhang Hanyu, Zhang Hanyu, Zhang Hanyu, Zhang Hanyu, Zhang Hanyu, Zhang Hanyu, Zhang Hanyu, Zhang Hanyu, Zhang Hanyu, Zhang Hanyu, Zhang Hanyu, Zhang Hanyu, Zhang Hanyu, Zhang Hanyu, Zhang Hanyu, Zhang Hanyu, Zhang Hanyu, Zhang Hanyu, Zhang Hanyu, Zhang Hanyu, Zhang Hanyu, Zhang Hanyu, Zhang Hanyu, Zhang Hanyu, Zhang Hanyu, Zhang Hanyu, Zhang Hanyu, Zhang Hanyu, Zhang Hanyu, Zhang Hanyu, Zhang Hanyu, Zhang Hanyu, Zhang Hanyu, Zhang Hanyu, Zhang Hanyu, Zhang Hanyu, Zhang Hanyu, Zhang Hanyu, Zhang Hanyu, Zhang Hanyu, Zhang Hanyu, Zhang Hanyu, Zhang Hanyu, Zhang Hanyu, Zhang Hanyu, Zhang Hanyu, Zhang Hanyu, Zhang Hanyu, Zhang Hanyu, Zhang Hanyu, Zhang Hanyu, Zhang Hanyu, Zhang Hanyu, Zhang Hanyu, Zhang Hanyu, Zhang Hanyu, Zhang Hanyu, Zhang Hanyu, Zhang Hanyu, Zhang Hanyu, Zhang Hanyu, Zhang Hanyu, Zhang Hanyu, Zhang Hanyu, Zhang Hanyu, Zhang Hanyu, Zhang Hanyu, Zhang Hanyu, Zhang Hanyu, Zhang Hanyu, Zhang Hanyu, Zhang Hanyu, Zhang Hanyu, Zhang Hanyu, Zhang Hanyu, Zhang Hanyu, Zhang Hanyu, Zhang Hanyu, Zhang Hanyu, Zhang Hanyu, Zhang Hanyu, Zhang Hanyu, Zhang Hanyu, Zhang Hanyu, Zhang Hanyu, Zhang Hanyu, Zhang Hanyu, Zhang Hanyu, Zhang Hanyu, Zhang Hanyu, Zhang Hanyu, Zhang Hanyu, Zhang Hanyu, Zhang Hanyu, Zhang Hanyu, Zhang Hanyu, Zhang Hanyu, Zhang Hanyu, Zhang Hanyu, Zhang Hanyu, Zhang Hanyu, Zhang Hanyu, Zhang Hanyu, Zhang Hanyu, Zhang Hanyu, Zhang Hanyu, Zhang Hanyu, Zhang Hanyu, Zhang Hanyu, Zhang Hanyu, Zhang Hanyu, Zhang Hanyu, Zhang Hanyu, Zhang Hanyu, Zhang Hanyu, Zhang Hanyu, Zhang Hanyu, Zhang Hanyu, Zhang Hanyu, Zhang Hanyu, Zhang Hanyu, Zhang Hanyu, Zhang Hanyu, Zhang Hanyu, Zhang Hanyu, Zhang Hanyu, Zhang Hanyu, Zhang Hanyu, Zhang Hanyu, Zhang Hanyu, Zhang Hanyu, Zhang Hanyu, Zhang Hanyu, Zhang Hanyu, Zhang Hanyu, Zhang Hanyu, Zhang Hanyu, Zhang Hanyu, Zhang Hanyu, Zhang Hanyu, Zhang Hanyu, Zhang Hanyu, Zhang Hanyu, Zhang Hanyu, Zhang Hanyu, Zhang Hanyu, Zhang Hanyu, Zhang Hanyu, Zhang Hanyu, Zhang Hanyu, Zhang Hanyu, Zhang Hanyu, Zhang Hanyu, Zhang Hanyu, Zhang Hanyu, Zhang Hanyu, Zhang Hanyu, Zhang Hanyu, Zhang Hanyu, Zhang Hanyu, Zhang Hanyu, Zhang Hanyu, Zhang Hanyu, Zhang Hanyu, Zhang Hanyu, Zhang Hanyu, Zhang Hanyu, Zhang Hanyu, Zhang Hanyu, Zhang Hanyu, Zhang Hanyu, Zhang Hanyu, Zhang Hanyu, Zhang Hanyu, Zhang Hanyu, Zhang Hanyu, Zhang Hanyu, Zhang Hanyu, Zhang Hanyu, Zhang Hanyu, Zhang Hanyu, Zhang Hanyu, Zhang Hanyu, Z'}\n",
      "{\"entity\": \"Top 50 number-one'}\n",
      "{\"entity\": \"USA'}\n",
      "{\"entity\": \"Hicham Bouaouiche\", \"'}\n",
      "{\"entity\":'}\n",
      "{\"entity\": \"Sweden\", \"type\": \"Place\", \"cell_'}\n",
      "{\"entity\": \"COL\", \"type\": \"Place\", \"cell_index'}\n",
      "{\"entity\": \"Karolina Sadalska\", \"type\": \"Person\", \"'}\n",
      "{\"entity\": \"Timmins\", \"type'}\n",
      "{\"entity\": \"Paula Medina\", \"type\":'}\n",
      "{\"entity\": \"France\", \"type\": \"'}\n",
      "{\"entity\": \"Arto T'}\n",
      "{\"entity\": \"details\", \"type\": \"Event\", \"cell_index\": [1,'}\n",
      "{\"entity\": \"Benson\", \"type\":'}\n",
      "{\"entity\": \"Ich Troje\", \"type\": \"Organisation\", \"cell_index\": [0, '}\n",
      "{\"entity\": \"Le'}\n",
      "{\"entity\": \"Ponte das Barcas bridge\",'}\n",
      "{\"entity\": \"Gergő Kis\", \"type\": \"'}\n",
      "{\"entity\": \"UC Santa Barbara\", \"type'}\n",
      "{\"entity\": \"Tyler Morgan\", \"type\": \"Person\", \"cell_index\": [0, 2]'}\n",
      "{\"entity\": \"Pizza delivery boy\", \"type\": \"Activity\",'}\n",
      "{\"entity\": \"Godda Deoghar Dumka Jamtara Sahibganj Pakur\", \"type\":'}\n",
      "{\"entity\": \"India\", \"type\": \"Place\",\" \"cell_index\": [12, 1]}\n",
      "{\"entity\": \"India\", \"type\": \"Place\",\" \"cell_index\": [12, 1]}\n",
      "{\"entity\": \"India\", \"type\": \"Place\",\" \"cell_index\": [12, 1]}\n",
      "{\"entity\": \"CHI\", \"type\":'}\n",
      "{\"entity\": \"Sarah Trowbridge\", \"type\": \"Person\", \"cell_'}\n",
      "{\"entity\": \"USA\",'}\n",
      "{\"entity\": \"Chinese Taipei\", \"type\": \"Place\",'}\n",
      "{\"entity\": \"Liu Xiang\", \"type\": \"Person\", \"cell_'}\n",
      "{\"entity\": \"Japan\", \"type\": \"Place\",'}\n",
      "{\"entity\": \"'}\n",
      "{\"entity\": \"Domin'}\n",
      "{\"entity\": \"HUN'}\n",
      "{\"entity\": \"Colin Montgomerie\", \"type\":'}\n",
      "{\"entity\": \"Mexico'}\n",
      "{\"entity\": \"Peace of God\", \"type\": \"Work\", \"cell_index\": [4, '}\n",
      "{\"entity\": \"Elizabeth Calvet (posthumous) Marta Lucia Alvarez Giraldo, Marta Lucia Tamayo Rincon and Alba Nelly Montoya Cui Zi En Mah'}\n",
      "{\"entity\": \"Holy Cross\", \"type\": \"Organisation\", \"'}\n",
      "{\"entity\": \"Vyšné Opátske\", \"type\": \"Place\", \"cell_index\": [3, 1]  Table:District|BoroughsBanská Bystrica I|Banská Bystrica, Banská Bystrica - sever, Banská Bystrica - východ, Banská Bystrica - jih, Banská Bystrica - severozápad, Banská Bystrica - severovýchod, Banská Bystrica - severovýchod, Banská Bystrica - severovýchod, Banská Bystrica - severovýchod, Banská Bystrica - severovýchod, Banská Bystrica - severovýchod, Banská Bystrica - severovýchod, Banská Bystrica - severovýchod, Banská Bystrica - severovýchod, Banská Bystrica - severovýchod, Banská Bystrica - severovýchod, Banská Bystrica - severovýchod, Banská Bystrica - severovýchod, Banská Bystrica - severovýchod, Banská Bystrica - severovýchod, Banská Bystrica - severovýchod, Banská Bystrica - severovýchod, Banská Bystrica - severovýchod, Banská Bystrica - severovýchod, Banská Bystrica - severovýchod, Banská Bystrica - severovýchod, Banská Bystrica - severovýchod, Banská Bystrica - severovýchod, Banská Bystrica - severovýchod, Banská Bystrica - severovýchod, Banská Bystrica - severovýchod, Banská Bystrica - severovýchod, Banská Bystrica - severovýchod, Banská Bystrica - severovýchod, Banská Bystrica - severovýchod, Banská Bystrica - severovýchod, Banská Bystrica - severovýchod, Banská Bystrica - severovýchod, Banská Bystrica - severovýchod, Banská Bystrica - severovýchod, Banská Bystrica - severovýchod, Banská Bystrica - severovýchod, Banská Bystrica - severovýchod, Banská Bystrica - severovýchod, Banská Bystrica - severovýchod, Banská Bystrica - severovýchod, Banská Bystrica - severovýchod, Banská Bystrica - severovýchod, Banská Bystrica - severovýchod, Banská Bystrica - severovýchod, Banská Bystrica - severovýchod, Banská Bystrica - severovýchod, Banská Bystrica - severovýchod, Banská Bystrica - severovýchod, Banská Bystrica - severovýchod, Banská Bystrica - severovýchod, Banská Bystrica - severovýchod, Banská Bystrica - severovýchod, Banská Bystrica - severovýchod, Banská Bystrica - severovýchod, Banská Bystrica - severovýchod, Banská Bystrica - severovýchod, Banská Bystrica - severovýchod, Banská Bystrica - severovýchod, Banská Bystrica - severovýchod, Banská Bystrica - severovýchod, Banská Bystrica - severovýchod, Banská Bystrica - severovýchod, Banská Bystrica - severovýchod, Banská Bystrica - severovýchod, Banská Bystrica - severovýchod, Banská Bystrica - severovýchod, Banská Bystrica - severovýchod, Banská Bystrica - severovýchod, Banská Bystrica - severovýchod, Banská Bystrica - severovýchod, Banská Bystrica - severovýchod, Banská Bystrica - severovýchod, Banská Bystrica - severovýchod, Banská Bystrica - severovýchod, Banská Bystrica - severovýchod, Banská Bystrica - severovýchod, Banská Bystrica - severovýchod, Banská Bystrica - severovýchod, Banská Bystrica - severovýchod, Banská Bystrica - severovýchod, Banská Bystrica - severovýchod, Banská Bystrica - severovýchod, Banská Bystrica - severovýchod, Banská Bystrica - severovýchod, Banská Bystrica - severovýchod, Banská Bystrica - severovýchod, Banská Bystrica - severovýchod, Banská Bystrica - severovýchod, Banská Bystrica - severovýchod, Banská Bystrica - severovýchod, Banská Bystrica - severovýchod, Banská Bystrica - severovýchod, Banská Bystrica - severovýchod, Banská Bystrica - severovýchod, Banská Bystrica - severovýchod, Banská Bystrica - severovýchod, Banská Bystrica - severovýchod, Banská Bystrica - severovýchod, Banská Bystrica - severovýchod, Banská Bystrica - severovýchod, Banská Bystrica - severovýchod, Banská Bystrica - severovýchod, Banská Bystrica - severovýchod, Banská Bystrica - severovýchod, Banská Bystrica - severovýchod, Banská Bystrica - severovýchod, Banská Bystrica - severovýchod, Banská Bystrica - severovýchod, Banská Bystrica - severovýchod, Banská Bystrica - severovýchod, Banská Bystrica - severovýchod, Banská Bystrica - severovýchod, Banská Bystrica - severovýchod, Banská Bystrica - severovýchod, Banská Bystrica - severovýchod, Banská Bystrica - severovýchod, Banská Bystrica - severovýchod, Banská Bystrica - severovýchod, Banská Bystrica - severovýchod, Banská Bystrica - severovýchod, Banská Bystrica - severovýchod, Banská Bystrica - severovýchod, Banská Bystrica - severovýchod, Banská Bystrica - severovýchod, Banská Bystrica - severovýchod, Banská Bystrica - severovýchod, Banská Bystrica - severovýchod, Banská Bystrica - severovýchod, Banská Bystrica - severovýchod, Banská Bystrica - severovýchod, Banská Bystrica - severovýchod, Banská Bystrica - severovýchod, Banská Bystrica - severovýchod, Banská Bystrica - severovýchod, Banská Bystrica - severovýchod, Banská Bystrica - severovýchod, Banská Bystrica - severovýchod, Banská Bystrica - severovýchod, Banská Bystrica - severovýchod, Banská Bystrica - severovýchod, Banská Bystrica - severovýchod, Banská Bystrica - severovýchod, Banská Bystrica - severovýchod, Banská Bystrica - severovýchod, Banská Bystrica - severovýchod, Banská Bystrica - severovýchod, Banská Bystrica - severovýchod, Banská Bystrica - severovýchod, Banská Bystrica - severovýchod, Banská Bystrica - severovýchod, Banská Bystrica - severovýchod, Banská Bystrica - severovýchod, Banská Bystrica - severovýchod, Banská Bystrica - severovýchod, Banská Bystrica - severovýchod, Banská Bystrica - severovýchod, Banská Bystrica - severovýchod, Banská Bystrica - severovýchod, Banská Bystrica - severovýchod, Banská Bystrica - severovýchod, Banská Bystrica - severovýchod, Banská Bystrica - severovýchod, Banská Bystrica - severovýchod, Banská Bystrica - severovýchod, Banská Bystrica - severovýchod, Banská Bystrica - severovýchod, Banská Bystrica - severovýchod, Banská Bystrica - severovýchod, Banská Bystrica - severovýchod, Banská Bystrica - severovýchod, Banská Bystrica - severovýchod, Banská Bystrica - severovýchod, Banská Bystrica - severovýchod, Banská Bystrica - severovýchod, Banská Bystrica - severovýchod, Banská Bystrica - severovýchod, Banská Bystrica - severovýchod, Banská Bystrica - severovýchod, Banská Bystrica - severovýchod, Banská Bystrica - severovýchod, B'}\n",
      "{\"entity\": \"\" Love \", \"type\": \"Work\", \"cell_index\": [0, 1]}\n",
      "{\"entity\": \"\" Tonight (I'm L\", \"type\": \"Work\", \"cell_index\": [1, 1]}\n",
      "{\"entity\": \"Have You Ever Really Loved a Woman?\", \"type\": \"Work'}\n",
      "{\"entity\": \"Roman Bierła'}\n",
      "{\"entity\": \"Argentina\", \"type\":'}\n",
      "{\"entity\": \"Arieta Mudunavoce\", \"type\": \"Person\",'}\n",
      "{\"entity\": \"John Pradeep\", \"type'}\n",
      "{\"entity\": \"Irena Pavelková\",'}\n",
      "{\"entity\": \"'}\n",
      "{\"entity\": \"Sela Ward\", \"type\": \"Organisation\", \"cell_index\": ['}\n",
      "{\"entity'}\n",
      "{\"entity\": \"GBR\", \"type\": \"Organisation'}\n",
      "{\"entity\": \"'}\n",
      "{\"entity\": \"Evgeny Drattsev\", \"type\": \"Person\", \"cell_'}\n",
      "{\"entity\": \"Ulster Unionist Party\", \"type\": \"Organisation\", \"cell_index\":'}\n",
      "{\"'}\n",
      "{\"entity\": \"Iran (IRI)\", \"type\": \"Place'}\n",
      "{\"entity\": \"GBR\", \"'}\n",
      "{\"entity\": \"CAN\", \"type\": \"Organisation\", \"cell_index\": [0'}\n",
      "{\"entity\": \"22 March 2008\", \"type\": \"Event\", \"cell_index\":'}\n",
      "{\"entity\": \"~95%\", \"type\":'}\n",
      "{\"entity\": \"Denis Menchov\", \"type\": \"'}\n",
      "{\"entity\": \"Indiana Pacers'}\n",
      "{\"entity\": \"GBR\", \"type\": \"Place\", \"cell_index\":'}\n",
      "{\"entity\": \"Viljo Leskinen\", \"type\": \"Person\", \"cell_index\": ['}\n",
      "{\"entity\": \"Lampre-Merida\", \"type\": \"Organisation\", \"cell_index\": ['}\n",
      "{\"entity\": \"1979\", \"type\": \"Event\",'}\n",
      "{\"entity\": \"C'}\n",
      "{\"entity'}\n",
      "{\"entity\": \"Gabriels\", \"type\":'}\n",
      "{\"entity\": \"FRA\", \"type\": \"Place\", \"cell_index\": [2, '}\n",
      "{\"entity\": \"Spyrídon Margaritópoulos\", \"type\": \"Person\", \"cell_'}\n",
      "{\"entity\": \"C'}\n",
      "{\"entity\": \"Kaohsiung\", \"type\": \"Place\", \"cell_index\":'}\n",
      "{\"entity\": \"ITA\", \"type\": \"Place\", \"cell_index\": [1, '}\n",
      "{\"entity\": \"'}\n",
      "{\"entity\": \"Robbie Williams\", \"type\": \"Person\", \"cell_index\": [23, 1'}\n",
      "{\"entity\": \"Saur-Sojasun\", \"type\": \"Organisation\", \"cell_index\": [7, 2]'}\n",
      "{\"entity\": \"Smil'}\n",
      "{\"entity\":'}\n",
      "{\"entity\": \"Oliver \"Atomic Bull\" McCall\", \"type\": \"Person\", \"cell_index\": [1, 2]}\n",
      "{\"entity\": \"Jason \"Big Six\" Estrada\", \"type\": \"Person\", \"cell_index\": [3, 2]}\n",
      "{\"entity\": \"Nova Scot'}\n",
      "{\"entity\": \"Zhang M'}\n",
      "{\"entity\": \"FRA\", \"type\": \"Place\", \"cell_'}\n",
      "{\"entity\": \"Germany\", \"type\": \"Place\",'}\n",
      "{\"entity\": \"Colin Farrell\", \"type\": \"Person\", \"cell_index'}\n",
      "{\"entity\": \"\" Love \", \"type\": \"Work\", \"cell_index\": [0, 1]}\n",
      "{\"entity\": \"\" Tonight (I'm L\", \"type\": \"Work\", \"cell_index\": [1, 1]}\n",
      "{\"entity\": \"Thomas Schönlebe\", \"type\": \"Person\", \"cell_index\": [2, '}\n",
      "{\"entity\": \"AUS\", \"type\": \"Place\", \"cell_index\": [2, '}\n",
      "{\"entity\": \"Valery Redkozub'}\n",
      "{\"entity'}\n",
      "{\"entity\": \"Rasmus O'}\n",
      "{\"entity\": \"Hong Kong Stadium\", \"type\": \"ArchitecturalStructure\",'}\n",
      "{\"entity\": \"Russia\", \"type\": \"Place\", \"cell_'}\n",
      "{\"entity\": \"José Luis López Vázquez\",'}\n",
      "{\"entity\": \"Loch Raven Boulevard\", \"type\": \"'}\n",
      "{\"entity\": \"Winnipeg Jets\", \"type\": \"Organisation\", \"cell_index\": [21, 1]'}\n",
      "{\"entity\":'}\n",
      "{\"entity\": \"Sevastopol\", \"type\": \"Place\", \"cell_index\": [0,'}\n",
      "{\"entity\": \"Gree'}\n",
      "{\"'}\n",
      "{\"entity\": \"Mixu Paatelainen\", \"type\": \"Person\", \"cell_'}\n",
      "{\"entity\": \"Iván Molina\", \"type\": \"'}\n",
      "{\"entity\": \"Raymond \"Bud\" Somerville\", \"type\": \"Person\", \"cell_index\": [2, 2]}\n",
      "{\"entity\": \"George H'}\n",
      "{\"entity\": \"Free State Stadium\", \"type\": \"ArchitecturalStructure\", \"cell'}\n",
      "{\"entity\": \"Byron \"Bam\" Morris\", \"type\": \"Person\", \"cell_index\": [3, 1]}\n",
      "{\"entity\": \"Minnesota\", \"type\": \"Organisation\", \"cell_'}\n",
      "{\"entity\": \"Kuala Lumpur\", \"type\": \"ArchitecturalStructure\", \"cell_index\": [1, 0'}\n",
      "{\"'}\n",
      "{\"entity\": \"Hong Kong'}\n",
      "{\"entity\": \"Javier Zapata'}\n",
      "{\"entity\": \"Smackgirl: Starting Over\", \"type\": \"Event\", \"cell_index\": [10, '}\n",
      "{\"entity\": \"'}\n",
      "{\"entity\": \"Virginia\",'}\n",
      "{\"entity\": \"Denver, Houston-Inter'}\n",
      "{\"entity\": \"GER\", \"type\": \"Place\", \"cell_index\": [1,'}\n",
      "{\"entity\": \"ITA\", \"type\": \"Place\", \"cell_index\": [2, 1]'}\n",
      "{\"entity\": \"France\", \"type\": \"Organisation\", \"cell_index\": [3,'}\n",
      "{\"entity\": \"Masahiro Hasemi\", \"type\": \"Person\", \"cell'}\n",
      "{\"'}\n",
      "{\"entity\": \"Jimmy Reed\", \"type\": \"Person\", \"cell_index\": [3, 2'}\n",
      "{\"entity\": \"digital download\", \"type\": \"Work\", \"cell_index\": [1, 2]'}\n",
      "{\"entity\": \"'}\n",
      "{\"entity\": \"Prince Carlo, Duke of Calabria\", \"type'}\n",
      "{\"entity\": \"Marcus Galea\", \"type\": \"Person\", \"cell_index\": [3,'}\n",
      "{\"entity\": \"Lithuania\", \"type\":'}\n",
      "{\"entity\": \"Katusha\", \"type\": \"Organisation\",'}\n",
      "{\"entity\": \"1968\",'}\n",
      "{\"entity\": \"Team Rahal\", \"type\": \"Organisation\", \"cell_'}\n",
      "{\"entity\": \"Philippe Gilbert\", \"type'}\n",
      "{\"entity\": \"Fre'}\n",
      "{\"entity\": \"TRI\", \"type\": \"Place\", \"cell_index\": [7, '}\n",
      "{\"entity\": \"Leon Rubin\",'}\n",
      "{\"entity\": \"Eldar Rønning\", \"'}\n",
      "{\"entity\": \"Sweden\", \"type\": \"Place\", \"cell_'}\n",
      "{\"entity\": \"Defender\", \"type\": \"Person\", \"cell_index\": [2'}\n",
      "{\"entity\":'}\n",
      "{\"entity\": \"'}\n",
      "{\"entity'}\n",
      "{\"entity\": \"Raleigh\", \"type\": \"Place\", \"cell_index\": [15, 1'}\n",
      "{\"entity\": \"'}\n",
      "{\"entity\": \"Venue\", \"type\": \"Place\", \"cell_index\":'}\n",
      "{\"entity\": \"2001'}\n",
      "{\"entity\": \"Andorra la Vella\", \"type\": \"Place\", \"cell_index\": [80, 1'}\n",
      "{\"entity\": \"Ale'}\n",
      "{\"entity\": \"Košice\",'}\n",
      "{\"entity\": \"Suddenly I See\", \"type\": \"Work\", \"cell'}\n",
      "{\"entity\": \"[[|]\", \"type\": \"Place\", \"cell_index\": [4'}\n",
      "{\"entity\": \"Paisley\", \"'}\n",
      "{\"entity\": \"1960 European Nations' Cup Qual.\", \"type\": \"Event\", \"'}\n",
      "{\"entity\":'}\n",
      "{\"entity\": \"Philadelphia Warriors\", \"type\": \"Organisation\",'}\n",
      "{\"entity\": \"Canada\", \"type\": \"'}\n",
      "{\"entity\": \"Wilderness Scrambler\", \"type\": \"ArchitecturalStructure\", \"cell_index\": [1, 0]'}\n",
      "{\"entity\": \"Cayde'}\n",
      "{\"entity\": \"Spain\", \"type\": \"Place\", \"'}\n",
      "{\"entity\": \"Eleonore Anna Lucie of Sayn'}\n",
      "{\"entity\": \"Marco Baacke\", \"type\": \"Person\", \"cell_'}\n",
      "{\"entity\": \"Bob Leivers\", \"type\": \"Person\", \"cell_index\":'}\n",
      "{\"entity'}\n",
      "{\"entity\":'}\n",
      "{\"entity\": \"Jos'}\n",
      "{\"entity\": \"Ynares Sports Arena\", \"type\": \"ArchitecturalStructure\", \"cell_index\": [4, '}\n",
      "{\"entity\": \"Ryuichi Sakamoto\",'}\n",
      "{\"entity\": \"VEN\", \"type\": \"Place\", \"cell_index\": [0, 1'}\n",
      "{\"entity\": \"Sigurd Pettersen\", \"type\": \"Person\", \"cell_index\": [2, 1]'}\n",
      "{\"entity\": \"DET\", \"type\": \"Organisation\", \"cell_index\": [37, '}\n",
      "{\"entity\": \"HUN'}\n",
      "{\"entity\": \"'}\n",
      "{\"entity\": \"BAH\", \"type\": \"Place\", \"cell_index\": [4'}\n",
      "{\"entity\": \"Francisco Benítez\", \"type\": \"Person\", \"cell_index\": [0, 7]'}\n",
      "{\"entity\": \"Sweden\", \"type'}\n",
      "{\"entity\": \"Michael Klim\", \"type\": \"Person\", \"cell_'}\n",
      "{\"entity\": \"George \"Red\" Sullivan\", \"type\": \"Person\", \"cell_index\": [0, 1]}\n",
      "{\"entity\": \"517'}\n",
      "{\"entity\": \"José Castelblanco\", \"type\": \"Person\", \"cell_'}\n",
      "{\"entity\": \"Glory Alozie\", \"type\": \"Person\", \"cell_index\": [1,'}\n",
      "{\"entity\": \"Democrat\", \"type\": \"Organ'}\n",
      "{\"entity\": \"George D. Weber\", \"type\": \"Person\",'}\n",
      "{\"entity\": \"'}\n",
      "{\"entity\": \"8.|October 1, 2006|Guangzhou, China|Hard|Sun Tiantian|Vania King & Jelena Kostanić Tosic|6–4 2–6 7–5\", \"type\": \"Event\", \"cell_index\": [8, 0]  Table:Tournament|Singles Winner|Runner-up|Score|Doubles Winner|Runner-up|ScoreWimbledon|Novak Djokovic|Roger Federer|6–3, 7–6(3) |Maria Sharapova|Serena Williams|6'}\n",
      "{\"'}\n",
      "{\"entity\": \"Marga López\",'}\n",
      "{\"entity\": \"Nanjing\", \"type\": \"Place\",'}\n",
      "{\"entity\": \"Ove Aunli\", \"type'}\n"
     ]
    },
    {
     "name": "stdout",
     "output_type": "stream",
     "text": [
      "{\"entity\": \"Germany\", \"type\": \"Place\", \"cell'}\n",
      "{\"entity\": \"ASV Dach'}\n",
      "{\"entity'}\n",
      "{\"'}\n",
      "{\"entity\": \"Amore & Vita-McDonald''}\n",
      "{\"entity\": \"Leningrad'}\n",
      "{\"entity\": \"Cleveland\", \"type\": \"Organisation\", \"cell_index\": ['}\n",
      "{\"entity\": \"Andy Turner\", \"type\": \"Person\", \"cell_index\": [7, 2]'}\n",
      "{\"entity\": \"1989\", \"'}\n",
      "{\"entity\": \"Seks, droga, nasilje i strah / Balkan Hor'}\n",
      "{\"entity\": \"Davis Wade Stadium\", \"type\": \"ArchitecturalStructure'}\n",
      "{\"entity\": \"Roy \"Shrimp\" Worters\", \"type\": \"Person\", \"cell_index\": [5, 0]}\n",
      "{\"entity\": \"Ottawa Senators\", \"type\": \"Organ'}\n",
      "{\"entity\": \"Memphis State\", \"type\":'}\n",
      "{\"entity\": \"ITA\", \"type\": \"Place\", \"cell_index'}\n",
      "{\"entity\": \"'}\n",
      "{\"entity\": \"COL\", \"type\": \"Place\", \"cell_index\":'}\n",
      "{\"entity\":'}\n",
      "{\"entity\": \"K'}\n",
      "{\"'}\n",
      "{\"entity\": \"11 September 2007'}\n",
      "{\"entity\": \"Bottle Creek Indian Mounds\", \"type\": \"Place\", \"'}\n",
      "{\"entity\": \"Marianne Vos'}\n",
      "{\"entity\": \"Tejay van Garderen\", \"type\": \"Person\",'}\n",
      "{\"entity\": \"Valeri Ponomarenko\", \"type\": \"Person'}\n",
      "{\"entity\": \"2'}\n",
      "{\"entity\": \"Lachlan Morton\", \"type\": \"Person'}\n",
      "{\"entity\": \"Hawke\", \"type\": \"Work\", \"cell_index\": ['}\n",
      "{\"entity\": \"Maegan Krifchin\", \"type\": \"Person\", \"cell_'}\n",
      "{\"entity\": \"6–7 (1–7)\", \"type\": \"'}\n",
      "{\"entity\": \"Rey Mysterio\", \"type\":'}\n",
      "{\"entity\": \"JPN\", \"type\": \"Event\", \"cell_index\": [6, 2]'}\n",
      "{\"entity\": \"4,6'}\n",
      "{\"entity\": \"Tendai Biti Stadium\", \"type\": \"ArchitecturalStructure\", \"cell'}\n",
      "{\"entity'}\n",
      "{\"entity\": \"Wilhelm Furtwängler\", \"type\": \"Person\", \"cell_index\": [0, 2]'}\n",
      "{\"entity\": \"Jen'}\n",
      "{\"entity\": \"Kim Hyo-Mi South Korea (KOR)\",'}\n",
      "{\"entity\":'}\n",
      "{\"entity\": \"Love's Divine\", \"type\": \"Work\", \"cell_index\": [3, '}\n",
      "{\"entity\": \"NED\", \"type\": \"Place'}\n",
      "{\"entity\": \"Criciúma SC\", \"type\": \"Organisation\", \"cell_index\": [1,'}\n",
      "{\"entity\": \"José Serpa'}\n",
      "{\"entity\": \"B\", \"'}\n",
      "{\"entity\": \"Son of Karpal Singh.National legal bureau secretary of the Democratic Action Party. He is dubbed the \"little lion of Puchong\"\", \"type\": \"Note\", \"cell_index\": [7, 5]}\n",
      "{\"entity\": \"LAA\", \"type\": \"Activity\", \"cell'}\n",
      "{\"entity\": \"Melissa Gorman\", \"type\": \"Person\", \"cell_index\": [6,'}\n",
      "{\"entity\": \"Urazurrutia 40\", \"'}\n",
      "{\"entity\": \"Tan Joe Hok\", \"type\": \"Person\", \"cell_index\": [5'}\n",
      "{\"entity\": \"Jana Bode\", \"type\": \"Person\", \"cell_index\": [2, '}\n",
      "{\"entity\": \"DOM\", \"type\": \"Place\", \"cell_index\": [2, '}\n",
      "{\"entity\": \"Ivan Dixon\", \"type\": \"Person\", \"cell_index\": [4, '}\n",
      "{\"entity\": \"SUI\", \"type\": \"Place\", \"'}\n",
      "{\"entity\": \"Defender\", \"type\": \"'}\n",
      "{\"entity\": \"NED\", \"type\": \"Place\", \"cell_index\":'}\n",
      "{\"entity\":'}\n",
      "{\"entity\":'}\n",
      "{\"entity\": \"Andreas Klöden\", \"type\": \"Person\", \"cell_index\": [4, 1]'}\n",
      "{\"entity\": \"Kuala Lumpur\", \"type\": \"Place\", \"cell_index\": [0,'}\n",
      "{\"entity\": \"Australia'}\n",
      "{\"entity\": \"Martha Hudson\", \"type\": \"Person\", \"cell_index\": [0, '}\n",
      "{\"entity\": \"'}\n",
      "{\"entity\": \"B'}\n",
      "{\"entity\": \"Jack McGrath\", \"type\": \"Person\", \"cell_index\": ['}\n",
      "{\"entity\": \"VEN\", \"type\": \"Place\", \"cell_index\": [0, '}\n",
      "{\"entity\": \"CHU\", \"type\": \"Place\", \"'}\n",
      "{\"entity'}\n"
     ]
    }
   ],
   "source": [
    "# Here are printed all the entities which were incomplete to be evaluated.\n",
    "parsed_output_llama0 = parse_output(\"Llama\", \"log_file_llama7b_3_filtered_False.txt\")"
   ]
  },
  {
   "cell_type": "code",
   "execution_count": 8,
   "id": "8ed6b0a5",
   "metadata": {},
   "outputs": [
    {
     "data": {
      "text/plain": [
       "600"
      ]
     },
     "execution_count": 8,
     "metadata": {},
     "output_type": "execute_result"
    }
   ],
   "source": [
    "len(parsed_output_llama0)"
   ]
  },
  {
   "cell_type": "code",
   "execution_count": 9,
   "id": "849e5d6f-cd1c-46c3-92cd-59c0d1493b32",
   "metadata": {},
   "outputs": [
    {
     "data": {
      "text/plain": [
       "80"
      ]
     },
     "execution_count": 9,
     "metadata": {},
     "output_type": "execute_result"
    }
   ],
   "source": [
    "len(parsed_output_llama0[\"5460482-9\"])"
   ]
  },
  {
   "cell_type": "code",
   "execution_count": 10,
   "id": "e21fb6a3-297e-459d-a748-aafc742c0682",
   "metadata": {},
   "outputs": [],
   "source": [
    "types = []\n",
    "for tab, values in parsed_output_llama0.items():\n",
    "    for el in values:\n",
    "        for key, val in el.items():\n",
    "            if key ==\"type\":\n",
    "                types.append(val)"
   ]
  },
  {
   "cell_type": "code",
   "execution_count": 11,
   "id": "6cb15c8c-442a-4b09-88ae-eddf42df5cb9",
   "metadata": {},
   "outputs": [
    {
     "data": {
      "text/plain": [
       "66"
      ]
     },
     "execution_count": 11,
     "metadata": {},
     "output_type": "execute_result"
    }
   ],
   "source": [
    "len(set(types))"
   ]
  },
  {
   "cell_type": "code",
   "execution_count": 12,
   "id": "077c40d3",
   "metadata": {},
   "outputs": [
    {
     "name": "stderr",
     "output_type": "stream",
     "text": [
      "/Users/z003yzhj/Desktop/Projects/tabner/notebooks/../utils.py:336: FutureWarning: Possible nested set at position 1\n",
      "  span_search = re.search(entity_text, cell_text)\n"
     ]
    }
   ],
   "source": [
    "dict_results = eval_llama_output(ner_tables, test_set.indices, parsed_output_llama0, labels_dict, filtered=False)"
   ]
  },
  {
   "cell_type": "code",
   "execution_count": 13,
   "id": "5551deba",
   "metadata": {},
   "outputs": [],
   "source": [
    "p, r, f1, f1_dict=calc_results(dict_results[\"all_gt_annotations\"], dict_results[\"all_predict_annotations\"], class_wise=True)"
   ]
  },
  {
   "cell_type": "code",
   "execution_count": 14,
   "id": "4040eb8b",
   "metadata": {},
   "outputs": [
    {
     "data": {
      "text/plain": [
       "(0.7772983114446529,\n",
       " 0.25104526449736414,\n",
       " 0.3795172445380846,\n",
       " defaultdict(float,\n",
       "             {5: 0.4351037636299684,\n",
       "              1: 0.30177514792899407,\n",
       "              6: 0.3821468926553672,\n",
       "              2: 0.3667664670658683,\n",
       "              3: 0.3544575725026853,\n",
       "              7: 0.15345911949685534,\n",
       "              4: 0.34285714285714286}))"
      ]
     },
     "execution_count": 14,
     "metadata": {},
     "output_type": "execute_result"
    }
   ],
   "source": [
    "p, r, f1, f1_dict"
   ]
  },
  {
   "cell_type": "code",
   "execution_count": null,
   "id": "5c5f9309",
   "metadata": {},
   "outputs": [],
   "source": [
    "for key, val in dict_results.items():\n",
    "    if key == (\"predicted_label\" or \"true_label\"):\n",
    "        print(key, len(val), len(val)/total_preds)\n",
    "    else:\n",
    "        \n",
    "        print(key, len(set(val)), len(set(val))/total_preds)"
   ]
  },
  {
   "cell_type": "code",
   "execution_count": 30,
   "id": "e02a35d7",
   "metadata": {},
   "outputs": [],
   "source": [
    "true_label = []\n",
    "predicted_label = []\n",
    "\n",
    "labels_dict[\"MISC\"] = 10\n",
    "\n",
    "for i in range(len(dict_results[\"all_predict_conf\"])):\n",
    "    for el in all_predict_conf[i]:\n",
    "        for tup in dict_results[\"all_gt_annotations\"][i]:\n",
    "            if el[0:4] == tup[0:4]:\n",
    "                true_label.append(tup[4])\n",
    "                predicted_label.append(el[4])\n",
    "\n",
    "for i, el in enumerate(predicted_label):\n",
    "    if el == 0:\n",
    "        predicted_label[i] = 10"
   ]
  },
  {
   "cell_type": "markdown",
   "id": "e7f3c524",
   "metadata": {},
   "source": [
    "### Plotting Confusion Matrix for the output"
   ]
  },
  {
   "cell_type": "code",
   "execution_count": 31,
   "id": "10e72b76-fe8c-47db-a03e-73898f169489",
   "metadata": {},
   "outputs": [],
   "source": [
    "import ast\n",
    "import seaborn as sns\n",
    "import matplotlib.pyplot as plt\n",
    "from sklearn.metrics import confusion_matrix"
   ]
  },
  {
   "cell_type": "code",
   "execution_count": 32,
   "id": "58ee3f7a-eb7f-421b-8276-7db93bca0cdc",
   "metadata": {},
   "outputs": [
    {
     "data": {
      "image/png": "[encoded data removed]",
      "text/plain": [
       "<Figure size 800x600 with 2 Axes>"
      ]
     },
     "metadata": {},
     "output_type": "display_data"
    }
   ],
   "source": [
    "cm = confusion_matrix(true_label,predicted_label)\n",
    "#print(cm)\n",
    "# Plot confusion matrix using seaborn\n",
    "plt.figure(figsize=(8, 6))\n",
    "sns.heatmap(cm, annot=True, fmt=\"d\", cmap=\"Blues\", xticklabels=labels_dict_rev.values(), yticklabels=labels_dict_rev.values())\n",
    "plt.xticks(rotation=45)\n",
    "plt.title(\"Confusion Matrix\")\n",
    "plt.xlabel(\"Predicted Labels\")\n",
    "plt.ylabel(\"True Labels\")\n",
    "\n",
    "plt.savefig(\"../output/plots/filtered/cm_llama_3_sim.png\",bbox_inches = \"tight\")"
   ]
  },
  {
   "cell_type": "code",
   "execution_count": null,
   "id": "805fd653-cd14-4211-a24b-dd51f6b5e4c3",
   "metadata": {},
   "outputs": [],
   "source": []
  }
 ],
 "metadata": {
  "kernelspec": {
   "display_name": "tabner",
   "language": "python",
   "name": "tabner"
  },
  "language_info": {
   "codemirror_mode": {
    "name": "ipython",
    "version": 3
   },
   "file_extension": ".py",
   "mimetype": "text/x-python",
   "name": "python",
   "nbconvert_exporter": "python",
   "pygments_lexer": "ipython3",
   "version": "3.9.6"
  }
 },
 "nbformat": 4,
 "nbformat_minor": 5
}
