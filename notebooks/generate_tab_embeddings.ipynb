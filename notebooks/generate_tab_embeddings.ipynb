{
 "cells": [
  {
   "cell_type": "markdown",
   "id": "f0b81a1f",
   "metadata": {},
   "source": [
    "### Generating the BERT embeddings for the tables which are used for the similarity-based search of few-shot examples"
   ]
  },
  {
   "cell_type": "code",
   "execution_count": 1,
   "id": "0118f9de",
   "metadata": {},
   "outputs": [],
   "source": [
    "import sys\n",
    "import os\n",
    "import pandas as pd\n",
    "import numpy as np\n",
    "import ast\n",
    "import torch\n",
    "import json\n",
    "import itertools\n",
    "import random"
   ]
  },
  {
   "cell_type": "code",
   "execution_count": 5,
   "id": "7d831c77",
   "metadata": {},
   "outputs": [],
   "source": [
    "import sys\n",
    "sys.path.append('project_path')"
   ]
  },
  {
   "cell_type": "code",
   "execution_count": 7,
   "id": "33f7254f",
   "metadata": {},
   "outputs": [],
   "source": [
    "from transformers import BertTokenizer, BertModel\n",
    "import torch"
   ]
  },
  {
   "cell_type": "code",
   "execution_count": 8,
   "id": "298300a5",
   "metadata": {},
   "outputs": [],
   "source": [
    "from utils import get_correct_anno, process_single_table_gpt"
   ]
  },
  {
   "cell_type": "code",
   "execution_count": 9,
   "id": "bad19634",
   "metadata": {},
   "outputs": [],
   "source": [
    "tokenizer = BertTokenizer.from_pretrained('bert-base-uncased')\n",
    "model = BertModel.from_pretrained('bert-base-uncased')"
   ]
  },
  {
   "cell_type": "code",
   "execution_count": 10,
   "id": "ff44564e",
   "metadata": {},
   "outputs": [],
   "source": [
    "seed_nr = 42\n",
    "generator = torch.Generator().manual_seed(seed_nr)"
   ]
  },
  {
   "cell_type": "code",
   "execution_count": 12,
   "id": "0dd5cd6c",
   "metadata": {},
   "outputs": [],
   "source": [
    "data_path=\"../data/Wiki_TabNER_final_labeled.json\"\n",
    "with open(data_path, 'r') as f:\n",
    "    ner_tables = json.load(f)   "
   ]
  },
  {
   "cell_type": "code",
   "execution_count": 13,
   "id": "3b302fad",
   "metadata": {},
   "outputs": [
    {
     "name": "stdout",
     "output_type": "stream",
     "text": [
      "{'Activity': 1, 'Organisation': 2, 'ArchitecturalStructure': 3, 'Event': 4, 'Place': 5, 'Person': 6, 'Work': 7}\n"
     ]
    }
   ],
   "source": [
    "labels_dict = {  \n",
    "            'Activity': 1,\n",
    "            'Organisation': 2,\n",
    "            'ArchitecturalStructure': 3,\n",
    "            'Event': 4,\n",
    "            'Place': 5,\n",
    "            'Person': 6,\n",
    "            'Work': 7,\n",
    "                }\n",
    "labels_dict_rev={v:k for k,v in labels_dict.items()}\n",
    "print(labels_dict)"
   ]
  },
  {
   "cell_type": "markdown",
   "id": "67338402",
   "metadata": {},
   "source": [
    "### Generate table embeddings for all tables and save in npy"
   ]
  },
  {
   "cell_type": "code",
   "execution_count": 14,
   "id": "df34ed9b",
   "metadata": {},
   "outputs": [
    {
     "data": {
      "text/plain": [
       "torch.Size([768])"
      ]
     },
     "execution_count": 14,
     "metadata": {},
     "output_type": "execute_result"
    }
   ],
   "source": [
    "test = process_single_table_gpt(model, tokenizer, ner_tables[0][0])\n",
    "test.shape"
   ]
  },
  {
   "cell_type": "code",
   "execution_count": 15,
   "id": "5741cb83",
   "metadata": {
    "scrolled": true
   },
   "outputs": [],
   "source": [
    "all_table_embeddings = []\n",
    "for i in range(len(ner_tables)):       \n",
    "    table = ner_tables[i][0]\n",
    "    table_embedding = process_single_table_gpt(model, tokenizer, table)\n",
    "    all_table_embeddings.append(table_embedding)\n",
    "    \n",
    "all_table_embeddings = np.array(all_table_embeddings)\n",
    "np.save('../data/bert_all_table_embeddings.npy', all_table_embeddings)"
   ]
  },
  {
   "cell_type": "code",
   "execution_count": 16,
   "id": "0cd43ef5",
   "metadata": {},
   "outputs": [
    {
     "data": {
      "text/plain": [
       "(61273, 768)"
      ]
     },
     "execution_count": 16,
     "metadata": {},
     "output_type": "execute_result"
    }
   ],
   "source": [
    "all_table_embeddings.shape"
   ]
  },
  {
   "cell_type": "code",
   "execution_count": 19,
   "id": "2e305070",
   "metadata": {},
   "outputs": [],
   "source": [
    "train_set, test_set = torch.utils.data.random_split(ner_tables, [31273, 30000], generator=generator)"
   ]
  },
  {
   "cell_type": "code",
   "execution_count": 20,
   "id": "c4bd5a58",
   "metadata": {},
   "outputs": [],
   "source": [
    "train_embeddings = all_table_embeddings[train_set.indices]"
   ]
  },
  {
   "cell_type": "markdown",
   "id": "22ac1f98",
   "metadata": {},
   "source": [
    "### Look for the 5 most similar tables to each test table, save indices and then generate prompt demos "
   ]
  },
  {
   "cell_type": "code",
   "execution_count": null,
   "id": "10e4f276",
   "metadata": {},
   "outputs": [],
   "source": [
    "similar_sets = []\n",
    "for idx in test_set.indices:            \n",
    "    similar = np.dot(all_table_embeddings[idx], train_embeddings.T)\n",
    "    top3_similar_tables_indices = np.argsort(similar, axis=0)[-5:]    \n",
    "    similar_sets.append(tuple(top3_similar_tables_indices))"
   ]
  },
  {
   "cell_type": "code",
   "execution_count": 22,
   "id": "4f30b329",
   "metadata": {},
   "outputs": [],
   "source": [
    "expand = [item for subset in similar_sets for item in subset]"
   ]
  },
  {
   "cell_type": "markdown",
   "id": "344e482d",
   "metadata": {},
   "source": [
    "#### Some of the tables repeat, therefore we take the set of all the similar sets. For these tables, we get the correct annotations and prepare them for input to the prompt. We save them into a dict {tab_id: example_rows, example_NER_annotations}"
   ]
  },
  {
   "cell_type": "code",
   "execution_count": 34,
   "id": "d1281f1b",
   "metadata": {},
   "outputs": [
    {
     "data": {
      "text/plain": [
       "12802"
      ]
     },
     "execution_count": 34,
     "metadata": {},
     "output_type": "execute_result"
    }
   ],
   "source": [
    "len(set(expand))"
   ]
  },
  {
   "cell_type": "code",
   "execution_count": 54,
   "id": "e6230ebd",
   "metadata": {},
   "outputs": [],
   "source": [
    "# to generate the gt for the indices\n",
    "similar_tables = {}\n",
    "for i in expand:\n",
    "    tab_idx = train_set.indices[i]\n",
    "    table = ner_tables[tab_idx][0]   \n",
    "    \n",
    "    example_rows, example_NER_annotations, _ = get_correct_anno(table, labels_dict_rev)        \n",
    "    similar_tables[tab_idx] = [example_rows, example_NER_annotations]    "
   ]
  },
  {
   "cell_type": "code",
   "execution_count": 55,
   "id": "cc1340e2",
   "metadata": {},
   "outputs": [
    {
     "data": {
      "text/plain": [
       "35002"
      ]
     },
     "execution_count": 55,
     "metadata": {},
     "output_type": "execute_result"
    }
   ],
   "source": [
    "train_set.indices[5439]"
   ]
  },
  {
   "cell_type": "code",
   "execution_count": 56,
   "id": "95169399",
   "metadata": {
    "scrolled": true
   },
   "outputs": [
    {
     "data": {
      "text/plain": [
       "[['31890250-3',\n",
       "  'Ladytron discography',\n",
       "  'Compilation albums',\n",
       "  'Compilation albums',\n",
       "  [[[-1, 0], 'Title'],\n",
       "   [[-1, 1], 'Album details'],\n",
       "   [[-1, 2], 'Peak chart positions']],\n",
       "  [[[0, 0], 'Softcore Jukebox'],\n",
       "   [[0, 1], 'Released: 7 October 2003 Label: Emperor Norton Format: CD'],\n",
       "   [[0, 2], '24'],\n",
       "   [[1, 0], 'Best of Remixes'],\n",
       "   [[1, 1], 'Released: 8 March 2011 Label: Nettwerk Format: Digital download'],\n",
       "   [[1, 2], '—'],\n",
       "   [[2, 0], 'Best of 00–10'],\n",
       "   [[2, 1],\n",
       "    'Released: 28 March 2011 Label: Nettwerk Format: CD , digital download'],\n",
       "   [[2, 2], '—']],\n",
       "  [[[[0, 0, 0, 16, 7]]],\n",
       "   [[[0, 1, 32, 46, 2], [0, 1, 55, 57, 0]]],\n",
       "   [[[1, 0, 0, 15, 7]]],\n",
       "   [[[1, 1, 30, 38, 2], [1, 1, 47, 63, 7]]],\n",
       "   [[[2, 0, 0, 13, 7]]],\n",
       "   [[[2, 1, 31, 39, 2], [2, 1, 48, 50, 0], [2, 1, 53, 69, 7]]]]]]"
      ]
     },
     "execution_count": 56,
     "metadata": {},
     "output_type": "execute_result"
    }
   ],
   "source": [
    "ner_tables[35002]"
   ]
  },
  {
   "cell_type": "code",
   "execution_count": 57,
   "id": "4b01848b",
   "metadata": {},
   "outputs": [
    {
     "data": {
      "text/plain": [
       "['Table:\\nTitle|Album details|Peak chart positions\\nSoftcore Jukebox|Released: 7 October 2003 Label: Emperor Norton Format: CD|24\\nBest of Remixes|Released: 8 March 2011 Label: Nettwerk Format: Digital download|—\\nBest of 00–10|Released: 28 March 2011 Label: Nettwerk Format: CD , digital download|—\\n',\n",
       " [{'entity': 'Softcore Jukebox', 'type': 'Work', 'cell_index': [0, 0]},\n",
       "  {'entity': 'Emperor Norton', 'type': 'Organisation', 'cell_index': [0, 1]},\n",
       "  {'entity': 'Best of Remixes', 'type': 'Work', 'cell_index': [1, 0]},\n",
       "  {'entity': 'Nettwerk', 'type': 'Organisation', 'cell_index': [1, 1]},\n",
       "  {'entity': 'Digital download', 'type': 'Work', 'cell_index': [1, 1]},\n",
       "  {'entity': 'Best of 00–10', 'type': 'Work', 'cell_index': [2, 0]},\n",
       "  {'entity': 'Nettwerk', 'type': 'Organisation', 'cell_index': [2, 1]},\n",
       "  {'entity': 'digital download', 'type': 'Work', 'cell_index': [2, 1]}]]"
      ]
     },
     "execution_count": 57,
     "metadata": {},
     "output_type": "execute_result"
    }
   ],
   "source": [
    "similar_tables[35002]"
   ]
  },
  {
   "cell_type": "code",
   "execution_count": 60,
   "id": "636e46b7",
   "metadata": {},
   "outputs": [],
   "source": [
    "with open(\"../output/similar_tables_examples.json\", \"w\") as f:\n",
    "    json.dump(similar_tables,f)"
   ]
  }
 ],
 "metadata": {
  "kernelspec": {
   "display_name": "wikitabner",
   "language": "python",
   "name": "wikitabner"
  },
  "language_info": {
   "codemirror_mode": {
    "name": "ipython",
    "version": 3
   },
   "file_extension": ".py",
   "mimetype": "text/x-python",
   "name": "python",
   "nbconvert_exporter": "python",
   "pygments_lexer": "ipython3",
   "version": "3.9.6"
  }
 },
 "nbformat": 4,
 "nbformat_minor": 5
}
