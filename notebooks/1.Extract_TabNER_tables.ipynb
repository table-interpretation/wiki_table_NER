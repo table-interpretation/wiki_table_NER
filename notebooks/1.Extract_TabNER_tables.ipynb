{
 "cells": [
  {
   "cell_type": "markdown",
   "id": "19a533ea",
   "metadata": {},
   "source": [
    "### In this notebook we extract complex tables from the WikiTables corpus. "
   ]
  },
  {
   "cell_type": "code",
   "execution_count": 1,
   "id": "cd8999fa",
   "metadata": {},
   "outputs": [],
   "source": [
    "import pandas as pd\n",
    "from bs4 import BeautifulSoup\n",
    "from tqdm import tqdm\n",
    "import numpy as np\n",
    "import json\n",
    "import spacy\n",
    "import tqdm\n",
    "import csv\n",
    "import os"
   ]
  },
  {
   "cell_type": "code",
   "execution_count": 2,
   "id": "12e11ad8",
   "metadata": {},
   "outputs": [],
   "source": [
    "# These are the tables in the WikiTables dataset. \n",
    "# It can be downloaded from here http://websail-fe.cs.northwestern.edu/TabEL/\n",
    "original_wikitables = \"../data/WikiTables/tables.json\""
   ]
  },
  {
   "cell_type": "code",
   "execution_count": 3,
   "id": "68eca564",
   "metadata": {},
   "outputs": [],
   "source": [
    "# helper function to identify subject column\n",
    "def allUnique(x):\n",
    "    seen = set()\n",
    "    return not any(i in seen or seen.add(i) for i in x)"
   ]
  },
  {
   "cell_type": "code",
   "execution_count": 4,
   "id": "48af849f",
   "metadata": {},
   "outputs": [
    {
     "name": "stderr",
     "output_type": "stream",
     "text": [
      "68939it [48:33, 23.66it/s] \n"
     ]
    }
   ],
   "source": [
    "f = open(\"../data/wiki_tabner_original.json\", mode=\"a\")\n",
    "\n",
    "with tqdm.tqdm() as progress:\n",
    "    with pd.read_json(\"../data/WikiTables/tables.json\", lines=True, chunksize=200) as reader:\n",
    "            for chunk in reader:\n",
    "                for index, t in chunk.iterrows():\n",
    "\n",
    "                    #initial table filter: more than 2 columns and more than 3 rows\n",
    "                    if int(t[\"numCols\"])>=2 and int(t[\"numDataRows\"])>=3:\n",
    "\n",
    "                        numcols = t['numCols']\n",
    "                        table = t[\"tableData\"]\n",
    "                        headers = t[\"tableHeaders\"]\n",
    "                        data_rows = [ r for r in table ]                \n",
    "\n",
    "                        max_subject_index = 1\n",
    "                        subject_col=None\n",
    "                        for col_index in range(numcols):\n",
    "\n",
    "                            cell_texts=[]\n",
    "                            subjects = []\n",
    "                            subjects=[row[col_index][\"text\"] for row in data_rows]\n",
    "                            cells = [row[col_index] for row in data_rows ] \n",
    "                            total_num_cell=len(cells)  \n",
    "\n",
    "                            if subject_col != None: \n",
    "                                linkspercell = []  \n",
    "                                linked_cells = 0   \n",
    "                                for cell in cells:\n",
    "                                    soup = BeautifulSoup(cell[\"tdHtmlString\"], \"html.parser\")\n",
    "                                    atags = soup.find_all(\"a\", href=True)\n",
    "                                    linkspercell.append(len(atags))\n",
    "                                    if len(atags) >= 1:\n",
    "                                        linked_cells+=1\n",
    "                                perc_linked_cells = linked_cells/total_num_cell\n",
    "                                avg_links = np.mean(linkspercell)\n",
    "                            \n",
    "                            \n",
    "                                # add table if it satisfy all conditions                           \n",
    "                                if perc_linked_cells >= 0.9 and avg_links >= 2.0:\n",
    "\n",
    "                                    df_to_write = pd.DataFrame(columns=t.keys())\n",
    "                                    df_to_write.loc[0]=t\n",
    "\n",
    "                                    f.write(df_to_write.to_json(orient=\"records\", lines=True))\n",
    "                                    progress.update()\n",
    "                                    break\n",
    "\n",
    "\n",
    "                            if allUnique(subjects):\n",
    "                                subject_col = col_index\n",
    "                                # continue considering this table\n",
    "\n",
    "                            #if there is no subject column in the first two columns break\n",
    "                            if col_index == max_subject_index and subject_col==None:\n",
    "                                break\n",
    "f.close()"
   ]
  },
  {
   "cell_type": "code",
   "execution_count": 5,
   "id": "c038e9bc",
   "metadata": {},
   "outputs": [],
   "source": [
    "dfs = pd.read_json(\"../data/wiki_tabner_original.json\",lines=True)"
   ]
  },
  {
   "cell_type": "code",
   "execution_count": 6,
   "id": "97bc2e50",
   "metadata": {},
   "outputs": [
    {
     "data": {
      "text/plain": [
       "68939"
      ]
     },
     "execution_count": 6,
     "metadata": {},
     "output_type": "execute_result"
    }
   ],
   "source": [
    "len(dfs)"
   ]
  },
  {
   "cell_type": "code",
   "execution_count": 13,
   "id": "2c5eb075",
   "metadata": {},
   "outputs": [],
   "source": [
    "overall_num_rows = []\n",
    "overall_num_cols = []\n",
    "linkspercell = []\n",
    "percent = []\n",
    "no_cells = []\n",
    "\n",
    "for index, df in dfs_clean.iterrows():\n",
    "    table = df[\"tableData\"]\n",
    "    rows = [ r for r in table ]\n",
    "    cells = [cell for row in rows for cell in row]\n",
    "\n",
    "    total_num_cell = len(cells)\n",
    "    num_rows = len(rows)\n",
    "    num_cols = df[\"numCols\"]\n",
    "\n",
    "    overall_num_rows.append(num_rows)\n",
    "    overall_num_cols.append(num_cols)\n",
    "\n",
    "    linked_cells = 0\n",
    "    for cell in cells:\n",
    "        if len(cell[\"surfaceLinks\"])>0:\n",
    "            linkspercell.append(len(cell[\"surfaceLinks\"]))\n",
    "            linked_cells+=1\n",
    "       # print(\"Total cells, linked cells\", total_num_cell, linked_cells)\n",
    "    perc_linked_cells = linked_cells/total_num_cell\n",
    "    percent.append(perc_linked_cells)"
   ]
  },
  {
   "cell_type": "code",
   "execution_count": 14,
   "id": "e3195c5b",
   "metadata": {},
   "outputs": [
    {
     "data": {
      "text/plain": [
       "(5.19524930725738, 12.598193263178127, 2.0109193481486645, 2.1236033779412002)"
      ]
     },
     "execution_count": 14,
     "metadata": {},
     "output_type": "execute_result"
    }
   ],
   "source": [
    "# Extracted TabNER tables\n",
    "(np.mean(overall_num_cols), np.mean(overall_num_rows), np.mean(linkspercell), np.std(linkspercell))"
   ]
  },
  {
   "cell_type": "markdown",
   "id": "f4a0a1e4",
   "metadata": {},
   "source": [
    "Filtering tables with names such as Exteranl Links. These are tables with densly linked cells, however these links do not refer to entities."
   ]
  },
  {
   "cell_type": "code",
   "execution_count": 9,
   "id": "87c862e3",
   "metadata": {},
   "outputs": [
    {
     "name": "stderr",
     "output_type": "stream",
     "text": [
      "62433it [01:15, 824.28it/s] \n"
     ]
    }
   ],
   "source": [
    "illegal_tables=[\"External links\",\"References\",\"\",\"sources\"]\n",
    "\n",
    "f = open(\"../data/wiki_tabner_original_clean.json\", mode=\"a\")\n",
    "\n",
    "with tqdm.tqdm() as progress:\n",
    "    with pd.read_json(\"../data/wiki_tabner_original.json\", lines=True, chunksize=1000) as reader:\n",
    "                for chunk in reader:\n",
    "                    for index, t in chunk.iterrows():\n",
    "                    \n",
    "                    # add table if not illegal caption  \n",
    "                        if t[\"tableCaption\"] not in illegal_tables:\n",
    "\n",
    "                            df_to_write = pd.DataFrame(columns=t.keys())\n",
    "                            df_to_write.loc[0]=t\n",
    "                            \n",
    "                            f.write(df_to_write.to_json(orient=\"records\", lines=True))\n",
    "                            progress.update()\n",
    "f.close()"
   ]
  },
  {
   "cell_type": "code",
   "execution_count": 10,
   "id": "aa1be4f2",
   "metadata": {},
   "outputs": [],
   "source": [
    "dfs_clean = pd.read_json(\"../data/wiki_tabner_original_clean.json\",lines=True)"
   ]
  },
  {
   "cell_type": "code",
   "execution_count": 11,
   "id": "78756abb",
   "metadata": {},
   "outputs": [
    {
     "data": {
      "text/plain": [
       "62433"
      ]
     },
     "execution_count": 11,
     "metadata": {},
     "output_type": "execute_result"
    }
   ],
   "source": [
    "len(dfs_clean)"
   ]
  },
  {
   "cell_type": "code",
   "execution_count": 12,
   "id": "f8c834ef",
   "metadata": {},
   "outputs": [
    {
     "data": {
      "text/html": [
       "<div>\n",
       "<style scoped>\n",
       "    .dataframe tbody tr th:only-of-type {\n",
       "        vertical-align: middle;\n",
       "    }\n",
       "\n",
       "    .dataframe tbody tr th {\n",
       "        vertical-align: top;\n",
       "    }\n",
       "\n",
       "    .dataframe thead th {\n",
       "        text-align: right;\n",
       "    }\n",
       "</style>\n",
       "<table border=\"1\" class=\"dataframe\">\n",
       "  <thead>\n",
       "    <tr style=\"text-align: right;\">\n",
       "      <th></th>\n",
       "      <th>_id</th>\n",
       "      <th>numCols</th>\n",
       "      <th>numDataRows</th>\n",
       "      <th>numHeaderRows</th>\n",
       "      <th>numericColumns</th>\n",
       "      <th>order</th>\n",
       "      <th>pgId</th>\n",
       "      <th>pgTitle</th>\n",
       "      <th>sectionTitle</th>\n",
       "      <th>tableCaption</th>\n",
       "      <th>tableData</th>\n",
       "      <th>tableHeaders</th>\n",
       "      <th>tableId</th>\n",
       "    </tr>\n",
       "  </thead>\n",
       "  <tbody>\n",
       "    <tr>\n",
       "      <th>0</th>\n",
       "      <td>10003473-2</td>\n",
       "      <td>5</td>\n",
       "      <td>25</td>\n",
       "      <td>1</td>\n",
       "      <td>[0]</td>\n",
       "      <td>0.120435</td>\n",
       "      <td>10003473</td>\n",
       "      <td>Memphis Tigers men's basketball</td>\n",
       "      <td>NCAA Tournament Results</td>\n",
       "      <td>NCAA Tournament Results</td>\n",
       "      <td>[[{'cellID': -1, 'textTokens': [], 'text': '19...</td>\n",
       "      <td>[[{'cellID': -1, 'textTokens': [], 'text': 'Ye...</td>\n",
       "      <td>2</td>\n",
       "    </tr>\n",
       "    <tr>\n",
       "      <th>1</th>\n",
       "      <td>100040-4</td>\n",
       "      <td>3</td>\n",
       "      <td>10</td>\n",
       "      <td>1</td>\n",
       "      <td>[]</td>\n",
       "      <td>0.680097</td>\n",
       "      <td>100040</td>\n",
       "      <td>Richmond Football Club</td>\n",
       "      <td>\"100 Tiger Treasures\"</td>\n",
       "      <td>\"100 Tiger Treasures\"</td>\n",
       "      <td>[[{'cellID': -1, 'textTokens': [], 'text': 'Be...</td>\n",
       "      <td>[[{'cellID': -1, 'textTokens': [], 'text': 'Aw...</td>\n",
       "      <td>4</td>\n",
       "    </tr>\n",
       "    <tr>\n",
       "      <th>2</th>\n",
       "      <td>10004068-1</td>\n",
       "      <td>5</td>\n",
       "      <td>9</td>\n",
       "      <td>1</td>\n",
       "      <td>[0]</td>\n",
       "      <td>0.448135</td>\n",
       "      <td>10004068</td>\n",
       "      <td>Red Bull BC One</td>\n",
       "      <td>Winners</td>\n",
       "      <td>Winners</td>\n",
       "      <td>[[{'cellID': -1, 'textTokens': [], 'text': '20...</td>\n",
       "      <td>[[{'cellID': -1, 'textTokens': [], 'text': 'Ye...</td>\n",
       "      <td>1</td>\n",
       "    </tr>\n",
       "  </tbody>\n",
       "</table>\n",
       "</div>"
      ],
      "text/plain": [
       "          _id  numCols  numDataRows  numHeaderRows numericColumns     order  \\\n",
       "0  10003473-2        5           25              1            [0]  0.120435   \n",
       "1    100040-4        3           10              1             []  0.680097   \n",
       "2  10004068-1        5            9              1            [0]  0.448135   \n",
       "\n",
       "       pgId                          pgTitle             sectionTitle  \\\n",
       "0  10003473  Memphis Tigers men's basketball  NCAA Tournament Results   \n",
       "1    100040           Richmond Football Club    \"100 Tiger Treasures\"   \n",
       "2  10004068                  Red Bull BC One                  Winners   \n",
       "\n",
       "              tableCaption                                          tableData  \\\n",
       "0  NCAA Tournament Results  [[{'cellID': -1, 'textTokens': [], 'text': '19...   \n",
       "1    \"100 Tiger Treasures\"  [[{'cellID': -1, 'textTokens': [], 'text': 'Be...   \n",
       "2                  Winners  [[{'cellID': -1, 'textTokens': [], 'text': '20...   \n",
       "\n",
       "                                        tableHeaders  tableId  \n",
       "0  [[{'cellID': -1, 'textTokens': [], 'text': 'Ye...        2  \n",
       "1  [[{'cellID': -1, 'textTokens': [], 'text': 'Aw...        4  \n",
       "2  [[{'cellID': -1, 'textTokens': [], 'text': 'Ye...        1  "
      ]
     },
     "execution_count": 12,
     "metadata": {},
     "output_type": "execute_result"
    }
   ],
   "source": [
    "dfs_clean.head(3)"
   ]
  },
  {
   "cell_type": "code",
   "execution_count": null,
   "id": "d7732d81",
   "metadata": {},
   "outputs": [],
   "source": []
  }
 ],
 "metadata": {
  "kernelspec": {
   "display_name": "wikitabner",
   "language": "python",
   "name": "wikitabner"
  },
  "language_info": {
   "codemirror_mode": {
    "name": "ipython",
    "version": 3
   },
   "file_extension": ".py",
   "mimetype": "text/x-python",
   "name": "python",
   "nbconvert_exporter": "python",
   "pygments_lexer": "ipython3",
   "version": "3.9.6"
  }
 },
 "nbformat": 4,
 "nbformat_minor": 5
}
